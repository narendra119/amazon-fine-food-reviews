{
 "cells": [
  {
   "cell_type": "code",
   "execution_count": 1,
   "metadata": {},
   "outputs": [
    {
     "name": "stderr",
     "output_type": "stream",
     "text": [
      "C:\\Users\\Sai charan\\Anaconda3\\lib\\site-packages\\gensim\\utils.py:1197: UserWarning: detected Windows; aliasing chunkize to chunkize_serial\n",
      "  warnings.warn(\"detected Windows; aliasing chunkize to chunkize_serial\")\n"
     ]
    }
   ],
   "source": [
    "# Importing libraries\n",
    "import warnings\n",
    "warnings.filterwarnings(\"ignore\")\n",
    "\n",
    "import sqlite3\n",
    "import pandas as pd\n",
    "import numpy as np\n",
    "import nltk\n",
    "import string\n",
    "import matplotlib.pyplot as plt\n",
    "%matplotlib inline\n",
    "import seaborn as sns\n",
    "from sklearn.feature_extraction.text import TfidfTransformer\n",
    "from sklearn.feature_extraction.text import TfidfVectorizer\n",
    "\n",
    "from sklearn.feature_extraction.text import CountVectorizer\n",
    "from nltk.stem.porter import PorterStemmer\n",
    "\n",
    "import re\n",
    "\n",
    "import string\n",
    "from nltk.corpus import stopwords\n",
    "from nltk.stem import PorterStemmer\n",
    "from nltk.stem.wordnet import WordNetLemmatizer\n",
    "\n",
    "from gensim.models import Word2Vec\n",
    "from gensim.models import KeyedVectors\n",
    "import pickle"
   ]
  },
  {
   "cell_type": "code",
   "execution_count": 2,
   "metadata": {},
   "outputs": [
    {
     "name": "stdout",
     "output_type": "stream",
     "text": [
      "(364171, 12)\n"
     ]
    },
    {
     "data": {
      "text/html": [
       "<div>\n",
       "<style scoped>\n",
       "    .dataframe tbody tr th:only-of-type {\n",
       "        vertical-align: middle;\n",
       "    }\n",
       "\n",
       "    .dataframe tbody tr th {\n",
       "        vertical-align: top;\n",
       "    }\n",
       "\n",
       "    .dataframe thead th {\n",
       "        text-align: right;\n",
       "    }\n",
       "</style>\n",
       "<table border=\"1\" class=\"dataframe\">\n",
       "  <thead>\n",
       "    <tr style=\"text-align: right;\">\n",
       "      <th></th>\n",
       "      <th>index</th>\n",
       "      <th>Id</th>\n",
       "      <th>ProductId</th>\n",
       "      <th>UserId</th>\n",
       "      <th>ProfileName</th>\n",
       "      <th>HelpfulnessNumerator</th>\n",
       "      <th>HelpfulnessDenominator</th>\n",
       "      <th>Score</th>\n",
       "      <th>Time</th>\n",
       "      <th>Summary</th>\n",
       "      <th>Text</th>\n",
       "      <th>CleanedText</th>\n",
       "    </tr>\n",
       "  </thead>\n",
       "  <tbody>\n",
       "    <tr>\n",
       "      <th>0</th>\n",
       "      <td>138706</td>\n",
       "      <td>150524</td>\n",
       "      <td>0006641040</td>\n",
       "      <td>ACITT7DI6IDDL</td>\n",
       "      <td>shari zychinski</td>\n",
       "      <td>0</td>\n",
       "      <td>0</td>\n",
       "      <td>positive</td>\n",
       "      <td>939340800</td>\n",
       "      <td>EVERY book is educational</td>\n",
       "      <td>this witty little book makes my son laugh at l...</td>\n",
       "      <td>witti littl book make son laugh loud recit car...</td>\n",
       "    </tr>\n",
       "    <tr>\n",
       "      <th>1</th>\n",
       "      <td>138688</td>\n",
       "      <td>150506</td>\n",
       "      <td>0006641040</td>\n",
       "      <td>A2IW4PEEKO2R0U</td>\n",
       "      <td>Tracy</td>\n",
       "      <td>1</td>\n",
       "      <td>1</td>\n",
       "      <td>positive</td>\n",
       "      <td>1194739200</td>\n",
       "      <td>Love the book, miss the hard cover version</td>\n",
       "      <td>I grew up reading these Sendak books, and watc...</td>\n",
       "      <td>grew read sendak book watch realli rosi movi i...</td>\n",
       "    </tr>\n",
       "    <tr>\n",
       "      <th>2</th>\n",
       "      <td>138689</td>\n",
       "      <td>150507</td>\n",
       "      <td>0006641040</td>\n",
       "      <td>A1S4A3IQ2MU7V4</td>\n",
       "      <td>sally sue \"sally sue\"</td>\n",
       "      <td>1</td>\n",
       "      <td>1</td>\n",
       "      <td>positive</td>\n",
       "      <td>1191456000</td>\n",
       "      <td>chicken soup with rice months</td>\n",
       "      <td>This is a fun way for children to learn their ...</td>\n",
       "      <td>fun way children learn month year learn poem t...</td>\n",
       "    </tr>\n",
       "    <tr>\n",
       "      <th>3</th>\n",
       "      <td>138690</td>\n",
       "      <td>150508</td>\n",
       "      <td>0006641040</td>\n",
       "      <td>AZGXZ2UUK6X</td>\n",
       "      <td>Catherine Hallberg \"(Kate)\"</td>\n",
       "      <td>1</td>\n",
       "      <td>1</td>\n",
       "      <td>positive</td>\n",
       "      <td>1076025600</td>\n",
       "      <td>a good swingy rhythm for reading aloud</td>\n",
       "      <td>This is a great little book to read aloud- it ...</td>\n",
       "      <td>great littl book read nice rhythm well good re...</td>\n",
       "    </tr>\n",
       "    <tr>\n",
       "      <th>4</th>\n",
       "      <td>138691</td>\n",
       "      <td>150509</td>\n",
       "      <td>0006641040</td>\n",
       "      <td>A3CMRKGE0P909G</td>\n",
       "      <td>Teresa</td>\n",
       "      <td>3</td>\n",
       "      <td>4</td>\n",
       "      <td>positive</td>\n",
       "      <td>1018396800</td>\n",
       "      <td>A great way to learn the months</td>\n",
       "      <td>This is a book of poetry about the months of t...</td>\n",
       "      <td>book poetri month year goe month cute littl po...</td>\n",
       "    </tr>\n",
       "  </tbody>\n",
       "</table>\n",
       "</div>"
      ],
      "text/plain": [
       "    index      Id   ProductId          UserId                  ProfileName  \\\n",
       "0  138706  150524  0006641040   ACITT7DI6IDDL              shari zychinski   \n",
       "1  138688  150506  0006641040  A2IW4PEEKO2R0U                        Tracy   \n",
       "2  138689  150507  0006641040  A1S4A3IQ2MU7V4        sally sue \"sally sue\"   \n",
       "3  138690  150508  0006641040     AZGXZ2UUK6X  Catherine Hallberg \"(Kate)\"   \n",
       "4  138691  150509  0006641040  A3CMRKGE0P909G                       Teresa   \n",
       "\n",
       "   HelpfulnessNumerator  HelpfulnessDenominator     Score        Time  \\\n",
       "0                     0                       0  positive   939340800   \n",
       "1                     1                       1  positive  1194739200   \n",
       "2                     1                       1  positive  1191456000   \n",
       "3                     1                       1  positive  1076025600   \n",
       "4                     3                       4  positive  1018396800   \n",
       "\n",
       "                                      Summary  \\\n",
       "0                   EVERY book is educational   \n",
       "1  Love the book, miss the hard cover version   \n",
       "2               chicken soup with rice months   \n",
       "3      a good swingy rhythm for reading aloud   \n",
       "4             A great way to learn the months   \n",
       "\n",
       "                                                Text  \\\n",
       "0  this witty little book makes my son laugh at l...   \n",
       "1  I grew up reading these Sendak books, and watc...   \n",
       "2  This is a fun way for children to learn their ...   \n",
       "3  This is a great little book to read aloud- it ...   \n",
       "4  This is a book of poetry about the months of t...   \n",
       "\n",
       "                                         CleanedText  \n",
       "0  witti littl book make son laugh loud recit car...  \n",
       "1  grew read sendak book watch realli rosi movi i...  \n",
       "2  fun way children learn month year learn poem t...  \n",
       "3  great littl book read nice rhythm well good re...  \n",
       "4  book poetri month year goe month cute littl po...  "
      ]
     },
     "execution_count": 2,
     "metadata": {},
     "output_type": "execute_result"
    }
   ],
   "source": [
    "con1 = sqlite3.connect('final.sqlite')\n",
    "filtered_data = pd.read_sql_query(\" SELECT * FROM Reviews \", con1)\n",
    "\n",
    "\n",
    "print(filtered_data.shape)\n",
    "filtered_data.head()"
   ]
  },
  {
   "cell_type": "markdown",
   "metadata": {},
   "source": [
    "# Data Cleaning: Deduplication"
   ]
  },
  {
   "cell_type": "code",
   "execution_count": 3,
   "metadata": {},
   "outputs": [
    {
     "name": "stdout",
     "output_type": "stream",
     "text": [
      "(364171, 12)\n"
     ]
    },
    {
     "data": {
      "text/plain": [
       "100.0"
      ]
     },
     "execution_count": 3,
     "metadata": {},
     "output_type": "execute_result"
    }
   ],
   "source": [
    "sorted_data=filtered_data.sort_values('ProductId', axis=0, ascending=True, inplace=False, kind='quicksort', na_position='last')\n",
    "\n",
    "#Deduplication of entries\n",
    "final=sorted_data.drop_duplicates(subset={\"UserId\",\"ProfileName\",\"Time\",\"Text\"}, keep='first', inplace=False)\n",
    "print(final.shape)\n",
    "\n",
    "#Checking to see how much % of data still remains\n",
    "((final.shape[0]*1.0)/(filtered_data.shape[0]*1.0)*100)"
   ]
  },
  {
   "cell_type": "code",
   "execution_count": 4,
   "metadata": {},
   "outputs": [
    {
     "name": "stdout",
     "output_type": "stream",
     "text": [
      "(364171, 12)\n"
     ]
    },
    {
     "data": {
      "text/html": [
       "<div>\n",
       "<style scoped>\n",
       "    .dataframe tbody tr th:only-of-type {\n",
       "        vertical-align: middle;\n",
       "    }\n",
       "\n",
       "    .dataframe tbody tr th {\n",
       "        vertical-align: top;\n",
       "    }\n",
       "\n",
       "    .dataframe thead th {\n",
       "        text-align: right;\n",
       "    }\n",
       "</style>\n",
       "<table border=\"1\" class=\"dataframe\">\n",
       "  <thead>\n",
       "    <tr style=\"text-align: right;\">\n",
       "      <th></th>\n",
       "      <th>index</th>\n",
       "      <th>Id</th>\n",
       "      <th>ProductId</th>\n",
       "      <th>UserId</th>\n",
       "      <th>ProfileName</th>\n",
       "      <th>HelpfulnessNumerator</th>\n",
       "      <th>HelpfulnessDenominator</th>\n",
       "      <th>Score</th>\n",
       "      <th>Time</th>\n",
       "      <th>Summary</th>\n",
       "      <th>Text</th>\n",
       "      <th>CleanedText</th>\n",
       "    </tr>\n",
       "  </thead>\n",
       "  <tbody>\n",
       "    <tr>\n",
       "      <th>12</th>\n",
       "      <td>138700</td>\n",
       "      <td>150518</td>\n",
       "      <td>0006641040</td>\n",
       "      <td>AK1L4EJBA23JF</td>\n",
       "      <td>L. M. Kraus</td>\n",
       "      <td>0</td>\n",
       "      <td>0</td>\n",
       "      <td>positive</td>\n",
       "      <td>1288224000</td>\n",
       "      <td>love this book</td>\n",
       "      <td>Great book, perfect condition arrived in a sho...</td>\n",
       "      <td>great book perfect condit arriv short amount t...</td>\n",
       "    </tr>\n",
       "    <tr>\n",
       "      <th>13</th>\n",
       "      <td>138701</td>\n",
       "      <td>150519</td>\n",
       "      <td>0006641040</td>\n",
       "      <td>A12HY5OZ2QNK4N</td>\n",
       "      <td>Elizabeth H. Roessner</td>\n",
       "      <td>0</td>\n",
       "      <td>0</td>\n",
       "      <td>positive</td>\n",
       "      <td>1256774400</td>\n",
       "      <td>It's a great book!</td>\n",
       "      <td>I've always loved chicken soup and rice. My la...</td>\n",
       "      <td>ive alway love chicken soup rice late ethel al...</td>\n",
       "    </tr>\n",
       "    <tr>\n",
       "      <th>14</th>\n",
       "      <td>138702</td>\n",
       "      <td>150520</td>\n",
       "      <td>0006641040</td>\n",
       "      <td>ADBFSA9KTQANE</td>\n",
       "      <td>James L. Hammock \"Pucks Buddy\"</td>\n",
       "      <td>0</td>\n",
       "      <td>0</td>\n",
       "      <td>positive</td>\n",
       "      <td>1256688000</td>\n",
       "      <td>Great Gift</td>\n",
       "      <td>This book was purchased as a birthday gift for...</td>\n",
       "      <td>book purchas birthday gift year old boy squeal...</td>\n",
       "    </tr>\n",
       "    <tr>\n",
       "      <th>8</th>\n",
       "      <td>138696</td>\n",
       "      <td>150514</td>\n",
       "      <td>0006641040</td>\n",
       "      <td>A2ONB6ZA292PA</td>\n",
       "      <td>Rosalind Matzner</td>\n",
       "      <td>0</td>\n",
       "      <td>0</td>\n",
       "      <td>positive</td>\n",
       "      <td>1313884800</td>\n",
       "      <td>Chicken soup with Rice</td>\n",
       "      <td>It's a great book with adorable illustrations....</td>\n",
       "      <td>great book ador illustr true classic kid love ...</td>\n",
       "    </tr>\n",
       "    <tr>\n",
       "      <th>34</th>\n",
       "      <td>476617</td>\n",
       "      <td>515426</td>\n",
       "      <td>141278509X</td>\n",
       "      <td>AB1A5EGHHVA9M</td>\n",
       "      <td>CHelmic</td>\n",
       "      <td>1</td>\n",
       "      <td>1</td>\n",
       "      <td>positive</td>\n",
       "      <td>1332547200</td>\n",
       "      <td>The best drink mix</td>\n",
       "      <td>This product by Archer Farms is the best drink...</td>\n",
       "      <td>product archer farm best drink mix ever mix fl...</td>\n",
       "    </tr>\n",
       "    <tr>\n",
       "      <th>36</th>\n",
       "      <td>22620</td>\n",
       "      <td>24750</td>\n",
       "      <td>2734888454</td>\n",
       "      <td>A13ISQV0U9GZIC</td>\n",
       "      <td>Sandikaye</td>\n",
       "      <td>1</td>\n",
       "      <td>1</td>\n",
       "      <td>negative</td>\n",
       "      <td>1192060800</td>\n",
       "      <td>made in china</td>\n",
       "      <td>My dogs loves this chicken but its a product f...</td>\n",
       "      <td>dog love chicken product china wont buy anymor...</td>\n",
       "    </tr>\n",
       "    <tr>\n",
       "      <th>35</th>\n",
       "      <td>22621</td>\n",
       "      <td>24751</td>\n",
       "      <td>2734888454</td>\n",
       "      <td>A1C298ITT645B6</td>\n",
       "      <td>Hugh G. Pritchard</td>\n",
       "      <td>0</td>\n",
       "      <td>0</td>\n",
       "      <td>positive</td>\n",
       "      <td>1195948800</td>\n",
       "      <td>Dog Lover Delites</td>\n",
       "      <td>Our dogs just love them.  I saw them in a pet ...</td>\n",
       "      <td>dog love saw pet store tag attach regard made ...</td>\n",
       "    </tr>\n",
       "    <tr>\n",
       "      <th>37</th>\n",
       "      <td>284375</td>\n",
       "      <td>308077</td>\n",
       "      <td>2841233731</td>\n",
       "      <td>A3QD68O22M2XHQ</td>\n",
       "      <td>LABRNTH</td>\n",
       "      <td>0</td>\n",
       "      <td>0</td>\n",
       "      <td>positive</td>\n",
       "      <td>1345852800</td>\n",
       "      <td>Great recipe book for my babycook</td>\n",
       "      <td>This book is easy to read and the ingredients ...</td>\n",
       "      <td>book easi read ingredi avail store unlik recip...</td>\n",
       "    </tr>\n",
       "    <tr>\n",
       "      <th>142</th>\n",
       "      <td>157910</td>\n",
       "      <td>171225</td>\n",
       "      <td>7310172001</td>\n",
       "      <td>A314APAWYQFKBJ</td>\n",
       "      <td>Diana Hersholt \"dog lover\"</td>\n",
       "      <td>1</td>\n",
       "      <td>1</td>\n",
       "      <td>positive</td>\n",
       "      <td>1104796800</td>\n",
       "      <td>My dog loves these!</td>\n",
       "      <td>My dog is a very picky eater.  She has a very ...</td>\n",
       "      <td>dog picki eater sensit stomach special food tr...</td>\n",
       "    </tr>\n",
       "    <tr>\n",
       "      <th>143</th>\n",
       "      <td>157909</td>\n",
       "      <td>171224</td>\n",
       "      <td>7310172001</td>\n",
       "      <td>AK0CENM3LUM28</td>\n",
       "      <td>Ana Mardoll</td>\n",
       "      <td>1</td>\n",
       "      <td>1</td>\n",
       "      <td>positive</td>\n",
       "      <td>1222732800</td>\n",
       "      <td>Pure Puppy Addiction</td>\n",
       "      <td>Pro-Treat Freeze Dried Liver Dog Treats / B000...</td>\n",
       "      <td>freez dri liver dog treat sort product make wi...</td>\n",
       "    </tr>\n",
       "    <tr>\n",
       "      <th>144</th>\n",
       "      <td>157924</td>\n",
       "      <td>171240</td>\n",
       "      <td>7310172001</td>\n",
       "      <td>A2JCG7KT8HRSUJ</td>\n",
       "      <td>B. Le</td>\n",
       "      <td>0</td>\n",
       "      <td>0</td>\n",
       "      <td>positive</td>\n",
       "      <td>1346716800</td>\n",
       "      <td>Dogs favorite treat</td>\n",
       "      <td>We have a variety of treats for our two shitzu...</td>\n",
       "      <td>varieti treat two shitzus favorit liver nice b...</td>\n",
       "    </tr>\n",
       "    <tr>\n",
       "      <th>145</th>\n",
       "      <td>157925</td>\n",
       "      <td>171241</td>\n",
       "      <td>7310172001</td>\n",
       "      <td>ACBK6OXAMOHTE</td>\n",
       "      <td>Andrew Fox</td>\n",
       "      <td>0</td>\n",
       "      <td>0</td>\n",
       "      <td>positive</td>\n",
       "      <td>1345248000</td>\n",
       "      <td>Great for dog training</td>\n",
       "      <td>our dog responds to this more than any dog tre...</td>\n",
       "      <td>dog respond dog treat tri mani differ treat se...</td>\n",
       "    </tr>\n",
       "    <tr>\n",
       "      <th>146</th>\n",
       "      <td>157926</td>\n",
       "      <td>171242</td>\n",
       "      <td>7310172001</td>\n",
       "      <td>A12L1NY994GXSF</td>\n",
       "      <td>Dawn Rene</td>\n",
       "      <td>0</td>\n",
       "      <td>0</td>\n",
       "      <td>positive</td>\n",
       "      <td>1343001600</td>\n",
       "      <td>Freeze Dried Beef Liver</td>\n",
       "      <td>I have been giving the Stewart's Pro-Treat Fre...</td>\n",
       "      <td>give stewart freez dri beef liver maltipoo nam...</td>\n",
       "    </tr>\n",
       "    <tr>\n",
       "      <th>147</th>\n",
       "      <td>157907</td>\n",
       "      <td>171222</td>\n",
       "      <td>7310172001</td>\n",
       "      <td>A1CV6GLAPUIP80</td>\n",
       "      <td>Reader Rabbit</td>\n",
       "      <td>1</td>\n",
       "      <td>1</td>\n",
       "      <td>positive</td>\n",
       "      <td>1233619200</td>\n",
       "      <td>Our dog loves them!</td>\n",
       "      <td>Freeze-dried liver treats are easy to carry ar...</td>\n",
       "      <td>liver treat easi carri around treat pouch dont...</td>\n",
       "    </tr>\n",
       "    <tr>\n",
       "      <th>148</th>\n",
       "      <td>157927</td>\n",
       "      <td>171243</td>\n",
       "      <td>7310172001</td>\n",
       "      <td>A3P5V207OED3JS</td>\n",
       "      <td>I. Wong \"Y Square designs\"</td>\n",
       "      <td>0</td>\n",
       "      <td>0</td>\n",
       "      <td>positive</td>\n",
       "      <td>1342915200</td>\n",
       "      <td>Dogs go crazy for this</td>\n",
       "      <td>As another reviewer noted...This is like crack...</td>\n",
       "      <td>anoth review note like crack dog dog like jerk...</td>\n",
       "    </tr>\n",
       "    <tr>\n",
       "      <th>149</th>\n",
       "      <td>157928</td>\n",
       "      <td>171244</td>\n",
       "      <td>7310172001</td>\n",
       "      <td>ASST51ORV4IEK</td>\n",
       "      <td>Deborah Dean</td>\n",
       "      <td>0</td>\n",
       "      <td>0</td>\n",
       "      <td>positive</td>\n",
       "      <td>1342483200</td>\n",
       "      <td>Great for treats and training</td>\n",
       "      <td>I purchased the product to use with training m...</td>\n",
       "      <td>purchas product use train dog treat supplement...</td>\n",
       "    </tr>\n",
       "    <tr>\n",
       "      <th>151</th>\n",
       "      <td>157905</td>\n",
       "      <td>171220</td>\n",
       "      <td>7310172001</td>\n",
       "      <td>A265LZUGGVNVIV</td>\n",
       "      <td>Sandra</td>\n",
       "      <td>1</td>\n",
       "      <td>1</td>\n",
       "      <td>positive</td>\n",
       "      <td>1246665600</td>\n",
       "      <td>Pro-treat Freeze Dried Beef Liver</td>\n",
       "      <td>My Husky has always been a little 'picky' when...</td>\n",
       "      <td>huski alway littl picki eat breakfast even mea...</td>\n",
       "    </tr>\n",
       "    <tr>\n",
       "      <th>152</th>\n",
       "      <td>157886</td>\n",
       "      <td>171201</td>\n",
       "      <td>7310172001</td>\n",
       "      <td>A2EMJYWOXVQGIN</td>\n",
       "      <td>K. Rainey \"Kathy R\"</td>\n",
       "      <td>2</td>\n",
       "      <td>2</td>\n",
       "      <td>positive</td>\n",
       "      <td>1257552000</td>\n",
       "      <td>Best treats we've tried so far</td>\n",
       "      <td>My 5 month old lab goes nuts over these liver ...</td>\n",
       "      <td>month old lab goe nut liver treat vet recommen...</td>\n",
       "    </tr>\n",
       "    <tr>\n",
       "      <th>153</th>\n",
       "      <td>157885</td>\n",
       "      <td>171200</td>\n",
       "      <td>7310172001</td>\n",
       "      <td>A21D27EKHICKY3</td>\n",
       "      <td>C. Mayer</td>\n",
       "      <td>2</td>\n",
       "      <td>2</td>\n",
       "      <td>positive</td>\n",
       "      <td>1262822400</td>\n",
       "      <td>great treats</td>\n",
       "      <td>These are the best training treats you can buy...</td>\n",
       "      <td>best train treat buy dog motiv doggi class tre...</td>\n",
       "    </tr>\n",
       "    <tr>\n",
       "      <th>154</th>\n",
       "      <td>157932</td>\n",
       "      <td>171248</td>\n",
       "      <td>7310172001</td>\n",
       "      <td>A1KJH57UFCFUN0</td>\n",
       "      <td>Rocco &amp;amp; Lola</td>\n",
       "      <td>0</td>\n",
       "      <td>0</td>\n",
       "      <td>positive</td>\n",
       "      <td>1340323200</td>\n",
       "      <td>dogs love these!</td>\n",
       "      <td>My two boxes absolutely LOVE these freeze drie...</td>\n",
       "      <td>two box absolut love freez dri liver one favor...</td>\n",
       "    </tr>\n",
       "  </tbody>\n",
       "</table>\n",
       "</div>"
      ],
      "text/plain": [
       "      index      Id   ProductId          UserId  \\\n",
       "12   138700  150518  0006641040   AK1L4EJBA23JF   \n",
       "13   138701  150519  0006641040  A12HY5OZ2QNK4N   \n",
       "14   138702  150520  0006641040   ADBFSA9KTQANE   \n",
       "8    138696  150514  0006641040   A2ONB6ZA292PA   \n",
       "34   476617  515426  141278509X   AB1A5EGHHVA9M   \n",
       "36    22620   24750  2734888454  A13ISQV0U9GZIC   \n",
       "35    22621   24751  2734888454  A1C298ITT645B6   \n",
       "37   284375  308077  2841233731  A3QD68O22M2XHQ   \n",
       "142  157910  171225  7310172001  A314APAWYQFKBJ   \n",
       "143  157909  171224  7310172001   AK0CENM3LUM28   \n",
       "144  157924  171240  7310172001  A2JCG7KT8HRSUJ   \n",
       "145  157925  171241  7310172001   ACBK6OXAMOHTE   \n",
       "146  157926  171242  7310172001  A12L1NY994GXSF   \n",
       "147  157907  171222  7310172001  A1CV6GLAPUIP80   \n",
       "148  157927  171243  7310172001  A3P5V207OED3JS   \n",
       "149  157928  171244  7310172001   ASST51ORV4IEK   \n",
       "151  157905  171220  7310172001  A265LZUGGVNVIV   \n",
       "152  157886  171201  7310172001  A2EMJYWOXVQGIN   \n",
       "153  157885  171200  7310172001  A21D27EKHICKY3   \n",
       "154  157932  171248  7310172001  A1KJH57UFCFUN0   \n",
       "\n",
       "                        ProfileName  HelpfulnessNumerator  \\\n",
       "12                      L. M. Kraus                     0   \n",
       "13            Elizabeth H. Roessner                     0   \n",
       "14   James L. Hammock \"Pucks Buddy\"                     0   \n",
       "8                  Rosalind Matzner                     0   \n",
       "34                          CHelmic                     1   \n",
       "36                        Sandikaye                     1   \n",
       "35                Hugh G. Pritchard                     0   \n",
       "37                          LABRNTH                     0   \n",
       "142      Diana Hersholt \"dog lover\"                     1   \n",
       "143                     Ana Mardoll                     1   \n",
       "144                           B. Le                     0   \n",
       "145                      Andrew Fox                     0   \n",
       "146                       Dawn Rene                     0   \n",
       "147                   Reader Rabbit                     1   \n",
       "148      I. Wong \"Y Square designs\"                     0   \n",
       "149                    Deborah Dean                     0   \n",
       "151                          Sandra                     1   \n",
       "152             K. Rainey \"Kathy R\"                     2   \n",
       "153                        C. Mayer                     2   \n",
       "154                Rocco &amp; Lola                     0   \n",
       "\n",
       "     HelpfulnessDenominator     Score        Time  \\\n",
       "12                        0  positive  1288224000   \n",
       "13                        0  positive  1256774400   \n",
       "14                        0  positive  1256688000   \n",
       "8                         0  positive  1313884800   \n",
       "34                        1  positive  1332547200   \n",
       "36                        1  negative  1192060800   \n",
       "35                        0  positive  1195948800   \n",
       "37                        0  positive  1345852800   \n",
       "142                       1  positive  1104796800   \n",
       "143                       1  positive  1222732800   \n",
       "144                       0  positive  1346716800   \n",
       "145                       0  positive  1345248000   \n",
       "146                       0  positive  1343001600   \n",
       "147                       1  positive  1233619200   \n",
       "148                       0  positive  1342915200   \n",
       "149                       0  positive  1342483200   \n",
       "151                       1  positive  1246665600   \n",
       "152                       2  positive  1257552000   \n",
       "153                       2  positive  1262822400   \n",
       "154                       0  positive  1340323200   \n",
       "\n",
       "                               Summary  \\\n",
       "12                      love this book   \n",
       "13                  It's a great book!   \n",
       "14                          Great Gift   \n",
       "8               Chicken soup with Rice   \n",
       "34                  The best drink mix   \n",
       "36                       made in china   \n",
       "35                   Dog Lover Delites   \n",
       "37   Great recipe book for my babycook   \n",
       "142                My dog loves these!   \n",
       "143               Pure Puppy Addiction   \n",
       "144                Dogs favorite treat   \n",
       "145             Great for dog training   \n",
       "146            Freeze Dried Beef Liver   \n",
       "147                Our dog loves them!   \n",
       "148             Dogs go crazy for this   \n",
       "149      Great for treats and training   \n",
       "151  Pro-treat Freeze Dried Beef Liver   \n",
       "152     Best treats we've tried so far   \n",
       "153                       great treats   \n",
       "154                   dogs love these!   \n",
       "\n",
       "                                                  Text  \\\n",
       "12   Great book, perfect condition arrived in a sho...   \n",
       "13   I've always loved chicken soup and rice. My la...   \n",
       "14   This book was purchased as a birthday gift for...   \n",
       "8    It's a great book with adorable illustrations....   \n",
       "34   This product by Archer Farms is the best drink...   \n",
       "36   My dogs loves this chicken but its a product f...   \n",
       "35   Our dogs just love them.  I saw them in a pet ...   \n",
       "37   This book is easy to read and the ingredients ...   \n",
       "142  My dog is a very picky eater.  She has a very ...   \n",
       "143  Pro-Treat Freeze Dried Liver Dog Treats / B000...   \n",
       "144  We have a variety of treats for our two shitzu...   \n",
       "145  our dog responds to this more than any dog tre...   \n",
       "146  I have been giving the Stewart's Pro-Treat Fre...   \n",
       "147  Freeze-dried liver treats are easy to carry ar...   \n",
       "148  As another reviewer noted...This is like crack...   \n",
       "149  I purchased the product to use with training m...   \n",
       "151  My Husky has always been a little 'picky' when...   \n",
       "152  My 5 month old lab goes nuts over these liver ...   \n",
       "153  These are the best training treats you can buy...   \n",
       "154  My two boxes absolutely LOVE these freeze drie...   \n",
       "\n",
       "                                           CleanedText  \n",
       "12   great book perfect condit arriv short amount t...  \n",
       "13   ive alway love chicken soup rice late ethel al...  \n",
       "14   book purchas birthday gift year old boy squeal...  \n",
       "8    great book ador illustr true classic kid love ...  \n",
       "34   product archer farm best drink mix ever mix fl...  \n",
       "36   dog love chicken product china wont buy anymor...  \n",
       "35   dog love saw pet store tag attach regard made ...  \n",
       "37   book easi read ingredi avail store unlik recip...  \n",
       "142  dog picki eater sensit stomach special food tr...  \n",
       "143  freez dri liver dog treat sort product make wi...  \n",
       "144  varieti treat two shitzus favorit liver nice b...  \n",
       "145  dog respond dog treat tri mani differ treat se...  \n",
       "146  give stewart freez dri beef liver maltipoo nam...  \n",
       "147  liver treat easi carri around treat pouch dont...  \n",
       "148  anoth review note like crack dog dog like jerk...  \n",
       "149  purchas product use train dog treat supplement...  \n",
       "151  huski alway littl picki eat breakfast even mea...  \n",
       "152  month old lab goe nut liver treat vet recommen...  \n",
       "153  best train treat buy dog motiv doggi class tre...  \n",
       "154  two box absolut love freez dri liver one favor...  "
      ]
     },
     "execution_count": 4,
     "metadata": {},
     "output_type": "execute_result"
    }
   ],
   "source": [
    "final = final[final.HelpfulnessNumerator <= final.HelpfulnessDenominator]\n",
    "\n",
    "print(final.shape)\n",
    "final[30:50]"
   ]
  },
  {
   "cell_type": "markdown",
   "metadata": {},
   "source": [
    "# Stemming, stop-word removal and Lemmatization"
   ]
  },
  {
   "cell_type": "code",
   "execution_count": 5,
   "metadata": {},
   "outputs": [],
   "source": [
    "from nltk.corpus import stopwords\n",
    "stop = set(stopwords.words('english'))\n",
    "words_to_keep = set(('not'))\n",
    "stop -= words_to_keep\n",
    "#initialising the snowball stemmer\n",
    "sno = nltk.stem.SnowballStemmer('english')\n",
    "\n",
    " #function to clean the word of any html-tags\n",
    "def cleanhtml(sentence):\n",
    "    cleanr = re.compile('<.*?>')\n",
    "    cleantext = re.sub(cleanr, ' ', sentence)\n",
    "    return cleantext\n",
    "\n",
    "#function to clean the word of any punctuation or special characters\n",
    "def cleanpunc(sentence): \n",
    "    cleaned = re.sub(r'[?|!|\\'|\"|#]',r'',sentence)\n",
    "    cleaned = re.sub(r'[.|,|)|(|\\|/]',r' ',cleaned)\n",
    "    return  cleaned"
   ]
  },
  {
   "cell_type": "code",
   "execution_count": 6,
   "metadata": {},
   "outputs": [],
   "source": [
    "i=0\n",
    "str1=' '\n",
    "final_string=[]\n",
    "all_positive_words=[] # store words from +ve reviews here\n",
    "all_negative_words=[] # store words from -ve reviews here.\n",
    "s=''\n",
    "for sent in final['Text'].values:\n",
    "    filtered_sentence=[]\n",
    "    #print(sent);\n",
    "    sent=cleanhtml(sent) # remove HTMl tags\n",
    "    for w in sent.split():\n",
    "        for cleaned_words in cleanpunc(w).split():\n",
    "            if((cleaned_words.isalpha()) & (len(cleaned_words)>2)):    \n",
    "                if(cleaned_words.lower() not in stop):\n",
    "                    s=(sno.stem(cleaned_words.lower())).encode('utf8')\n",
    "                    filtered_sentence.append(s)\n",
    "                    if (final['Score'].values)[i] == 'positive': \n",
    "                        all_positive_words.append(s) #list of all words used to describe positive reviews\n",
    "                    if(final['Score'].values)[i] == 'negative':\n",
    "                        all_negative_words.append(s) #list of all words used to describe negative reviews reviews\n",
    "                else:\n",
    "                    continue\n",
    "            else:\n",
    "                continue \n",
    "    \n",
    "    str1 = b\" \".join(filtered_sentence) #final string of cleaned words\n",
    "    \n",
    "    \n",
    "    final_string.append(str1)\n",
    "    i+=1"
   ]
  },
  {
   "cell_type": "code",
   "execution_count": 7,
   "metadata": {},
   "outputs": [
    {
     "name": "stdout",
     "output_type": "stream",
     "text": [
      "Shape of final (364171, 12)\n"
     ]
    },
    {
     "data": {
      "text/html": [
       "<div>\n",
       "<style scoped>\n",
       "    .dataframe tbody tr th:only-of-type {\n",
       "        vertical-align: middle;\n",
       "    }\n",
       "\n",
       "    .dataframe tbody tr th {\n",
       "        vertical-align: top;\n",
       "    }\n",
       "\n",
       "    .dataframe thead th {\n",
       "        text-align: right;\n",
       "    }\n",
       "</style>\n",
       "<table border=\"1\" class=\"dataframe\">\n",
       "  <thead>\n",
       "    <tr style=\"text-align: right;\">\n",
       "      <th></th>\n",
       "      <th>index</th>\n",
       "      <th>Id</th>\n",
       "      <th>ProductId</th>\n",
       "      <th>UserId</th>\n",
       "      <th>ProfileName</th>\n",
       "      <th>HelpfulnessNumerator</th>\n",
       "      <th>HelpfulnessDenominator</th>\n",
       "      <th>Score</th>\n",
       "      <th>Time</th>\n",
       "      <th>Summary</th>\n",
       "      <th>Text</th>\n",
       "      <th>CleanedText</th>\n",
       "    </tr>\n",
       "  </thead>\n",
       "  <tbody>\n",
       "    <tr>\n",
       "      <th>0</th>\n",
       "      <td>138706</td>\n",
       "      <td>150524</td>\n",
       "      <td>0006641040</td>\n",
       "      <td>ACITT7DI6IDDL</td>\n",
       "      <td>shari zychinski</td>\n",
       "      <td>0</td>\n",
       "      <td>0</td>\n",
       "      <td>positive</td>\n",
       "      <td>939340800</td>\n",
       "      <td>EVERY book is educational</td>\n",
       "      <td>this witty little book makes my son laugh at l...</td>\n",
       "      <td>witti littl book make son laugh loud recit car...</td>\n",
       "    </tr>\n",
       "    <tr>\n",
       "      <th>19</th>\n",
       "      <td>138708</td>\n",
       "      <td>150526</td>\n",
       "      <td>0006641040</td>\n",
       "      <td>A3E9QZFE9KXH8J</td>\n",
       "      <td>R. Mitchell</td>\n",
       "      <td>11</td>\n",
       "      <td>18</td>\n",
       "      <td>negative</td>\n",
       "      <td>1129507200</td>\n",
       "      <td>awesome book poor size</td>\n",
       "      <td>This is one of the best children's books ever ...</td>\n",
       "      <td>one best children book ever written mini versi...</td>\n",
       "    </tr>\n",
       "    <tr>\n",
       "      <th>20</th>\n",
       "      <td>138709</td>\n",
       "      <td>150529</td>\n",
       "      <td>0006641040</td>\n",
       "      <td>A25ACLV5KPB4W</td>\n",
       "      <td>Matt Hetling \"Matt\"</td>\n",
       "      <td>0</td>\n",
       "      <td>1</td>\n",
       "      <td>positive</td>\n",
       "      <td>1108425600</td>\n",
       "      <td>Nice cadence, catchy rhymes</td>\n",
       "      <td>In June&lt;br /&gt;I saw a charming group&lt;br /&gt;of ro...</td>\n",
       "      <td>june saw charm group rose begin droop pep chic...</td>\n",
       "    </tr>\n",
       "    <tr>\n",
       "      <th>21</th>\n",
       "      <td>138699</td>\n",
       "      <td>150517</td>\n",
       "      <td>0006641040</td>\n",
       "      <td>ABW4IC5G5G8B5</td>\n",
       "      <td>kevin clark</td>\n",
       "      <td>0</td>\n",
       "      <td>0</td>\n",
       "      <td>positive</td>\n",
       "      <td>1291075200</td>\n",
       "      <td>good for children</td>\n",
       "      <td>Classic children's book, can't go wrong. I rea...</td>\n",
       "      <td>classic children book cant wrong read kid orde...</td>\n",
       "    </tr>\n",
       "    <tr>\n",
       "      <th>22</th>\n",
       "      <td>138686</td>\n",
       "      <td>150504</td>\n",
       "      <td>0006641040</td>\n",
       "      <td>AQEYF1AXARWJZ</td>\n",
       "      <td>Les Sinclair \"book maven\"</td>\n",
       "      <td>1</td>\n",
       "      <td>1</td>\n",
       "      <td>positive</td>\n",
       "      <td>1212278400</td>\n",
       "      <td>Chicken Soup with Rice</td>\n",
       "      <td>A very entertaining rhyming story--cleaver and...</td>\n",
       "      <td>entertain rhyme catchi illustr imagin fit righ...</td>\n",
       "    </tr>\n",
       "  </tbody>\n",
       "</table>\n",
       "</div>"
      ],
      "text/plain": [
       "     index      Id   ProductId          UserId                ProfileName  \\\n",
       "0   138706  150524  0006641040   ACITT7DI6IDDL            shari zychinski   \n",
       "19  138708  150526  0006641040  A3E9QZFE9KXH8J                R. Mitchell   \n",
       "20  138709  150529  0006641040   A25ACLV5KPB4W        Matt Hetling \"Matt\"   \n",
       "21  138699  150517  0006641040   ABW4IC5G5G8B5                kevin clark   \n",
       "22  138686  150504  0006641040   AQEYF1AXARWJZ  Les Sinclair \"book maven\"   \n",
       "\n",
       "    HelpfulnessNumerator  HelpfulnessDenominator     Score        Time  \\\n",
       "0                      0                       0  positive   939340800   \n",
       "19                    11                      18  negative  1129507200   \n",
       "20                     0                       1  positive  1108425600   \n",
       "21                     0                       0  positive  1291075200   \n",
       "22                     1                       1  positive  1212278400   \n",
       "\n",
       "                        Summary  \\\n",
       "0     EVERY book is educational   \n",
       "19       awesome book poor size   \n",
       "20  Nice cadence, catchy rhymes   \n",
       "21            good for children   \n",
       "22       Chicken Soup with Rice   \n",
       "\n",
       "                                                 Text  \\\n",
       "0   this witty little book makes my son laugh at l...   \n",
       "19  This is one of the best children's books ever ...   \n",
       "20  In June<br />I saw a charming group<br />of ro...   \n",
       "21  Classic children's book, can't go wrong. I rea...   \n",
       "22  A very entertaining rhyming story--cleaver and...   \n",
       "\n",
       "                                          CleanedText  \n",
       "0   witti littl book make son laugh loud recit car...  \n",
       "19  one best children book ever written mini versi...  \n",
       "20  june saw charm group rose begin droop pep chic...  \n",
       "21  classic children book cant wrong read kid orde...  \n",
       "22  entertain rhyme catchi illustr imagin fit righ...  "
      ]
     },
     "execution_count": 7,
     "metadata": {},
     "output_type": "execute_result"
    }
   ],
   "source": [
    "final['CleanedText']=final_string  \n",
    "final['CleanedText']=final['CleanedText'].str.decode(\"utf-8\")\n",
    "#below the processed review can be seen in the CleanedText Column \n",
    "print('Shape of final',final.shape)\n",
    "final.head()"
   ]
  },
  {
   "cell_type": "code",
   "execution_count": 8,
   "metadata": {},
   "outputs": [],
   "source": [
    "\n",
    "\n",
    "# We will collect different 30K rows without repetition from time_sorted_data dataframe\n",
    "my_final = final[:30000]\n",
    "my_final.sort_values('Time',inplace=True) \n",
    "\n",
    "x = my_final['CleanedText'].values"
   ]
  },
  {
   "cell_type": "markdown",
   "metadata": {},
   "source": [
    "# Implementing K-Means++ and K-medoids"
   ]
  },
  {
   "cell_type": "markdown",
   "metadata": {},
   "source": [
    "# Bag of Words (BoW)"
   ]
  },
  {
   "cell_type": "code",
   "execution_count": 84,
   "metadata": {},
   "outputs": [
    {
     "name": "stdout",
     "output_type": "stream",
     "text": [
      "the type of count vectorizer : <class 'scipy.sparse.csr.csr_matrix'>\n",
      "the shape of out text BOW vectorizer :  (30000, 5322)\n",
      "the number of unique words : 5322\n"
     ]
    }
   ],
   "source": [
    "count_vect = CountVectorizer(min_df = 10) \n",
    "data = count_vect.fit_transform(x)\n",
    "print(\"the type of count vectorizer :\",type(data))\n",
    "print(\"the shape of out text BOW vectorizer : \",data.get_shape())\n",
    "print(\"the number of unique words :\", data.get_shape()[1])"
   ]
  },
  {
   "cell_type": "markdown",
   "metadata": {},
   "source": [
    "# K-Means++ Implementation"
   ]
  },
  {
   "cell_type": "code",
   "execution_count": 10,
   "metadata": {},
   "outputs": [],
   "source": [
    "from sklearn.cluster import KMeans\n",
    "\n",
    "k_values = [2,3,4,5,6,7,8,9,10]\n",
    "loss = []\n",
    "for i in k_values:\n",
    "    kmeans = KMeans(n_clusters=i, n_jobs=-1).fit(data)\n",
    "    loss.append(kmeans.inertia_)"
   ]
  },
  {
   "cell_type": "code",
   "execution_count": 11,
   "metadata": {},
   "outputs": [
    {
     "data": {
      "image/png": "[encoded data removed]",
      "text/plain": [
       "<Figure size 432x288 with 1 Axes>"
      ]
     },
     "metadata": {
      "needs_background": "light"
     },
     "output_type": "display_data"
    }
   ],
   "source": [
    "plt.plot(k_values, loss)\n",
    "plt.xlabel('K-values',size=14)\n",
    "plt.ylabel('Loss',size=14)\n",
    "plt.title('Loss VS K-values Plot\\n',size=18)\n",
    "plt.grid()\n",
    "plt.show()"
   ]
  },
  {
   "cell_type": "markdown",
   "metadata": {},
   "source": [
    "OBSERVATION :- From above we can see that there is inflection at K = 4 . Befor it loss was decreasing faster as compared to the loss decreasing after it . So , the best value of K is 4"
   ]
  },
  {
   "cell_type": "code",
   "execution_count": 12,
   "metadata": {},
   "outputs": [],
   "source": [
    "optimal_k = 4\n",
    "# Variable that will be used in the conclusion \n",
    "bow_means_k = optimal_k\n",
    "\n",
    "# Implementing K-Means++ using optimal value of K\n",
    "kmeans = KMeans(n_clusters=optimal_k, n_jobs=-1).fit(data)"
   ]
  },
  {
   "cell_type": "code",
   "execution_count": 13,
   "metadata": {},
   "outputs": [
    {
     "name": "stdout",
     "output_type": "stream",
     "text": [
      "No. of reviews in Cluster-1 :  3271\n",
      "\n",
      "No. of reviews in Cluster-2 :  998\n",
      "\n",
      "No. of reviews in Cluster-3 :  931\n",
      "\n",
      "No. of reviews in Cluster-4 :  24800\n"
     ]
    }
   ],
   "source": [
    "reviews = my_final['Text'].values\n",
    "# Getting all the reviews in different clusters\n",
    "cluster1 = []\n",
    "cluster2 = []\n",
    "cluster3 = []\n",
    "cluster4 = []\n",
    "for i in range(kmeans.labels_.shape[0]):\n",
    "    if kmeans.labels_[i] == 0:\n",
    "        cluster1.append(reviews[i])\n",
    "    elif kmeans.labels_[i] == 1:\n",
    "        cluster2.append(reviews[i])\n",
    "    elif kmeans.labels_[i] == 2:\n",
    "        cluster3.append(reviews[i])\n",
    "    else :\n",
    "        cluster4.append(reviews[i]) \n",
    "        \n",
    "# Number of reviews in different clusters\n",
    "print(\"No. of reviews in Cluster-1 : \",len(cluster1))\n",
    "print(\"\\nNo. of reviews in Cluster-2 : \",len(cluster2))\n",
    "print(\"\\nNo. of reviews in Cluster-3 : \",len(cluster3))\n",
    "print(\"\\nNo. of reviews in Cluster-4 : \",len(cluster4))"
   ]
  },
  {
   "cell_type": "markdown",
   "metadata": {},
   "source": [
    "READING REVIEWS MANUALLY"
   ]
  },
  {
   "cell_type": "code",
   "execution_count": 14,
   "metadata": {},
   "outputs": [
    {
     "name": "stdout",
     "output_type": "stream",
     "text": [
      "Review-1 : \n",
      " The wine saver is great in so many ways. Obviously it's wonderful to be able to open a bottle of wine and have it stay good for a day or two, especially if you just like one glass with dinner. This lets you open up and enjoy more expensive wine since you won't waste the whole rest of the bottle. If you are interested in learning about wines, you'll probably want to open up 2 or more wines at a time to compare them, and this way you won't waste anything. The wine saver will keep the undrunk portion until the next time.  I do recommend putting the bottle in the fridge if you don't drink it the next day. Just pull the bottle out an hour before you want to drink it if it's red.\n",
      "\n",
      "Review-2 : \n",
      " Using the Briel Chamonix machine I purchased from Amazon, I have produced delicious lattes using these pods. The smell of the Espressione pods (regular and decaf) when opened is incredible - dark, rich roasts.  FYI - the pods are produced in Italy, which is a good sign.  Also, each pod has a handy paper \"tab\" so that you can remove it from your machine without burning your fingers.  I compared these pods to Starbucks espresso pods (regular and decaf), and the Espressione are my favorite.  Only one warning:  150 pods (individually wrapped) take up a lot of space, so be sure you know where you're going to store them.  More good news:  each box of 150 is stamped with a \"best if used by\" date, which in my case was 16 months after the date of purchase.\n",
      "\n",
      "Review-3 : \n",
      " I was very skeptical when I bought this item, so imagine my amazement when I discovered that it actually works!  Prior to buying VacuVin, my red wine bottles would last a maximum of 1-2 days if immediately re-corked, and white wine a few days longer if refrigerated.  Now, my red wine is good for up to a week, and the white wine lasts even longer.  The device is very simple - it pumps air through a plastic cork to re-create the original pressure prior to opening.  Simple to use, and the corks are easy to rinse.  Perfect for single people like me who don't want to drink a full bottle in one sitting, or who may switch from red one night to white the next.\n",
      "\n"
     ]
    }
   ],
   "source": [
    "count=1\n",
    "for i in range(3):\n",
    "    print('Review-%d : \\n %s\\n'%(count,cluster1[i]))\n",
    "    count +=1"
   ]
  },
  {
   "cell_type": "code",
   "execution_count": 15,
   "metadata": {},
   "outputs": [
    {
     "name": "stdout",
     "output_type": "stream",
     "text": [
      "Review-1 : \n",
      " I have two Burmese cats, and both of them are being or were raised on this kitten formula (one is 13 months, the other is 8 months).  They have been on it since they were 4 months old.  I did a lot of research into food recommended by my breeder since we spent a lot of money on the cats.  I ultimately decided on this brand because of the research they have done.  I plan on putting both of them on the Persian formula (that is for Himalayans and Burmese too) because these types of cats are prone to getting a certain type of UTI and need their urine a different pH.<br />Their fur has never been softer, they are so active and always chasing each other, they are very playful with us.  We always comment on how soft the older one is, just like a pillow, and the younger one is getting closer every day.  They eat the food I leave out for them every day, so I'm assuming it is satisfying.  I just love this brand and plan on sticking with them, even when we get dogs.\n",
      "\n",
      "Review-2 : \n",
      " I searched for a food that wasn't full of preservatives and fillers, and didn't cost $5 a pound.  I did alot of research and read alot of labels.  I have a Siberian Husky pup, and Canidae has really proven itself to me.  As a former conissour of cheap discount store dog foods, I have finally realized the advantages of feeding a natural premium food.  My dogs poop doesnt really stink!  True!  Poop is still poop, but the smell is minimal.  I have noticed it also quickly disinigrates into the ground when it rains.  With the cheap food, it smelled like rank dog poop! Would make you retch and gag!  And there was so much of it!  Less poop, firmer stools with barely any odor, less food consumed per day.  AND NO BAD BREATH from your dog! A food that swells up when wet is also undesirable.  Flint River Ranch brand and Canidae both stay intact, avoiding the bloat factor. I learned, you can learn too!  It's also an excellent value - Try Canidae, you'll see!\n",
      "\n",
      "Review-3 : \n",
      " If your cat loves poultry and ground food, this is a great one.  My previous cat loved this stuff, but my current cat just doesn't like the ground variety as well.  He prefers the food with chunks and gobbles it right up.  I've bought tons of this food over the years and many of my cats just loved it.  It just depends on your cat - if you have one that likes ground, give this one a try!\n",
      "\n"
     ]
    }
   ],
   "source": [
    "count=1\n",
    "for i in range(3):\n",
    "    print('Review-%d : \\n %s\\n'%(count,cluster2[i]))\n",
    "    count +=1"
   ]
  },
  {
   "cell_type": "code",
   "execution_count": 16,
   "metadata": {},
   "outputs": [
    {
     "name": "stdout",
     "output_type": "stream",
     "text": [
      "Review-1 : \n",
      " Blend a little apple cider mix into your Tazo Passion Tea and see what happens. This creates a magical apple cider experience with hints of cranberry and hibiscus flowers gathered in an ancient land.<br /><br />Snuggle Up Spiced Cider is a good choice because you can then spoon in the exact amount you desire, but packets of cider work equally well. This is the type of tea you would expect to enjoy after skiing in some distant forest where you are also munching on homemade brownies or eggnog cookies. Apple cider also works very well with the Gypsy Teas, especially the Lemon Jasmine.<br /><br />The deep purple/red color and hibiscus fragrance of Tazo Tea is enough to make anyone passionate about tea. Yet, is this really tea? It looks like tea, but it is really an herbal infusion made by steeping hibiscus flowers, orange peel, licorice, cinnamon, rose hips, lemongrass and red poppy in a swirling of hot water.<br /><br />The original flavor is also slightly reminiscent of hot apple cider or hot cranberry juice which is why it is extra delicious with a cider mix. Tazo Teas are a mysterious experience into which you can lose yourself with a sense of abandon. So far I've tried more flavors than I can count and have always been impressed.<br /><br />~The Rebecca Review\n",
      "\n",
      "Review-2 : \n",
      " \"There is a garden overlooking the Yangtze River gorge where an elderly man contemplates his life while sipping a cup of Green Ginger. Perhaps you would like to join him.\" ~on each tea packet<br /><br />A friend sent me this tea and I've been in love with the slightly bitter flavor. It is quite exotic and fragrant. The ingredients are green teas, natural flavors, ginger and lemongrass.<br /><br />This tea begs to be blended with orange blossom honey.<br /><br />I've tasted many teas and this is by far the most exotic tea I've tried yet. This is pear ginger bliss.<br /><br />For more information on the myseries of Tazo Tea, read the review for the Tazo Assorted Teas.<br /><br />~The Rebecca Review\n",
      "\n",
      "Review-3 : \n",
      " \"There are few hours in life more agreeable than the hour dedicated to the ceremony known as afternoon tea.\" -Henry James, Portrait of a Lady<br /><br />This \"English Breakfast\" style tea is quite satisfying and has a rich flavor that is quite delicious.<br /><br />I'd like to say that their teas are best steeped for an extra 5-10 minutes to draw out all the delicious flavors. You can use a teapot or a coffee maker to make tea. Simply put the tea in a coffee filter or the tea bags in the coffee pot, then allow the boiling water to drip over the tea leaves.<br /><br />The sensual blend of exotic spices, teas and herbs used in their teas include a mixture of the following: Black tea, green tea, hibiscus flowers, chamomile flowers, lemongrass, spearmint leaves, blackberry leaves, cinnamon, Rooibos, Gingerroot, rose hips, orange peel, rose petals, licorice root, safflowers, black pepper, lemon verbena leaves, cardamom, cloves, peppermint leaves, chicory, sarsaparilla root, lemon balm leaf, star anise and red poppy flowers.<br /><br />This is a blend of black teas, but all their teas are worth trying. Passion and Chai are also favorites.<br /><br />~The Rebecca Review\n",
      "\n"
     ]
    }
   ],
   "source": [
    "count=1\n",
    "for i in range(3):\n",
    "    print('Review-%d : \\n %s\\n'%(count,cluster3[i]))\n",
    "    count +=1"
   ]
  },
  {
   "cell_type": "code",
   "execution_count": 17,
   "metadata": {},
   "outputs": [
    {
     "name": "stdout",
     "output_type": "stream",
     "text": [
      "Review-1 : \n",
      " this witty little book makes my son laugh at loud. i recite it in the car as we're driving along and he always can sing the refrain. he's learned about whales, India, drooping roses:  i love all the new words this book  introduces and the silliness of it all.  this is a classic book i am  willing to bet my son will STILL be able to recite from memory when he is  in college\n",
      "\n",
      "Review-2 : \n",
      " I can remember seeing the show when it aired on television years ago, when I was a child.  My sister later bought me the LP (which I have to this day,  I'm thirty something).I used this series of books &amp; songs when I did my  student teaching for preschoolers &amp; turned the whole school on to it.  I am now purchasing it on CD, along with the books for my children 5 &amp;  2.  The tradition lives on!\n",
      "\n",
      "Review-3 : \n",
      " Beetlejuice is a well written movie ..... everything about it is excellent! From the acting to the special effects you will be delighted you chose to view this movie.\n",
      "\n"
     ]
    }
   ],
   "source": [
    "count=1\n",
    "for i in range(3):\n",
    "    print('Review-%d : \\n %s\\n'%(count,cluster4[i]))\n",
    "    count +=1"
   ]
  },
  {
   "cell_type": "markdown",
   "metadata": {},
   "source": [
    "# K-Medoids Implementation"
   ]
  },
  {
   "cell_type": "code",
   "execution_count": 85,
   "metadata": {},
   "outputs": [],
   "source": [
    "def print_cluster_reviews_k_medoids(cluster_label_reviews,cluster_number = 0,review_count=3):\n",
    "    reviews = cluster_label_reviews[cluster_number]\n",
    "    reviews = reviews[0:review_count]\n",
    "    print(\"---: Cluster {0} :---\".format(cluster_number))\n",
    "    index = 1\n",
    "    for review in reviews:\n",
    "        print(\"Review {0} : \".format(index))\n",
    "        print(CLEANED_TEXT[review])\n",
    "        print()\n",
    "        index += 1"
   ]
  },
  {
   "cell_type": "code",
   "execution_count": 86,
   "metadata": {},
   "outputs": [],
   "source": [
    "def get_cluster_N_medoids(k_medoids):\n",
    "    return k_medoids.get_clusters(),k_medoids.get_medoids()"
   ]
  },
  {
   "cell_type": "code",
   "execution_count": 88,
   "metadata": {},
   "outputs": [
    {
     "data": {
      "text/plain": [
       "(30000, 2)"
      ]
     },
     "execution_count": 88,
     "metadata": {},
     "output_type": "execute_result"
    }
   ],
   "source": [
    "svd = TruncatedSVD(n_components=2)\n",
    "bow_dtm_2_dim = svd.fit_transform(data)\n",
    "bow_dtm_2_dim.shape"
   ]
  },
  {
   "cell_type": "code",
   "execution_count": 89,
   "metadata": {},
   "outputs": [
    {
     "data": {
      "text/plain": [
       "<pyclustering.cluster.kmedoids.kmedoids at 0x1dd93492a90>"
      ]
     },
     "execution_count": 89,
     "metadata": {},
     "output_type": "execute_result"
    }
   ],
   "source": [
    "k_medoids = kmedoids.kmedoids(bow_dtm_2_dim,[2, 9, 12],0.001,ccore=True)\n",
    "# Run cluster analysis and obtain results\n",
    "k_medoids.process()"
   ]
  },
  {
   "cell_type": "code",
   "execution_count": 90,
   "metadata": {},
   "outputs": [],
   "source": [
    "clusters,medoids = get_cluster_N_medoids(k_medoids)"
   ]
  },
  {
   "cell_type": "code",
   "execution_count": 91,
   "metadata": {},
   "outputs": [
    {
     "name": "stdout",
     "output_type": "stream",
     "text": [
      "Number of Reviews in Cluster 0 : 25940 \n",
      "Number of Reviews in Cluster 1 : 3116 \n",
      "Number of Reviews in Cluster 2 : 944 \n"
     ]
    }
   ],
   "source": [
    "for i in range(0,len(clusters)):\n",
    "    list_if_indices = clusters[i]\n",
    "    # Number of reviews in different clusters\n",
    "    print(\"Number of Reviews in Cluster {0} : {1} \".format(i,len(list_if_indices)))"
   ]
  },
  {
   "cell_type": "code",
   "execution_count": 92,
   "metadata": {},
   "outputs": [
    {
     "name": "stdout",
     "output_type": "stream",
     "text": [
      "---: Cluster 0 :---\n",
      "Review 1 : \n",
      "I mix this with sugar and sea salt, toss some potatoes in olive oil, and make great baked fries with this stuff. Such a unique flavor, and everyone in my house likes it- even the picky eaters. I love this stuff.\n",
      "\n",
      "Review 2 : \n",
      "this witty little book makes my son laugh at loud. i recite it in the car as we're driving along and he always can sing the refrain. he's learned about whales, India, drooping roses:  i love all the new words this book  introduces and the silliness of it all.  this is a classic book i am  willing to bet my son will STILL be able to recite from memory when he is  in college\n",
      "\n",
      "Review 3 : \n",
      "I can remember seeing the show when it aired on television years ago, when I was a child.  My sister later bought me the LP (which I have to this day,  I'm thirty something).I used this series of books &amp; songs when I did my  student teaching for preschoolers &amp; turned the whole school on to it.  I am now purchasing it on CD, along with the books for my children 5 &amp;  2.  The tradition lives on!\n",
      "\n",
      "\n",
      "\n",
      "\n",
      "---: Cluster 1 :---\n",
      "Review 1 : \n",
      "This was an instant success for our food- and treat-fussy Siberian, and our \"normal\" voracious Malamute.<br /><br />Pros: 1) Most importantly: If our siberian will accept (as in devour!) these treats, we predict most any other fussy pups will too.<br /><br />2) Someone intelligently designed the treat holders and shape of the treats themselves so that they can't be immediately removed and consumed... our dogs spend hours working on their treat ball. True to their breeds, our pups get in an occasional gnawing moment, but for the most part they have to lick and nibble their way through their treat. Which means when we leave for an extended time, they are honorably occupied, not bored, and not getting into mischief.<br /><br />3) The ball itself is made of a soft-ish, somewhat pliable material, and yet appears to be indestructible. Time will tell.<br /><br />4) A variety of flavors. We purchased each of the available flavors to learn which would \"win\", and immediately discovered that all flavors send our pups into exited expectation when they see their ball coming.<br /><br />5) You can put your own treats inside the ball itself, but it looks like a tough nut for any dog to get to.<br /><br />Con: and this could be a good thing: it's hard getting a treat into the ball unless you have strong hands/wrists, or a smooth ended spoon handle to help peel the retaining edge of the treat ball opening over the edge of the treat. This means your pup will not likely remove the treat in one lump (unless he uses that smooth spoon handle) and immediately consume it.\n",
      "\n",
      "Review 2 : \n",
      "The spectra paste food colors are simply fantastic. They provide a depth and clarity of color that is impossible to achieve with liquid food colors. And the hues are beautiful and distinctive. The black and red, two colors which are very difficult to get when dying frostings, etc. are especially nice - probably the best of any manufacturer I have tried.<p>For those who had questions, I am not 100% certain about the sizes, but if the set is the same as mine, the bottles are 3/4 ounce. While that might not seem like much, all you need is a dot of this thick gel paste at the end of a toothpick to color large amounts of material. So there is plenty of coloring ability in each bottle - many, many times more than a same sized liquid food color bottle. <p>Highly recommended and at a really good price at the time of this review.\n",
      "\n",
      "Review 3 : \n",
      "Long live Camper Van Beethoven!! This is a blessing for long time CVB fans who didn't have a chance to upgrade their collection to CD before most of this went out of print.  Wow, where to begin?  CVB was a band that matured on record, so to speak, so this is really a fascinating and entertaining listen from beginning to end.<br />  Of course you get the endearing and humorous debut album with goofy anthems ala \"Take the Skinheads Bowling\" and various folk/ska instrumentals; the increasingly warped and psychedelic \"II & III\"; and this collections' centerpiece: the self titled 3rd album!!  Forget the editorial remark above about them \"scratching their heads out loud\" on this because there's nothing confused, unfocused, or tentative about this album.  I'd say it's a characteristically irreverent and eclectic psych-rock masterpiece.  The song writing has fully matured with the sarcastic humor still intact, and it seems to be intentionally conceived as an album that gets stranger and stranger as it goes on, with the group mastering every diverse style they apply themselves to.  I could go on and on about this album, but suffice it to say it's a classic.<br />  \"Camper Vantiquities\", the 4th CD is a top notch odds and ends collection containing perhaps the best Camper song ever: \"Seven Languages\" and the Harrison/Starkey composition \"Photograph.\"  Finally, the live CD is a competent but not revelatory live set from 1990 with 2 songs from 1988.  I would've prefered to hear an earlier and more chaotic live recording, but I'm sure the quality wouldn't have been as good.<br />  All in all, you can't go wrong with this.  The packaging is quality: a thick , bright orange box with the 5 Cds in simple glossy slip cases, (well, the box is relatively thin but it's made of nice thick cardboard) and a full color booklet with 2 essays.  One is an entertaining first-hand account of what Santa Cruz was like when Camper formed; the other is a dry and factual journalists view on the Camper \"phenomenon\" MUCH LIKE THIS REVIEW.  I hope it was helpful.  Rock on Comrades!!!\n",
      "\n",
      "\n",
      "\n",
      "\n",
      "---: Cluster 2 :---\n",
      "Review 1 : \n",
      "Tazo teas are a quality brand that I was introduced to at Starbucks coffee shops. I love getting a black tea lemonade during the summer on hot days and they use the Awake black tea to make the drink. I bought these tea bags to use in my Keurig brewer and just pop a bag in, let it brew and then remove the tea bag and place it in my cup to let it steep a few extra minutes for maximum strength and flavor. I add some sugar and drink it hot. It is a nice caffeine punch when I need a hot drink and am in the mood for tea instead of coffee. I love ordering in bulk from Amazon as the price is great!\n",
      "\n",
      "Review 2 : \n",
      "Blend a little apple cider mix into your Tazo Passion Tea and see what happens. This creates a magical apple cider experience with hints of cranberry and hibiscus flowers gathered in an ancient land.<br /><br />Snuggle Up Spiced Cider is a good choice because you can then spoon in the exact amount you desire, but packets of cider work equally well. This is the type of tea you would expect to enjoy after skiing in some distant forest where you are also munching on homemade brownies or eggnog cookies. Apple cider also works very well with the Gypsy Teas, especially the Lemon Jasmine.<br /><br />The deep purple/red color and hibiscus fragrance of Tazo Tea is enough to make anyone passionate about tea. Yet, is this really tea? It looks like tea, but it is really an herbal infusion made by steeping hibiscus flowers, orange peel, licorice, cinnamon, rose hips, lemongrass and red poppy in a swirling of hot water.<br /><br />The original flavor is also slightly reminiscent of hot apple cider or hot cranberry juice which is why it is extra delicious with a cider mix. Tazo Teas are a mysterious experience into which you can lose yourself with a sense of abandon. So far I've tried more flavors than I can count and have always been impressed.<br /><br />~The Rebecca Review\n",
      "\n",
      "Review 3 : \n",
      "\"There is a garden overlooking the Yangtze River gorge where an elderly man contemplates his life while sipping a cup of Green Ginger. Perhaps you would like to join him.\" ~on each tea packet<br /><br />A friend sent me this tea and I've been in love with the slightly bitter flavor. It is quite exotic and fragrant. The ingredients are green teas, natural flavors, ginger and lemongrass.<br /><br />This tea begs to be blended with orange blossom honey.<br /><br />I've tasted many teas and this is by far the most exotic tea I've tried yet. This is pear ginger bliss.<br /><br />For more information on the myseries of Tazo Tea, read the review for the Tazo Assorted Teas.<br /><br />~The Rebecca Review\n",
      "\n",
      "\n",
      "\n",
      "\n"
     ]
    }
   ],
   "source": [
    "print_cluster_reviews_k_medoids(clusters,cluster_number = 0, review_count = 3)\n",
    "print(\"\\n\\n\")\n",
    "print_cluster_reviews_k_medoids(clusters,cluster_number = 1, review_count = 3)\n",
    "print(\"\\n\\n\")\n",
    "print_cluster_reviews_k_medoids(clusters,cluster_number = 2, review_count = 3)\n",
    "print(\"\\n\\n\")"
   ]
  },
  {
   "cell_type": "markdown",
   "metadata": {},
   "source": [
    "# TFIDF"
   ]
  },
  {
   "cell_type": "code",
   "execution_count": 30,
   "metadata": {},
   "outputs": [
    {
     "name": "stdout",
     "output_type": "stream",
     "text": [
      "the type of count vectorizer : <class 'scipy.sparse.csr.csr_matrix'>\n",
      "the shape of out text TFIDF vectorizer :  (30000, 5322)\n",
      "the number of unique words : 5322\n"
     ]
    }
   ],
   "source": [
    "tf_idf_vect = TfidfVectorizer(min_df=10)\n",
    "data = tf_idf_vect.fit_transform(x)\n",
    "print(\"the type of count vectorizer :\",type(data))\n",
    "print(\"the shape of out text TFIDF vectorizer : \",data.get_shape())\n",
    "print(\"the number of unique words :\", data.get_shape()[1])"
   ]
  },
  {
   "cell_type": "code",
   "execution_count": 32,
   "metadata": {},
   "outputs": [],
   "source": [
    "from sklearn.cluster import KMeans\n",
    "k_values = [2,3,4,5,6,7,8,9]\n",
    "loss = []\n",
    "for i in k_values:\n",
    "    kmeans = KMeans(n_clusters=i, n_jobs=-1).fit(data)\n",
    "    loss.append(kmeans.inertia_)"
   ]
  },
  {
   "cell_type": "code",
   "execution_count": 33,
   "metadata": {},
   "outputs": [
    {
     "data": {
      "image/png": "[encoded data removed]",
      "text/plain": [
       "<Figure size 432x288 with 1 Axes>"
      ]
     },
     "metadata": {
      "needs_background": "light"
     },
     "output_type": "display_data"
    }
   ],
   "source": [
    "plt.plot(k_values, loss)\n",
    "plt.xlabel('K-values',size=14)\n",
    "plt.ylabel('Loss',size=14)\n",
    "plt.title('Loss VS K-values Plot\\n',size=18)\n",
    "plt.grid()\n",
    "plt.show()"
   ]
  },
  {
   "cell_type": "markdown",
   "metadata": {},
   "source": [
    "From above we can see that there is inflection at K = 6 . Befor it loss was decreasing faster as compared to the loss decreasing after it . So , the best value of K is 6."
   ]
  },
  {
   "cell_type": "code",
   "execution_count": 37,
   "metadata": {},
   "outputs": [
    {
     "name": "stdout",
     "output_type": "stream",
     "text": [
      "No. of reviews in Cluster-1 :  19844\n",
      "\n",
      "No. of reviews in Cluster-2 :  1283\n",
      "\n",
      "No. of reviews in Cluster-3 :  3252\n",
      "\n",
      "No. of reviews in Cluster-4 :  1357\n",
      "\n",
      "No. of reviews in Cluster-5 :  2706\n",
      "\n",
      "No. of reviews in Cluster-6 :  1558\n"
     ]
    }
   ],
   "source": [
    "reviews = my_final['Text'].values\n",
    "optimal_k = 6\n",
    "# Variable that will be used in the conclusion \n",
    "tfidf_means_k = optimal_k\n",
    "\n",
    "# Implementing K-Means++ using optimal value of K\n",
    "kmeans = KMeans(n_clusters=optimal_k, n_jobs=-1).fit(data)\n",
    "\n",
    "# Getting all the reviews in different clusters\n",
    "cluster1 = []\n",
    "cluster2 = []\n",
    "cluster3 = []\n",
    "cluster4 = []\n",
    "cluster5 = []\n",
    "cluster6 = []\n",
    "\n",
    "for i in range(kmeans.labels_.shape[0]):\n",
    "    if kmeans.labels_[i] == 0:\n",
    "        cluster1.append(reviews[i])\n",
    "    elif kmeans.labels_[i] == 1:\n",
    "        cluster2.append(reviews[i])\n",
    "    elif kmeans.labels_[i] == 2:\n",
    "        cluster3.append(reviews[i])\n",
    "    elif kmeans.labels_[i] == 3:\n",
    "        cluster4.append(reviews[i])\n",
    "    elif kmeans.labels_[i] == 4:\n",
    "        cluster5.append(reviews[i])    \n",
    "    else :\n",
    "        cluster6.append(reviews[i]) \n",
    "        \n",
    "# Number of reviews in different clusters\n",
    "print(\"No. of reviews in Cluster-1 : \",len(cluster1))\n",
    "print(\"\\nNo. of reviews in Cluster-2 : \",len(cluster2))\n",
    "print(\"\\nNo. of reviews in Cluster-3 : \",len(cluster3))\n",
    "print(\"\\nNo. of reviews in Cluster-4 : \",len(cluster4))\n",
    "print(\"\\nNo. of reviews in Cluster-5 : \",len(cluster5))\n",
    "print(\"\\nNo. of reviews in Cluster-6 : \",len(cluster6))\n"
   ]
  },
  {
   "cell_type": "code",
   "execution_count": 38,
   "metadata": {},
   "outputs": [
    {
     "name": "stdout",
     "output_type": "stream",
     "text": [
      "Review-1 : \n",
      " this witty little book makes my son laugh at loud. i recite it in the car as we're driving along and he always can sing the refrain. he's learned about whales, India, drooping roses:  i love all the new words this book  introduces and the silliness of it all.  this is a classic book i am  willing to bet my son will STILL be able to recite from memory when he is  in college\n",
      "\n",
      "Review-2 : \n",
      " I can remember seeing the show when it aired on television years ago, when I was a child.  My sister later bought me the LP (which I have to this day,  I'm thirty something).I used this series of books &amp; songs when I did my  student teaching for preschoolers &amp; turned the whole school on to it.  I am now purchasing it on CD, along with the books for my children 5 &amp;  2.  The tradition lives on!\n",
      "\n",
      "Review-3 : \n",
      " Beetlejuice is a well written movie ..... everything about it is excellent! From the acting to the special effects you will be delighted you chose to view this movie.\n",
      "\n"
     ]
    }
   ],
   "source": [
    "count=1\n",
    "for i in range(3):\n",
    "    print('Review-%d : \\n %s\\n'%(count,cluster1[i]))\n",
    "    count +=1"
   ]
  },
  {
   "cell_type": "code",
   "execution_count": 39,
   "metadata": {},
   "outputs": [
    {
     "name": "stdout",
     "output_type": "stream",
     "text": [
      "Review-1 : \n",
      " Chipotle makes everything taste better.  I first encountered this sauce at a small restaurant in New Mexico and it instantly made everything spicy and smoky.  We made sure to buy a few bottles in a Mexican grocery store, and I've used this on burgers, chicken, etc.  It's awesome.  And it's less than $2.  You can't beat that.\n",
      "\n",
      "Review-2 : \n",
      " I just love this sauce. I put in on everything.\n",
      "\n",
      "Review-3 : \n",
      " This sauce is excellent, and indeed spicy.  The brand also makes a mild version, in addition to other wonderful products like Rib Rub.  Made in North Carolina.  My husband doesn't like the sweeter type BBQ sauces - this brand he loves.\n",
      "\n"
     ]
    }
   ],
   "source": [
    "count=1\n",
    "for i in range(3):\n",
    "    print('Review-%d : \\n %s\\n'%(count,cluster2[i]))\n",
    "    count +=1"
   ]
  },
  {
   "cell_type": "code",
   "execution_count": 40,
   "metadata": {},
   "outputs": [
    {
     "name": "stdout",
     "output_type": "stream",
     "text": [
      "Review-1 : \n",
      " I've bought a couple of these for my Airedale puppy who constantly wants to chew.  These things are amazing in that they have bone, tendon, meat, and knuckles still attached.  She dives in and tears it apart - she would work on it non-stop if I didn't periodically take it away from her.  The meat and tendons are harmless enough - obviously they have fat and protein so they have to be tied into diet considerations, and the bone appears to hold onto the flavor long after it's stripped (she still licks and gnaws on a bone that's a few weeks bare).  The knuckles, once they get torn off, should probably be thrown away after a few minutes because they are small enough to be swallowed and/or choked on.  The only downside to this product is when she comes up to me and the whiskers around her mouth are a little discolored and she smells like roasted meat.  But, well worth it if you want to give your dog a treat that they can't get enough of.\n",
      "\n",
      "Review-2 : \n",
      " I searched for a food that wasn't full of preservatives and fillers, and didn't cost $5 a pound.  I did alot of research and read alot of labels.  I have a Siberian Husky pup, and Canidae has really proven itself to me.  As a former conissour of cheap discount store dog foods, I have finally realized the advantages of feeding a natural premium food.  My dogs poop doesnt really stink!  True!  Poop is still poop, but the smell is minimal.  I have noticed it also quickly disinigrates into the ground when it rains.  With the cheap food, it smelled like rank dog poop! Would make you retch and gag!  And there was so much of it!  Less poop, firmer stools with barely any odor, less food consumed per day.  AND NO BAD BREATH from your dog! A food that swells up when wet is also undesirable.  Flint River Ranch brand and Canidae both stay intact, avoiding the bloat factor. I learned, you can learn too!  It's also an excellent value - Try Canidae, you'll see!\n",
      "\n",
      "Review-3 : \n",
      " They look and smell like human cookies so keep away from children (or your dog will be upset!).\n",
      "\n"
     ]
    }
   ],
   "source": [
    "count=1\n",
    "for i in range(3):\n",
    "    print('Review-%d : \\n %s\\n'%(count,cluster3[i]))\n",
    "    count +=1"
   ]
  },
  {
   "cell_type": "code",
   "execution_count": 41,
   "metadata": {},
   "outputs": [
    {
     "name": "stdout",
     "output_type": "stream",
     "text": [
      "Review-1 : \n",
      " Boots (the most handsome red tom cat you'll ever see!) loves these treats.  We keep them on a shelf in the pantry - only problem is everytime we open the pantry door he thinks he gets a treat.<p>  We've tried other cat treats which he always eats (truth is, Boots eats everything!) but these seem to be his favorite by far.\n",
      "\n",
      "Review-2 : \n",
      " My cat Foutchie is heading toward 5 now and no one told her the trouble with a kitten is it eventually becomes a cat (so take that Ogden Nash!).  She still voom-voom-vooms around at a pace that makes me exhausted.  She loves toys, especially stuff she chases.  So the bubbles are great full.  Especially since they are catnip bubbles.  You don't have the worry about them getting soap on them and making them sick.  She love jumping high to pop them.<p>So if you are looking for something to awaken the kitten in your kitty, you might try these.\n",
      "\n",
      "Review-3 : \n",
      " I have two Burmese cats, and both of them are being or were raised on this kitten formula (one is 13 months, the other is 8 months).  They have been on it since they were 4 months old.  I did a lot of research into food recommended by my breeder since we spent a lot of money on the cats.  I ultimately decided on this brand because of the research they have done.  I plan on putting both of them on the Persian formula (that is for Himalayans and Burmese too) because these types of cats are prone to getting a certain type of UTI and need their urine a different pH.<br />Their fur has never been softer, they are so active and always chasing each other, they are very playful with us.  We always comment on how soft the older one is, just like a pillow, and the younger one is getting closer every day.  They eat the food I leave out for them every day, so I'm assuming it is satisfying.  I just love this brand and plan on sticking with them, even when we get dogs.\n",
      "\n"
     ]
    }
   ],
   "source": [
    "count=1\n",
    "for i in range(3):\n",
    "    print('Review-%d : \\n %s\\n'%(count,cluster4[i]))\n",
    "    count +=1"
   ]
  },
  {
   "cell_type": "code",
   "execution_count": 42,
   "metadata": {},
   "outputs": [
    {
     "name": "stdout",
     "output_type": "stream",
     "text": [
      "Review-1 : \n",
      " Blend a little apple cider mix into your Tazo Passion Tea and see what happens. This creates a magical apple cider experience with hints of cranberry and hibiscus flowers gathered in an ancient land.<br /><br />Snuggle Up Spiced Cider is a good choice because you can then spoon in the exact amount you desire, but packets of cider work equally well. This is the type of tea you would expect to enjoy after skiing in some distant forest where you are also munching on homemade brownies or eggnog cookies. Apple cider also works very well with the Gypsy Teas, especially the Lemon Jasmine.<br /><br />The deep purple/red color and hibiscus fragrance of Tazo Tea is enough to make anyone passionate about tea. Yet, is this really tea? It looks like tea, but it is really an herbal infusion made by steeping hibiscus flowers, orange peel, licorice, cinnamon, rose hips, lemongrass and red poppy in a swirling of hot water.<br /><br />The original flavor is also slightly reminiscent of hot apple cider or hot cranberry juice which is why it is extra delicious with a cider mix. Tazo Teas are a mysterious experience into which you can lose yourself with a sense of abandon. So far I've tried more flavors than I can count and have always been impressed.<br /><br />~The Rebecca Review\n",
      "\n",
      "Review-2 : \n",
      " I think that this is a great Chai! Far from sweet.. I found it very unsweet (and that is exactly why I like it). The Tiger Spice is a great blend of Black Tea, Cinnamon, Ginger, herbs, and more. I was not a big tea drinker (until now) but this is a very smooth and light Chai. All you do is add water and it comes out creamy and perfect (some people add milk but this Chai mix already has a creamer in it). This is my new healthy breakfast wake me up. It is great. I have many Indian friends with whom I drink freshly made Chai with and this is as close as you can come with an instant blend. I highly recommend this.\n",
      "\n",
      "Review-3 : \n",
      " For a bag tea--which generally are not as good quality, this brews up like a top quality loose tea. It's a delicious snappy black blend, with a lovely scent and taste. One of my favorites.\n",
      "\n"
     ]
    }
   ],
   "source": [
    "count=1\n",
    "for i in range(3):\n",
    "    print('Review-%d : \\n %s\\n'%(count,cluster5[i]))\n",
    "    count +=1"
   ]
  },
  {
   "cell_type": "code",
   "execution_count": 43,
   "metadata": {},
   "outputs": [
    {
     "name": "stdout",
     "output_type": "stream",
     "text": [
      "Review-1 : \n",
      " Using the Briel Chamonix machine I purchased from Amazon, I have produced delicious lattes using these pods. The smell of the Espressione pods (regular and decaf) when opened is incredible - dark, rich roasts.  FYI - the pods are produced in Italy, which is a good sign.  Also, each pod has a handy paper \"tab\" so that you can remove it from your machine without burning your fingers.  I compared these pods to Starbucks espresso pods (regular and decaf), and the Espressione are my favorite.  Only one warning:  150 pods (individually wrapped) take up a lot of space, so be sure you know where you're going to store them.  More good news:  each box of 150 is stamped with a \"best if used by\" date, which in my case was 16 months after the date of purchase.\n",
      "\n",
      "Review-2 : \n",
      " After years of using Starbuck's decaf and regular single serving espresso pods, I finally found a substitute that's more economical and MUCH better tasting.<p>I've used three different brands of pods in my Starbuck's Barista machine, and have found that the quality of the pod and the flavor of the espresso inside is, by far, the best in the Espressione pods. The flavor is more full bodied and stronger than in the Starbuck's pods. I actually use one pod to make two shots of espresso, and the flavor is more intense than when I buy my specialty drinks from Starbucks or other coffee houses.<p>Also, the pod itself is of very high quality. Each pod is individually wrapped in an airtight, hard foil wrapper, and I've never opened a package yet that contained a torn pod with coffee spilling out. Such is not the case with other lesser brands.<p>The tab on each pod is also handy, making it easier to switch out a hot spent pod with a new one when making a second round of espresso.\n",
      "\n",
      "Review-3 : \n",
      " Few things I'd like to point out:<p>1.  &quot;Espresso&quot; is not a roast.  It's a drink.  In northern Italy they make espresso from Vienna roast, in southern Italy they use French.  Starbucks appears to be using French roast, so they should just label it French roast like any normal person would.<p>2.  The product description says &quot;Taste Espresso Roast as both a shot of espresso and brewed in a coffee press. This is one versatile coffee!&quot;  This is patently absurd.  It's pre-ground coffee, and it's either for use in espresso machines or presses, but not both.  Here's why:<p>Making a shot of espresso requires a very fine grind.  Making coffee press coffee requires a very course grind.  If you have ground coffee that is appropriate for espresso machines, it will pass through the filter in a coffee press and you will have a cup of sludge.  If you use ground coffee that does not pass through a press's filter in an espresso machine, you do not get espresso.  You get cafe crema, which is a good, but entirely different, beverage.<p>Therefore, a &quot;Universal Grind&quot; is an impossibility.  They should tell you on the label what kind of coffee maker it's ground for, like normal people.<p>3.  It's over-roasted.  Starbucks has an excellent bean-sourcing operation that buys better coffee than any other company of its size.  Then they roast all their beans Vienna or French.  Most beans taste best at a particular level of roasting that varies with the bean, and for most beans that level is not Vienna or French.  So why roast all your beans too dark?  I guess it's just easier that way.  Also, it lets them rename Vienna Roast as &quot;Starbucks Roast&quot; because the Austrians don't seem to care.<p>That said, this is still better than what you get in the supermarket - Starbucks specializes in coffee and sources much better beans than any of the companies that also make cheese, hot dogs, shampoo or cigarettes.<p>Anyway, if you really want some good coffee, do this:<p>Buy a grinder.  Nothing makes coffee lose flavor like keeping it around after grinding.  If you have a drip coffee machine, get a grinder with spinning blades; if you have something else like a press or vacuum pot, get a grinder with burrs.  If you have an espresso machine, get a very nice grinder with burrs.  Amazon has good deals on all three kinds, just do a search for 'coffee grinder'.  It's not that much money, and if you're somebody who's willing to pay for Starbucks you should invest in one.<p>Find a local coffee shop that roasts their own coffee and gives you the date it's roasted on.  Freshness matters!  Good beans don't taste nearly as good after they've been sitting around.<p>Ask the people at your local shop to tell you about the correct amount of beans to use.  Most people don't use the right amount.  If you don't use enough, your coffee comes out bitter, especially if you have a drip machine.  Not enough coffee means the beans you do have get too much exposure to hot water, which makes bitter coffee.\n",
      "\n"
     ]
    }
   ],
   "source": [
    "count=1\n",
    "for i in range(3):\n",
    "    print('Review-%d : \\n %s\\n'%(count,cluster6[i]))\n",
    "    count +=1"
   ]
  },
  {
   "cell_type": "markdown",
   "metadata": {},
   "source": [
    "k-mediods"
   ]
  },
  {
   "cell_type": "code",
   "execution_count": 44,
   "metadata": {},
   "outputs": [],
   "source": [
    "from sklearn.decomposition import TruncatedSVD\n",
    "from pyclustering.utils import calculate_distance_matrix\n",
    "from pyclustering.cluster import kmedoids"
   ]
  },
  {
   "cell_type": "code",
   "execution_count": 46,
   "metadata": {},
   "outputs": [],
   "source": [
    "def print_cluster_reviews_k_medoids(cluster_label_reviews,cluster_number = 0,review_count=3):\n",
    "    reviews = cluster_label_reviews[cluster_number]\n",
    "    reviews = reviews[0:review_count]\n",
    "    print(\"---: Cluster {0} :---\".format(cluster_number))\n",
    "    index = 1\n",
    "    for review in reviews:\n",
    "        print(\"Review {0} : \".format(index))\n",
    "        print(CLEANED_TEXT[review])\n",
    "        print()\n",
    "        index += 1"
   ]
  },
  {
   "cell_type": "code",
   "execution_count": 47,
   "metadata": {},
   "outputs": [],
   "source": [
    "def get_cluster_N_medoids(k_medoids):\n",
    "    return k_medoids.get_clusters(),k_medoids.get_medoids()"
   ]
  },
  {
   "cell_type": "code",
   "execution_count": 48,
   "metadata": {},
   "outputs": [
    {
     "data": {
      "text/plain": [
       "(30000, 2)"
      ]
     },
     "execution_count": 48,
     "metadata": {},
     "output_type": "execute_result"
    }
   ],
   "source": [
    "svd = TruncatedSVD(n_components=2)\n",
    "tfidf_dtm_2_dim = svd.fit_transform(data)\n",
    "tfidf_dtm_2_dim.shape"
   ]
  },
  {
   "cell_type": "code",
   "execution_count": 49,
   "metadata": {},
   "outputs": [
    {
     "data": {
      "text/plain": [
       "<pyclustering.cluster.kmedoids.kmedoids at 0x1dd933b5240>"
      ]
     },
     "execution_count": 49,
     "metadata": {},
     "output_type": "execute_result"
    }
   ],
   "source": [
    "k_medoids = kmedoids.kmedoids(tfidf_dtm_2_dim,[2, 9, 12],0.001,ccore=True)\n",
    "# Run cluster analysis and obtain results\n",
    "k_medoids.process()"
   ]
  },
  {
   "cell_type": "code",
   "execution_count": 50,
   "metadata": {},
   "outputs": [],
   "source": [
    "clusters,medoids = get_cluster_N_medoids(k_medoids)"
   ]
  },
  {
   "cell_type": "code",
   "execution_count": 52,
   "metadata": {},
   "outputs": [
    {
     "name": "stdout",
     "output_type": "stream",
     "text": [
      "Number of Reviews in Cluster 0 : 14235 \n",
      "Number of Reviews in Cluster 1 : 3136 \n",
      "Number of Reviews in Cluster 2 : 12629 \n"
     ]
    }
   ],
   "source": [
    "for i in range(0,len(clusters)):\n",
    "    list_if_indices = clusters[i]\n",
    "    # Number of reviews in different clusters\n",
    "    print(\"Number of Reviews in Cluster {0} : {1} \".format(i,len(list_if_indices)))"
   ]
  },
  {
   "cell_type": "code",
   "execution_count": 54,
   "metadata": {},
   "outputs": [],
   "source": [
    "CLEANED_TEXT = my_final['Text'].values"
   ]
  },
  {
   "cell_type": "code",
   "execution_count": 55,
   "metadata": {},
   "outputs": [
    {
     "name": "stdout",
     "output_type": "stream",
     "text": [
      "---: Cluster 0 :---\n",
      "Review 1 : \n",
      "I am not sure what they fed these guys but it is absolutely the best hare I ever eaten. I stuffed it with escargots and a creamy champagne cream sauce with truffles from Luxembourg and and eatable Thai Lilly flowers. Delightful. I added the leftovers to a Flan recipe that went over very well with the children. They all wanted more and skipped the ice cream. I'm ordering more. PS keep dental floss handy.\n",
      "\n",
      "Review 2 : \n",
      "this witty little book makes my son laugh at loud. i recite it in the car as we're driving along and he always can sing the refrain. he's learned about whales, India, drooping roses:  i love all the new words this book  introduces and the silliness of it all.  this is a classic book i am  willing to bet my son will STILL be able to recite from memory when he is  in college\n",
      "\n",
      "Review 3 : \n",
      "I can remember seeing the show when it aired on television years ago, when I was a child.  My sister later bought me the LP (which I have to this day,  I'm thirty something).I used this series of books &amp; songs when I did my  student teaching for preschoolers &amp; turned the whole school on to it.  I am now purchasing it on CD, along with the books for my children 5 &amp;  2.  The tradition lives on!\n",
      "\n",
      "\n",
      "\n",
      "\n",
      "---: Cluster 1 :---\n",
      "Review 1 : \n",
      "soothing. The aroma & flavor are very good. It does in fact have a \"sweet minty flavor\".  I like!  It is a kinda expensive though. I can't find it anywhere for less than $3.50 a box.<br /><br />(in general i am a huge Yogi tea fan.  but i don't i don't think their stress relief tea is as good as traditional medicinals)\n",
      "\n",
      "Review 2 : \n",
      "The grocery store has all kinds of &quot;gourmet&quot; coffees laid out. Each one I tried tasted like dust. Maybe they are ubiquitous, but Starbucks puts out a decent product and I can get a good cup in the a.m. and that's important.<p>The Breakfast Blend is a bit mild for my tastes (I like really STRONG coffee) but for guest and general consumption, this is a mild, aromatic coffee that is better than most.\n",
      "\n",
      "Review 3 : \n",
      "This blend is one of Starbucks' gentler blends, but you have to like the taste of Starbucks to appreciate it.  Often described as having a burnt taste, Starbucks beans are known for their strongly roasted taste.  Maxwell House afficionados should steer clear.<p>Before you invest in Starbucks coffee, make sure you like the flavor by tasting the brew at a local franchise.  If you don't have one near you, make sure you like a strong coffee flavor.  Although I enjoy Starbucks coffee myself, I am leery of recommending it to the uninitiated.  If you like the taste, stock up now.  The coffee stores well for months in the freezer.\n",
      "\n",
      "\n",
      "\n",
      "\n",
      "---: Cluster 2 :---\n",
      "Review 1 : \n",
      "I almost bought this for my cat i have been looking for a item like this at local stores so i placed the order and was reviewing everything i also bought several other items so did not think anything of the total until i looked at the invoice for this particular item the toy cost a 1.99 but they get you with shipping it was 6.55 bringing the total to 8.54. i thought it was overpriced and cancelled my order i guess it is buyer beware!!!!!\n",
      "\n",
      "Review 2 : \n",
      "What happens when you say his name three times? Michael Keaten stars in this comedy about two couples that live in an old two story house.  While coming back from a supply store, the couple suddenly get caught inside of a  &quot;broken-up&quot; bridge and then just before they start to tumble down  into the lake, a board catches them.  But just when they've got their hopes  up, and small dog steps on the board and the car starts to slide off the  bridge and into the lake waters.  A few minutes later...<p>They find  themselves back into their home, they find that somehow somehad light the  fireplace, as if done by magic.  From then on, they find a weird-looking  dead guy known as Bettlejuice.  The only way they can get him for help is  to call him by his name three times and he will appear at their survice.  But they soon wish that they have never called his name, because  Bettlejuice was once a troublemaker but he is the only one who can save  them, on the account that they said his name three times.  They can't leave  their houses or else they will find theirselves in another world with giant  sandworms.  This is a stellar comedy that you should see! Michael Keaton is  awesome as he plays the leading role of Bettlejuice.\n",
      "\n",
      "Review 3 : \n",
      "I'm never dissapointed with the great gadgets this company comes out with. My brother picked up the new Concerto for me and it is absolutely awesome! My wife likes whites and I like reds, so the 2 stoppers really come in handy. Also, I love the new clicking sound it makes when the vacuum is at the correct level. Neat design, great looking gift, the absolute best invention for saving wines.\n",
      "\n",
      "\n",
      "\n",
      "\n"
     ]
    }
   ],
   "source": [
    "print_cluster_reviews_k_medoids(clusters,cluster_number = 0, review_count = 3)\n",
    "print(\"\\n\\n\")\n",
    "print_cluster_reviews_k_medoids(clusters,cluster_number = 1, review_count = 3)\n",
    "print(\"\\n\\n\")\n",
    "print_cluster_reviews_k_medoids(clusters,cluster_number = 2, review_count = 3)\n",
    "print(\"\\n\\n\")"
   ]
  },
  {
   "cell_type": "code",
   "execution_count": null,
   "metadata": {},
   "outputs": [],
   "source": []
  },
  {
   "cell_type": "markdown",
   "metadata": {},
   "source": [
    "# Word2Vec"
   ]
  },
  {
   "cell_type": "code",
   "execution_count": 56,
   "metadata": {},
   "outputs": [
    {
     "name": "stdout",
     "output_type": "stream",
     "text": [
      "number of words that occured minimum 5 times  8130\n"
     ]
    }
   ],
   "source": [
    "sent_x = []\n",
    "for sent in x :\n",
    "    sent_x.append(sent.split())\n",
    "  \n",
    "    \n",
    "# Train your own Word2Vec model using your own train text corpus \n",
    "# min_count = 5 considers only words that occured atleast 5 times\n",
    "w2v_model=Word2Vec(sent_x,min_count=5,size=50, workers=4)\n",
    "\n",
    "w2v_words = list(w2v_model.wv.vocab)\n",
    "print(\"number of words that occured minimum 5 times \",len(w2v_words))"
   ]
  },
  {
   "cell_type": "code",
   "execution_count": 57,
   "metadata": {},
   "outputs": [],
   "source": [
    "train_vectors = []; \n",
    "for sent in sent_x:\n",
    "    sent_vec = np.zeros(50) \n",
    "    cnt_words =0; \n",
    "    for word in sent: # \n",
    "        if word in w2v_words:\n",
    "            vec = w2v_model.wv[word]\n",
    "            sent_vec += vec\n",
    "            cnt_words += 1\n",
    "    if cnt_words != 0:\n",
    "        sent_vec /= cnt_words\n",
    "    train_vectors.append(sent_vec)\n",
    "    \n",
    "data = train_vectors"
   ]
  },
  {
   "cell_type": "markdown",
   "metadata": {},
   "source": [
    "# K-Means++ Implementation"
   ]
  },
  {
   "cell_type": "code",
   "execution_count": 58,
   "metadata": {},
   "outputs": [],
   "source": [
    "k_values = [2,3,4,5,6,7,8,9,10]\n",
    "loss = []\n",
    "for i in k_values:\n",
    "    kmeans = KMeans(n_clusters=i, n_jobs=-1).fit(data)\n",
    "    loss.append(kmeans.inertia_)"
   ]
  },
  {
   "cell_type": "code",
   "execution_count": 59,
   "metadata": {},
   "outputs": [
    {
     "data": {
      "image/png": "[encoded data removed]",
      "text/plain": [
       "<Figure size 432x288 with 1 Axes>"
      ]
     },
     "metadata": {
      "needs_background": "light"
     },
     "output_type": "display_data"
    }
   ],
   "source": [
    "plt.plot(k_values, loss)\n",
    "plt.xlabel('K-values',size=14)\n",
    "plt.ylabel('Loss',size=14)\n",
    "plt.title('Loss VS K-values Plot\\n',size=18)\n",
    "plt.grid()\n",
    "plt.show()"
   ]
  },
  {
   "cell_type": "markdown",
   "metadata": {},
   "source": [
    " From above we can see that there is inflection at K = 4 . Befor it loss was decreasing faster as compared to the loss decreasing after it . So , the best value of K is 4."
   ]
  },
  {
   "cell_type": "code",
   "execution_count": 60,
   "metadata": {},
   "outputs": [
    {
     "name": "stdout",
     "output_type": "stream",
     "text": [
      "No. of reviews in Cluster-1 :  4700\n",
      "\n",
      "No. of reviews in Cluster-2 :  10441\n",
      "\n",
      "No. of reviews in Cluster-3 :  6160\n",
      "\n",
      "No. of reviews in Cluster-4 :  8699\n"
     ]
    }
   ],
   "source": [
    "optimal_k = 4\n",
    "# Variable that will be used in the conclusion \n",
    "avg_w2v_means_k = optimal_k\n",
    "\n",
    "# Implementing K-Means++ using optimal value of K\n",
    "kmeans = KMeans(n_clusters=optimal_k, n_jobs=-1).fit(data)\n",
    "\n",
    "# Getting all the reviews in different clusters\n",
    "cluster1 = []\n",
    "cluster2 = []\n",
    "cluster3 = []\n",
    "cluster4 = []\n",
    "\n",
    "for i in range(kmeans.labels_.shape[0]):\n",
    "    if kmeans.labels_[i] == 0:\n",
    "        cluster1.append(reviews[i])\n",
    "    elif kmeans.labels_[i] == 1:\n",
    "        cluster2.append(reviews[i])\n",
    "    elif kmeans.labels_[i] == 2:\n",
    "        cluster3.append(reviews[i])\n",
    "    else :\n",
    "        cluster4.append(reviews[i]) \n",
    "        \n",
    "# Number of reviews in different clusters\n",
    "print(\"No. of reviews in Cluster-1 : \",len(cluster1))\n",
    "print(\"\\nNo. of reviews in Cluster-2 : \",len(cluster2))\n",
    "print(\"\\nNo. of reviews in Cluster-3 : \",len(cluster3))\n",
    "print(\"\\nNo. of reviews in Cluster-4 : \",len(cluster4))"
   ]
  },
  {
   "cell_type": "code",
   "execution_count": 61,
   "metadata": {},
   "outputs": [
    {
     "name": "stdout",
     "output_type": "stream",
     "text": [
      "Review-1 : \n",
      " For years I have been trying to simulate a truly Italian espresso or cappuccino without success.  Several packages arrived [...] just before Christmas.  My son had sent a Briel Cadiz Espresso machine, two lovely Russian china cups and a case of Espressione Classic Espresso Pods.  It was the kindest, most wonderful Christmas present I can remember.  The espresso machine excels in quality and ease of use.  The espresso is exquisite.  Each time I prepare an espresso or cappuccino I experience my son's loving kindness and a small part of the many gifts of Italy.  Heaven on Earth.\n",
      "\n",
      "Review-2 : \n",
      " Using the Briel Chamonix machine I purchased from Amazon, I have produced delicious lattes using these pods. The smell of the Espressione pods (regular and decaf) when opened is incredible - dark, rich roasts.  FYI - the pods are produced in Italy, which is a good sign.  Also, each pod has a handy paper \"tab\" so that you can remove it from your machine without burning your fingers.  I compared these pods to Starbucks espresso pods (regular and decaf), and the Espressione are my favorite.  Only one warning:  150 pods (individually wrapped) take up a lot of space, so be sure you know where you're going to store them.  More good news:  each box of 150 is stamped with a \"best if used by\" date, which in my case was 16 months after the date of purchase.\n",
      "\n",
      "Review-3 : \n",
      " I've purchased both the Espressione Espresso (classic) and the 100% Arabica.  My vote is definitely with the 100% Arabica.  The flavor has more bite and flavor (much more like European coffee than American).\n",
      "\n"
     ]
    }
   ],
   "source": [
    "count=1\n",
    "for i in range(3):\n",
    "    print('Review-%d : \\n %s\\n'%(count,cluster1[i]))\n",
    "    count +=1"
   ]
  },
  {
   "cell_type": "code",
   "execution_count": 62,
   "metadata": {
    "collapsed": true
   },
   "outputs": [
    {
     "name": "stdout",
     "output_type": "stream",
     "text": [
      "Review-1 : \n",
      " THIS IS ONE MOVIE THAT SHOULD BE IN YOUR MOVIE COLLECTION. IT IS FILLED WITH COMEDY, ACTION, AND WHATEVER ELSE YOU WANT TO CALL IT.\n",
      "\n",
      "Review-2 : \n",
      " These are easy to use, they do not make a mess, and offer vibrant colors.  They do not taint what you are decorting as some colors can.  I would  highly recommend these to anyone to likes to decorate.\n",
      "\n",
      "Review-3 : \n",
      " This are so much easier to use than the Wilson paste colors.  Colors are  vibrant, and do not taint the frosting like some colors can.  These are  simple to use, and do not make a mess.  My only complaint is that I did not  find these years ago.  This is a must have if you decorate often!\n",
      "\n"
     ]
    }
   ],
   "source": [
    "count=1\n",
    "for i in range(3):\n",
    "    print('Review-%d : \\n %s\\n'%(count,cluster2[i]))\n",
    "    count +=1"
   ]
  },
  {
   "cell_type": "code",
   "execution_count": 63,
   "metadata": {
    "scrolled": true
   },
   "outputs": [
    {
     "name": "stdout",
     "output_type": "stream",
     "text": [
      "Review-1 : \n",
      " I bought a few of these after my apartment was infested with fruit flies. After only a few hours, the trap had &quot;attracted&quot; many flies and within a few days they were practically gone. This may not be a long term  solution, but if flies are driving you crazy, consider buying this. One  caution- the surface is very sticky, so try to avoid touching it.\n",
      "\n",
      "Review-2 : \n",
      " I THOUGHT THIS MOVIE WAS SO FUNNY, MICHAEL KEATON AS BEETLEJUICE WAS RIGHT ON.  AND ALEC BALDWIN PLAYING A GEEKY HUSBAND IS PRICELESS.  I LOVE THE DA-OO SCENCE.  THE KIDS AND I REALLY ENJOY THIS ONE.\n",
      "\n",
      "Review-3 : \n",
      " It was on the other night, and, having been a big fan of the cartoon when it was being shown, decided to watch it (I'm also trying to see all the Winona Ryder movies I know.). <p> It's a well known fact i like seeing her [Winona Ryder] dance at the end of a movie (hey, it's funny!), but apart from that, it was just a hilarious film and i liked it very much. The only thing  wrong was that it was too short. Maybe the special efects were a bit &quot;off&quot;, but hey, it's an older movie1\n",
      "\n"
     ]
    }
   ],
   "source": [
    "count=1\n",
    "for i in range(3):\n",
    "    print('Review-%d : \\n %s\\n'%(count,cluster3[i]))\n",
    "    count +=1"
   ]
  },
  {
   "cell_type": "code",
   "execution_count": 64,
   "metadata": {},
   "outputs": [
    {
     "name": "stdout",
     "output_type": "stream",
     "text": [
      "Review-1 : \n",
      " this witty little book makes my son laugh at loud. i recite it in the car as we're driving along and he always can sing the refrain. he's learned about whales, India, drooping roses:  i love all the new words this book  introduces and the silliness of it all.  this is a classic book i am  willing to bet my son will STILL be able to recite from memory when he is  in college\n",
      "\n",
      "Review-2 : \n",
      " I can remember seeing the show when it aired on television years ago, when I was a child.  My sister later bought me the LP (which I have to this day,  I'm thirty something).I used this series of books &amp; songs when I did my  student teaching for preschoolers &amp; turned the whole school on to it.  I am now purchasing it on CD, along with the books for my children 5 &amp;  2.  The tradition lives on!\n",
      "\n",
      "Review-3 : \n",
      " Beetlejuice is a well written movie ..... everything about it is excellent! From the acting to the special effects you will be delighted you chose to view this movie.\n",
      "\n"
     ]
    }
   ],
   "source": [
    "count=1\n",
    "for i in range(3):\n",
    "    print('Review-%d : \\n %s\\n'%(count,cluster4[i]))\n",
    "    count +=1"
   ]
  },
  {
   "cell_type": "markdown",
   "metadata": {},
   "source": [
    "# k-mediods"
   ]
  },
  {
   "cell_type": "code",
   "execution_count": 65,
   "metadata": {},
   "outputs": [
    {
     "data": {
      "text/plain": [
       "(30000, 2)"
      ]
     },
     "execution_count": 65,
     "metadata": {},
     "output_type": "execute_result"
    }
   ],
   "source": [
    "svd = TruncatedSVD(n_components=2)\n",
    "avg_w2v_arr_2_dim = svd.fit_transform(data)\n",
    "avg_w2v_arr_2_dim.shape"
   ]
  },
  {
   "cell_type": "code",
   "execution_count": 66,
   "metadata": {},
   "outputs": [
    {
     "data": {
      "text/plain": [
       "<pyclustering.cluster.kmedoids.kmedoids at 0x1dd95f2f518>"
      ]
     },
     "execution_count": 66,
     "metadata": {},
     "output_type": "execute_result"
    }
   ],
   "source": [
    "k_medoids = kmedoids.kmedoids(avg_w2v_arr_2_dim,[2, 9, 12],0.001,ccore=True)\n",
    "# Run cluster analysis and obtain results\n",
    "k_medoids.process()"
   ]
  },
  {
   "cell_type": "code",
   "execution_count": 67,
   "metadata": {},
   "outputs": [],
   "source": [
    "clusters,medoids = get_cluster_N_medoids(k_medoids)"
   ]
  },
  {
   "cell_type": "code",
   "execution_count": 68,
   "metadata": {},
   "outputs": [
    {
     "name": "stdout",
     "output_type": "stream",
     "text": [
      "Number of Reviews in Cluster 0 : 13243 \n",
      "Number of Reviews in Cluster 1 : 10106 \n",
      "Number of Reviews in Cluster 2 : 6651 \n"
     ]
    }
   ],
   "source": [
    "for i in range(0,len(clusters)):\n",
    "    list_if_indices = clusters[i]\n",
    "    # Number of reviews in different clusters\n",
    "    print(\"Number of Reviews in Cluster {0} : {1} \".format(i,len(list_if_indices)))"
   ]
  },
  {
   "cell_type": "code",
   "execution_count": 69,
   "metadata": {},
   "outputs": [
    {
     "name": "stdout",
     "output_type": "stream",
     "text": [
      "---: Cluster 0 :---\n",
      "Review 1 : \n",
      "I toss this on most chicken items I make from whole chickens to wings.<br />Just to spice up things I put a little in prior to grilling and still keep whatever sauce I want.\n",
      "\n",
      "Review 2 : \n",
      "this witty little book makes my son laugh at loud. i recite it in the car as we're driving along and he always can sing the refrain. he's learned about whales, India, drooping roses:  i love all the new words this book  introduces and the silliness of it all.  this is a classic book i am  willing to bet my son will STILL be able to recite from memory when he is  in college\n",
      "\n",
      "Review 3 : \n",
      "I can remember seeing the show when it aired on television years ago, when I was a child.  My sister later bought me the LP (which I have to this day,  I'm thirty something).I used this series of books &amp; songs when I did my  student teaching for preschoolers &amp; turned the whole school on to it.  I am now purchasing it on CD, along with the books for my children 5 &amp;  2.  The tradition lives on!\n",
      "\n",
      "\n",
      "\n",
      "\n",
      "---: Cluster 1 :---\n",
      "Review 1 : \n",
      "This is definitely a tea that stands alone.  This tea is from a bitter, cooling-type herb. Good for problems with digestion, this tea does whatever is necessary to get your GI system back in order. Do not steep too long and remove the tea bag.  Sip slowly and enjoy the roasted flavor of this calming and detoxifying drink.\n",
      "\n",
      "Review 2 : \n",
      "I'm sick of scads of nasty toothpicks all over my counter when I'm tinting icings;  the squeeze-bottle concept is one that is long overdue and exceptionally welcome.  The colors are vibrant, do not have an offensive taste, and blend, in my opinion, more smoothly than the Wilton pastes.  You'll need to experiment a bit to get hues right at first, but it's well worth it.\n",
      "\n",
      "Review 3 : \n",
      "I don't know why anyone would ever use those little liquid food colors again after trying these pastes. The colors are more intense, and you can easily blend lovely shades for your icings. <p>Martha Stewart shows wonderful seasonal cookies from time to time on her TV show. A simple eggwhite-sugar icing on cookies in exciting colors makes such a wonderful table decoration as well as great dessert for parties, teas and other events. These paste colors are a must if you like to make frosted cookies or party cakes. <p>And these are especially fun if you have kids. A cookie-icing contest is a fun event for a birthday party, Christmas party or just a rainy afternoon.\n",
      "\n",
      "\n",
      "\n",
      "\n",
      "---: Cluster 2 :---\n",
      "Review 1 : \n",
      "Wow. I just got a yorkie puppy, 10 weeks at the time of coming home. Breeder sent me home with mighty dog canned food. Worst smelling product I have encountered, my house and puppy stunk. I know dogs are not human, but a product that has that scent cannot possibly be good for the dog. I went to petco and got some supplies including wellness puppy treats. He loved them so much I decided to quickly switch to this dog food. No transition just fed it to him, he loves it, eats more, and has absolutely no problems. I am happy with the ingredient list. Highly recommend. Also when I first opened this I was pleasantly surprised to see actual pieces of vegetables in the can, plus it smelled kind of like tuna, much much better then the horrible smelling mystery paste before.\n",
      "\n",
      "Review 2 : \n",
      "I bought a few of these after my apartment was infested with fruit flies. After only a few hours, the trap had &quot;attracted&quot; many flies and within a few days they were practically gone. This may not be a long term  solution, but if flies are driving you crazy, consider buying this. One  caution- the surface is very sticky, so try to avoid touching it.\n",
      "\n",
      "Review 3 : \n",
      "I have just recently purchased the Woodstream Corp 0610 gopher trap, and  within 10 minutes of laying the traps i was catching  gophers. This product  is the best i have ever used. The 0610 gopher trap is easy to set and works  with great success. Also, remember to use a wire attached to the trap and  tie it to a steak to prevent gophers from dragging the trap further into  their hole once they are caught. I hope you find this product as easy to  use as i did, Good luck.\n",
      "\n",
      "\n",
      "\n",
      "\n"
     ]
    }
   ],
   "source": [
    "print_cluster_reviews_k_medoids(clusters,cluster_number = 0, review_count = 3)\n",
    "print(\"\\n\\n\")\n",
    "print_cluster_reviews_k_medoids(clusters,cluster_number = 1, review_count = 3)\n",
    "print(\"\\n\\n\")\n",
    "print_cluster_reviews_k_medoids(clusters,cluster_number = 2, review_count = 3)\n",
    "print(\"\\n\\n\")"
   ]
  },
  {
   "cell_type": "markdown",
   "metadata": {},
   "source": [
    "# TFIDF-Word2Vec"
   ]
  },
  {
   "cell_type": "code",
   "execution_count": 70,
   "metadata": {},
   "outputs": [],
   "source": [
    "tf_idf_vect = TfidfVectorizer()\n",
    "\n",
    "# final_tf_idf1 is the sparse matrix with row= sentence, col=word and cell_val = tfidf\n",
    "final_tf_idf1 = tf_idf_vect.fit_transform(x)\n",
    "\n",
    "# tfidf words/col-names\n",
    "tfidf_feat = tf_idf_vect.get_feature_names()\n",
    "\n",
    "# compute TFIDF Weighted Word2Vec for each review for sent_x .\n",
    "tfidf_vectors = []; \n",
    "row=0;\n",
    "for sent in sent_x: \n",
    "    sent_vec = np.zeros(50) \n",
    "    weight_sum =0; \n",
    "    for word in sent: \n",
    "        if word in w2v_words:\n",
    "            vec = w2v_model.wv[word]\n",
    "            # obtain the tf_idfidf of a word in a sentence/review\n",
    "            tf_idf = final_tf_idf1[row, tfidf_feat.index(word)]\n",
    "            sent_vec += (vec * tf_idf)\n",
    "            weight_sum += tf_idf\n",
    "    if weight_sum != 0:\n",
    "        sent_vec /= weight_sum\n",
    "    tfidf_vectors.append(sent_vec)\n",
    "    row += 1 \n",
    "    \n",
    "data = tfidf_vectors"
   ]
  },
  {
   "cell_type": "markdown",
   "metadata": {},
   "source": [
    "# K-Means++ Implementation"
   ]
  },
  {
   "cell_type": "code",
   "execution_count": 71,
   "metadata": {},
   "outputs": [],
   "source": [
    "\n",
    "\n",
    "k_values = [2,3,4,5,6,7,8,9,10]\n",
    "loss = []\n",
    "for i in k_values:\n",
    "    kmeans = KMeans(n_clusters=i, n_jobs=-1).fit(data)\n",
    "    loss.append(kmeans.inertia_)"
   ]
  },
  {
   "cell_type": "code",
   "execution_count": 72,
   "metadata": {},
   "outputs": [
    {
     "data": {
      "image/png": "[encoded data removed]",
      "text/plain": [
       "<Figure size 432x288 with 1 Axes>"
      ]
     },
     "metadata": {
      "needs_background": "light"
     },
     "output_type": "display_data"
    }
   ],
   "source": [
    "plt.plot(k_values, loss)\n",
    "plt.xlabel('K-values',size=14)\n",
    "plt.ylabel('Loss',size=14)\n",
    "plt.title('Loss VS K-values Plot\\n',size=18)\n",
    "plt.grid()\n",
    "plt.show()"
   ]
  },
  {
   "cell_type": "markdown",
   "metadata": {},
   "source": [
    "# From above we can see that there is inflection at K = 4 . Befor it loss was decreasing faster as compared to the loss decreasing after it . So , the best value of K is 4"
   ]
  },
  {
   "cell_type": "code",
   "execution_count": 73,
   "metadata": {},
   "outputs": [
    {
     "name": "stdout",
     "output_type": "stream",
     "text": [
      "No. of reviews in Cluster-1 :  3719\n",
      "\n",
      "No. of reviews in Cluster-2 :  5283\n",
      "\n",
      "No. of reviews in Cluster-3 :  10593\n",
      "\n",
      "No. of reviews in Cluster-4 :  10405\n"
     ]
    }
   ],
   "source": [
    "optimal_k = 4\n",
    "# Variable that will be used in the conclusion \n",
    "tfidf_w2v_means_k = optimal_k\n",
    "\n",
    "# Implementing K-Means++ using optimal value of K\n",
    "kmeans = KMeans(n_clusters=optimal_k, n_jobs=-1).fit(data)\n",
    "\n",
    "# Getting all the reviews in different clusters\n",
    "cluster1 = []\n",
    "cluster2 = []\n",
    "cluster3 = []\n",
    "cluster4 = []\n",
    "\n",
    "for i in range(kmeans.labels_.shape[0]):\n",
    "    if kmeans.labels_[i] == 0:\n",
    "        cluster1.append(reviews[i])\n",
    "    elif kmeans.labels_[i] == 1:\n",
    "        cluster2.append(reviews[i])\n",
    "    elif kmeans.labels_[i] == 2:\n",
    "        cluster3.append(reviews[i])\n",
    "    else :\n",
    "        cluster4.append(reviews[i]) \n",
    "        \n",
    "# Number of reviews in different clusters\n",
    "print(\"No. of reviews in Cluster-1 : \",len(cluster1))\n",
    "print(\"\\nNo. of reviews in Cluster-2 : \",len(cluster2))\n",
    "print(\"\\nNo. of reviews in Cluster-3 : \",len(cluster3))\n",
    "print(\"\\nNo. of reviews in Cluster-4 : \",len(cluster4))"
   ]
  },
  {
   "cell_type": "code",
   "execution_count": 74,
   "metadata": {},
   "outputs": [
    {
     "name": "stdout",
     "output_type": "stream",
     "text": [
      "Review-1 : \n",
      " For years I have been trying to simulate a truly Italian espresso or cappuccino without success.  Several packages arrived [...] just before Christmas.  My son had sent a Briel Cadiz Espresso machine, two lovely Russian china cups and a case of Espressione Classic Espresso Pods.  It was the kindest, most wonderful Christmas present I can remember.  The espresso machine excels in quality and ease of use.  The espresso is exquisite.  Each time I prepare an espresso or cappuccino I experience my son's loving kindness and a small part of the many gifts of Italy.  Heaven on Earth.\n",
      "\n",
      "Review-2 : \n",
      " Using the Briel Chamonix machine I purchased from Amazon, I have produced delicious lattes using these pods. The smell of the Espressione pods (regular and decaf) when opened is incredible - dark, rich roasts.  FYI - the pods are produced in Italy, which is a good sign.  Also, each pod has a handy paper \"tab\" so that you can remove it from your machine without burning your fingers.  I compared these pods to Starbucks espresso pods (regular and decaf), and the Espressione are my favorite.  Only one warning:  150 pods (individually wrapped) take up a lot of space, so be sure you know where you're going to store them.  More good news:  each box of 150 is stamped with a \"best if used by\" date, which in my case was 16 months after the date of purchase.\n",
      "\n",
      "Review-3 : \n",
      " After years of using Starbuck's decaf and regular single serving espresso pods, I finally found a substitute that's more economical and MUCH better tasting.<p>I've used three different brands of pods in my Starbuck's Barista machine, and have found that the quality of the pod and the flavor of the espresso inside is, by far, the best in the Espressione pods. The flavor is more full bodied and stronger than in the Starbuck's pods. I actually use one pod to make two shots of espresso, and the flavor is more intense than when I buy my specialty drinks from Starbucks or other coffee houses.<p>Also, the pod itself is of very high quality. Each pod is individually wrapped in an airtight, hard foil wrapper, and I've never opened a package yet that contained a torn pod with coffee spilling out. Such is not the case with other lesser brands.<p>The tab on each pod is also handy, making it easier to switch out a hot spent pod with a new one when making a second round of espresso.\n",
      "\n"
     ]
    }
   ],
   "source": [
    "count=1\n",
    "for i in range(3):\n",
    "    print('Review-%d : \\n %s\\n'%(count,cluster1[i]))\n",
    "    count +=1"
   ]
  },
  {
   "cell_type": "code",
   "execution_count": 75,
   "metadata": {},
   "outputs": [
    {
     "name": "stdout",
     "output_type": "stream",
     "text": [
      "Review-1 : \n",
      " Boots (the most handsome red tom cat you'll ever see!) loves these treats.  We keep them on a shelf in the pantry - only problem is everytime we open the pantry door he thinks he gets a treat.<p>  We've tried other cat treats which he always eats (truth is, Boots eats everything!) but these seem to be his favorite by far.\n",
      "\n",
      "Review-2 : \n",
      " My cat Foutchie is heading toward 5 now and no one told her the trouble with a kitten is it eventually becomes a cat (so take that Ogden Nash!).  She still voom-voom-vooms around at a pace that makes me exhausted.  She loves toys, especially stuff she chases.  So the bubbles are great full.  Especially since they are catnip bubbles.  You don't have the worry about them getting soap on them and making them sick.  She love jumping high to pop them.<p>So if you are looking for something to awaken the kitten in your kitty, you might try these.\n",
      "\n",
      "Review-3 : \n",
      " Are you supposed to avoid sugars if you have a urinary tract infection?\n",
      "\n"
     ]
    }
   ],
   "source": [
    "count=1\n",
    "for i in range(3):\n",
    "    print('Review-%d : \\n %s\\n'%(count,cluster2[i]))\n",
    "    count +=1"
   ]
  },
  {
   "cell_type": "code",
   "execution_count": 76,
   "metadata": {},
   "outputs": [
    {
     "name": "stdout",
     "output_type": "stream",
     "text": [
      "Review-1 : \n",
      " this witty little book makes my son laugh at loud. i recite it in the car as we're driving along and he always can sing the refrain. he's learned about whales, India, drooping roses:  i love all the new words this book  introduces and the silliness of it all.  this is a classic book i am  willing to bet my son will STILL be able to recite from memory when he is  in college\n",
      "\n",
      "Review-2 : \n",
      " I can remember seeing the show when it aired on television years ago, when I was a child.  My sister later bought me the LP (which I have to this day,  I'm thirty something).I used this series of books &amp; songs when I did my  student teaching for preschoolers &amp; turned the whole school on to it.  I am now purchasing it on CD, along with the books for my children 5 &amp;  2.  The tradition lives on!\n",
      "\n",
      "Review-3 : \n",
      " Beetlejuice is a well written movie ..... everything about it is excellent! From the acting to the special effects you will be delighted you chose to view this movie.\n",
      "\n"
     ]
    }
   ],
   "source": [
    "count=1\n",
    "for i in range(3):\n",
    "    print('Review-%d : \\n %s\\n'%(count,cluster3[i]))\n",
    "    count +=1"
   ]
  },
  {
   "cell_type": "code",
   "execution_count": 77,
   "metadata": {},
   "outputs": [
    {
     "name": "stdout",
     "output_type": "stream",
     "text": [
      "Review-1 : \n",
      " I'm getting crazy.I'm looking for Beatlejuice french version video.<p>Is it really impossible today not to find the French VHS version of this film ?<p>Could U please tell me something about it ? Tks\n",
      "\n",
      "Review-2 : \n",
      " These are easy to use, they do not make a mess, and offer vibrant colors.  They do not taint what you are decorting as some colors can.  I would  highly recommend these to anyone to likes to decorate.\n",
      "\n",
      "Review-3 : \n",
      " This are so much easier to use than the Wilson paste colors.  Colors are  vibrant, and do not taint the frosting like some colors can.  These are  simple to use, and do not make a mess.  My only complaint is that I did not  find these years ago.  This is a must have if you decorate often!\n",
      "\n"
     ]
    }
   ],
   "source": [
    "count=1\n",
    "for i in range(3):\n",
    "    print('Review-%d : \\n %s\\n'%(count,cluster4[i]))\n",
    "    count +=1"
   ]
  },
  {
   "cell_type": "markdown",
   "metadata": {},
   "source": [
    "# k-mediods"
   ]
  },
  {
   "cell_type": "code",
   "execution_count": 79,
   "metadata": {},
   "outputs": [
    {
     "data": {
      "text/plain": [
       "(30000, 2)"
      ]
     },
     "execution_count": 79,
     "metadata": {},
     "output_type": "execute_result"
    }
   ],
   "source": [
    "svd = TruncatedSVD(n_components=2)\n",
    "tfidf_w2v_arr_2_dim = svd.fit_transform(data)\n",
    "tfidf_w2v_arr_2_dim.shape"
   ]
  },
  {
   "cell_type": "code",
   "execution_count": 80,
   "metadata": {},
   "outputs": [
    {
     "data": {
      "text/plain": [
       "<pyclustering.cluster.kmedoids.kmedoids at 0x1dd9e820710>"
      ]
     },
     "execution_count": 80,
     "metadata": {},
     "output_type": "execute_result"
    }
   ],
   "source": [
    "k_medoids = kmedoids.kmedoids(tfidf_w2v_arr_2_dim,[2, 9, 12],0.001,ccore=True)\n",
    "# Run cluster analysis and obtain results\n",
    "k_medoids.process()"
   ]
  },
  {
   "cell_type": "code",
   "execution_count": 81,
   "metadata": {},
   "outputs": [],
   "source": [
    "clusters,medoids = get_cluster_N_medoids(k_medoids)"
   ]
  },
  {
   "cell_type": "code",
   "execution_count": 82,
   "metadata": {},
   "outputs": [
    {
     "name": "stdout",
     "output_type": "stream",
     "text": [
      "Number of Reviews in Cluster 0 : 5676 \n",
      "Number of Reviews in Cluster 1 : 7068 \n",
      "Number of Reviews in Cluster 2 : 17256 \n"
     ]
    }
   ],
   "source": [
    "for i in range(0,len(clusters)):\n",
    "    list_if_indices = clusters[i]\n",
    "    # Number of reviews in different clusters\n",
    "    print(\"Number of Reviews in Cluster {0} : {1} \".format(i,len(list_if_indices)))"
   ]
  },
  {
   "cell_type": "code",
   "execution_count": 83,
   "metadata": {},
   "outputs": [
    {
     "name": "stdout",
     "output_type": "stream",
     "text": [
      "---: Cluster 0 :---\n",
      "Review 1 : \n",
      "My cat recently freaked out over some catnip that came with a bed I bought him so I thought I'd order some more.  I couldn't find the same brand but this \"Xtreme\" catnip sounded like it might do the trick.  Not even close.  My husband swears he saw our cat lift up his paw and yawn after smelling it.  If your cat is like mine you'll probably get a better reaction out of any other catnip out there.\n",
      "\n",
      "Review 2 : \n",
      "I bought a few of these after my apartment was infested with fruit flies. After only a few hours, the trap had &quot;attracted&quot; many flies and within a few days they were practically gone. This may not be a long term  solution, but if flies are driving you crazy, consider buying this. One  caution- the surface is very sticky, so try to avoid touching it.\n",
      "\n",
      "Review 3 : \n",
      "I have just recently purchased the Woodstream Corp 0610 gopher trap, and  within 10 minutes of laying the traps i was catching  gophers. This product  is the best i have ever used. The 0610 gopher trap is easy to set and works  with great success. Also, remember to use a wire attached to the trap and  tie it to a steak to prevent gophers from dragging the trap further into  their hole once they are caught. I hope you find this product as easy to  use as i did, Good luck.\n",
      "\n",
      "\n",
      "\n",
      "\n",
      "---: Cluster 1 :---\n",
      "Review 1 : \n",
      "Seriously? It's flavored sugar with candy that you lick and dip in the sugar so as to eat sugar with your candy that is mostly pressed sugar.<br /><br />That said. It's sooo good. And if your parents let you have it they obviously loved you because no one ACTUALLY wants to hand a kid a bunch of sugar and say, \"GO FOR IT!\"<br /><br />At least that's my take on it.<br /><br />-Mike\n",
      "\n",
      "Review 2 : \n",
      "I bought these to decorate some dia de los muertos skulls with icing.  The Ateco food coloring gave nice bright, vibrant colors and mixed with the icing very well. I was totally satisfied with the purchase.\n",
      "\n",
      "Review 3 : \n",
      "For years I have been trying to simulate a truly Italian espresso or cappuccino without success.  Several packages arrived [...] just before Christmas.  My son had sent a Briel Cadiz Espresso machine, two lovely Russian china cups and a case of Espressione Classic Espresso Pods.  It was the kindest, most wonderful Christmas present I can remember.  The espresso machine excels in quality and ease of use.  The espresso is exquisite.  Each time I prepare an espresso or cappuccino I experience my son's loving kindness and a small part of the many gifts of Italy.  Heaven on Earth.\n",
      "\n",
      "\n",
      "\n",
      "\n",
      "---: Cluster 2 :---\n",
      "Review 1 : \n",
      "Stay away from these people! They are passing off kosher salt as pretzel salt. Save your time and money!! They are ripoffs.\n",
      "\n",
      "Review 2 : \n",
      "this witty little book makes my son laugh at loud. i recite it in the car as we're driving along and he always can sing the refrain. he's learned about whales, India, drooping roses:  i love all the new words this book  introduces and the silliness of it all.  this is a classic book i am  willing to bet my son will STILL be able to recite from memory when he is  in college\n",
      "\n",
      "Review 3 : \n",
      "I can remember seeing the show when it aired on television years ago, when I was a child.  My sister later bought me the LP (which I have to this day,  I'm thirty something).I used this series of books &amp; songs when I did my  student teaching for preschoolers &amp; turned the whole school on to it.  I am now purchasing it on CD, along with the books for my children 5 &amp;  2.  The tradition lives on!\n",
      "\n",
      "\n",
      "\n",
      "\n"
     ]
    }
   ],
   "source": [
    "print_cluster_reviews_k_medoids(clusters,cluster_number = 0, review_count = 3)\n",
    "print(\"\\n\\n\")\n",
    "print_cluster_reviews_k_medoids(clusters,cluster_number = 1, review_count = 3)\n",
    "print(\"\\n\\n\")\n",
    "print_cluster_reviews_k_medoids(clusters,cluster_number = 2, review_count = 3)\n",
    "print(\"\\n\\n\")"
   ]
  },
  {
   "cell_type": "markdown",
   "metadata": {},
   "source": [
    "# Conclusion"
   ]
  },
  {
   "cell_type": "code",
   "execution_count": 93,
   "metadata": {},
   "outputs": [
    {
     "name": "stdout",
     "output_type": "stream",
     "text": [
      "+-------+------------------------------+---------------------+\n",
      "| S.NO. |            MODEL             | Number of Clusters  |\n",
      "+-------+------------------------------+---------------------+\n",
      "|   1   |      K-means++ for BoW       |          4          |\n",
      "|   2   |      K-medoids for BoW       |          3          |\n",
      "|   3   |     K-means++ for TFIDF      |          6          |\n",
      "|   4   |     K-medoids for TFIDF      |          3          |\n",
      "|   5   |  K-means++ for Avg_Word2Vec  |          4          |\n",
      "|   6   |  K-medoids for Avg_Word2Vec  |          3          |\n",
      "|   7   | K-means++ for tfidf_Word2Vec |          4          |\n",
      "|   8   | K-medoids for tfidf_Word2Vec |          3          |\n",
      "+-------+------------------------------+---------------------+\n"
     ]
    }
   ],
   "source": [
    "from prettytable import PrettyTable\n",
    "\n",
    "names = ['K-means++ for BoW','K-medoids for BoW','K-means++ for TFIDF','K-medoids for TFIDF','K-means++ for Avg_Word2Vec',\\\n",
    "         'K-medoids for Avg_Word2Vec','K-means++ for tfidf_Word2Vec','K-medoids for tfidf_Word2Vec']\n",
    "\n",
    "optimal_k = [4,3,6,3,4,3,4,3]\n",
    "\n",
    "numbering = [1,2,3,4,5,6,7,8]\n",
    "\n",
    "# Initializing prettytable\n",
    "table = PrettyTable()\n",
    "\n",
    "# Adding columns\n",
    "table.add_column(\"S.NO.\",numbering)\n",
    "table.add_column(\"MODEL\",names)\n",
    "table.add_column(\"Number of Clusters \",optimal_k)\n",
    "\n",
    "# Printing the Table\n",
    "print(table)"
   ]
  }
 ],
 "metadata": {
  "kernelspec": {
   "display_name": "Python 3",
   "language": "python",
   "name": "python3"
  },
  "language_info": {
   "codemirror_mode": {
    "name": "ipython",
    "version": 3
   },
   "file_extension": ".py",
   "mimetype": "text/x-python",
   "name": "python",
   "nbconvert_exporter": "python",
   "pygments_lexer": "ipython3",
   "version": "3.7.0"
  }
 },
 "nbformat": 4,
 "nbformat_minor": 2
}
