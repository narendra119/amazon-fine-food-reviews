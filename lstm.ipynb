{
 "cells": [
  {
   "cell_type": "code",
   "execution_count": 7,
   "metadata": {
    "colab": {},
    "colab_type": "code",
    "id": "_rR9eFVNR-CF"
   },
   "outputs": [
    {
     "name": "stderr",
     "output_type": "stream",
     "text": [
      "Using TensorFlow backend.\n"
     ]
    }
   ],
   "source": [
    "import warnings\n",
    "from sklearn.exceptions import DataConversionWarning\n",
    "warnings.filterwarnings(action='ignore', category=DataConversionWarning)\n",
    "\n",
    "import sqlite3\n",
    "import datetime as dt\n",
    "import pandas as pd\n",
    "import numpy as np\n",
    "import matplotlib.pyplot as plt\n",
    "import seaborn as sns\n",
    "from collections import Counter\n",
    "from itertools import islice\n",
    "\n",
    "from sklearn.model_selection import train_test_split\n",
    "from keras.models import Sequential \n",
    "from keras.preprocessing import sequence\n",
    "from keras.initializers import he_normal\n",
    "from keras.layers import BatchNormalization, Dense, Dropout, Flatten, LSTM\n",
    "from keras.layers.embeddings import Embedding\n",
    "from keras.regularizers import L1L2"
   ]
  },
  {
   "cell_type": "code",
   "execution_count": 8,
   "metadata": {
    "colab": {
     "base_uri": "https://localhost:8080/",
     "height": 1092
    },
    "colab_type": "code",
    "id": "8NVxbS8pTeQE",
    "outputId": "291e5fcc-d111-4c05-ce01-4c40904d9b7d"
   },
   "outputs": [
    {
     "name": "stdout",
     "output_type": "stream",
     "text": [
      "Dataset Shape : \n",
      " (50000,)\n"
     ]
    }
   ],
   "source": [
    "connection = sqlite3.connect('final.sqlite')\n",
    "# Load data into pandas dataframe.\n",
    "reviews_df = pd.read_sql_query(\"\"\" SELECT * FROM Reviews \"\"\",connection)\n",
    "\n",
    "    # Drop index column \n",
    "reviews_df = reviews_df.drop(columns=['index'])\n",
    "reviews_df['Time'] = reviews_df[['Time']].applymap(lambda x: dt.datetime.fromtimestamp(x))\n",
    "\n",
    "\n",
    "reviews_df=reviews_df.sample(50000)\n",
    "\n",
    "    # Sort the data on the basis of time.\n",
    "reviews_df = reviews_df.sort_values(by=['Time'])\n",
    "cleaned_text = reviews_df['CleanedText'].values\n",
    "\n",
    "print(\"Dataset Shape : \\n\",cleaned_text.shape)"
   ]
  },
  {
   "cell_type": "code",
   "execution_count": 9,
   "metadata": {
    "colab": {},
    "colab_type": "code",
    "id": "V8iqL3B8TeUN"
   },
   "outputs": [
    {
     "name": "stdout",
     "output_type": "stream",
     "text": [
      "Shape of the data :  (50000,)\n",
      "Number of sentences present in complete dataset :  1793783\n",
      "Number of unique words present in whole corpus:  27002\n",
      "\n",
      "Top 25 words with their frequencies:\n",
      "[('like', 21033), ('tast', 21020), ('tea', 17974), ('good', 16777), ('flavor', 16771), ('great', 15565), ('product', 14812), ('one', 14672), ('love', 14609), ('use', 14514), ('tri', 12949), ('make', 11617), ('get', 10395), ('coffe', 8748), ('food', 8308), ('eat', 8283), ('would', 8206), ('buy', 7973), ('time', 7922), ('best', 7750), ('realli', 7547), ('also', 7425), ('find', 7365), ('dont', 7168), ('amazon', 7096)]\n",
      "\n",
      "Top 25 words with their index:\n",
      "[('like', 1), ('tast', 2), ('tea', 3), ('good', 4), ('flavor', 5), ('great', 6), ('product', 7), ('one', 8), ('love', 9), ('use', 10), ('tri', 11), ('make', 12), ('get', 13), ('coffe', 14), ('food', 15), ('eat', 16), ('would', 17), ('buy', 18), ('time', 19), ('best', 20), ('realli', 21), ('also', 22), ('find', 23), ('dont', 24), ('amazon', 25)]\n"
     ]
    }
   ],
   "source": [
    "all_words=[]\n",
    "for sentence in cleaned_text:\n",
    "    words = sentence.split()\n",
    "    all_words += words\n",
    "    \n",
    "print(\"Shape of the data : \",cleaned_text.shape)\n",
    "print(\"Number of sentences present in complete dataset : \",len(all_words))\n",
    "\n",
    "counts = Counter(all_words)\n",
    "print(\"Number of unique words present in whole corpus: \",len(counts.most_common()))\n",
    "vocab_size = len(counts.most_common()) + 1\n",
    "top_words_count = 5000\n",
    "sorted_words = counts.most_common(top_words_count)\n",
    "\n",
    "word_index_lookup = dict()\n",
    "i = 1\n",
    "for word,frequency in sorted_words:\n",
    "    word_index_lookup[word] = i\n",
    "    i += 1\n",
    "\n",
    "print()\n",
    "print(\"Top 25 words with their frequencies:\")\n",
    "print(counts.most_common(25))\n",
    "print()\n",
    "print(\"Top 25 words with their index:\")\n",
    "print(list(islice(word_index_lookup.items(), 25)))"
   ]
  },
  {
   "cell_type": "code",
   "execution_count": 10,
   "metadata": {
    "colab": {},
    "colab_type": "code",
    "id": "KQTkCl7kTeaA"
   },
   "outputs": [
    {
     "data": {
      "text/html": [
       "<div>\n",
       "<style scoped>\n",
       "    .dataframe tbody tr th:only-of-type {\n",
       "        vertical-align: middle;\n",
       "    }\n",
       "\n",
       "    .dataframe tbody tr th {\n",
       "        vertical-align: top;\n",
       "    }\n",
       "\n",
       "    .dataframe thead th {\n",
       "        text-align: right;\n",
       "    }\n",
       "</style>\n",
       "<table border=\"1\" class=\"dataframe\">\n",
       "  <thead>\n",
       "    <tr style=\"text-align: right;\">\n",
       "      <th></th>\n",
       "      <th>Id</th>\n",
       "      <th>ProductId</th>\n",
       "      <th>UserId</th>\n",
       "      <th>ProfileName</th>\n",
       "      <th>HelpfulnessNumerator</th>\n",
       "      <th>HelpfulnessDenominator</th>\n",
       "      <th>Score</th>\n",
       "      <th>Time</th>\n",
       "      <th>Summary</th>\n",
       "      <th>Text</th>\n",
       "      <th>CleanedText</th>\n",
       "      <th>CleanedText_Index</th>\n",
       "    </tr>\n",
       "  </thead>\n",
       "  <tbody>\n",
       "    <tr>\n",
       "      <th>0</th>\n",
       "      <td>150524</td>\n",
       "      <td>0006641040</td>\n",
       "      <td>ACITT7DI6IDDL</td>\n",
       "      <td>shari zychinski</td>\n",
       "      <td>0</td>\n",
       "      <td>0</td>\n",
       "      <td>positive</td>\n",
       "      <td>1999-10-08 05:30:00</td>\n",
       "      <td>EVERY book is educational</td>\n",
       "      <td>this witty little book makes my son laugh at l...</td>\n",
       "      <td>witti littl book make son laugh loud recit car...</td>\n",
       "      <td>[0, 28, 797, 12, 319, 2141, 3133, 0, 1111, 122...</td>\n",
       "    </tr>\n",
       "    <tr>\n",
       "      <th>30</th>\n",
       "      <td>150501</td>\n",
       "      <td>0006641040</td>\n",
       "      <td>AJ46FKXOVC7NR</td>\n",
       "      <td>Nicholas A Mesiano</td>\n",
       "      <td>2</td>\n",
       "      <td>2</td>\n",
       "      <td>positive</td>\n",
       "      <td>1999-10-25 05:30:00</td>\n",
       "      <td>This whole series is great way to spend time w...</td>\n",
       "      <td>I can remember seeing the show when it aired o...</td>\n",
       "      <td>rememb see show air televis year ago child sis...</td>\n",
       "      <td>[499, 158, 781, 1094, 0, 43, 323, 836, 1146, 5...</td>\n",
       "    </tr>\n",
       "    <tr>\n",
       "      <th>424</th>\n",
       "      <td>451856</td>\n",
       "      <td>B00004CXX9</td>\n",
       "      <td>AIUWLEQ1ADEG5</td>\n",
       "      <td>Elizabeth Medina</td>\n",
       "      <td>0</td>\n",
       "      <td>0</td>\n",
       "      <td>positive</td>\n",
       "      <td>1999-12-02 05:30:00</td>\n",
       "      <td>Entertainingl Funny!</td>\n",
       "      <td>Beetlejuice is a well written movie ..... ever...</td>\n",
       "      <td>beetlejuic well written movi everyth excel act...</td>\n",
       "      <td>[1792, 31, 2041, 855, 345, 111, 1805, 354, 487...</td>\n",
       "    </tr>\n",
       "    <tr>\n",
       "      <th>330</th>\n",
       "      <td>374359</td>\n",
       "      <td>B00004CI84</td>\n",
       "      <td>A344SMIA5JECGM</td>\n",
       "      <td>Vincent P. Ross</td>\n",
       "      <td>1</td>\n",
       "      <td>2</td>\n",
       "      <td>positive</td>\n",
       "      <td>1999-12-06 05:30:00</td>\n",
       "      <td>A modern day fairy tale</td>\n",
       "      <td>A twist of rumplestiskin captured on film, sta...</td>\n",
       "      <td>twist rumplestiskin captur film star michael k...</td>\n",
       "      <td>[1414, 0, 4219, 1370, 224, 2738, 2484, 3524, 2...</td>\n",
       "    </tr>\n",
       "    <tr>\n",
       "      <th>423</th>\n",
       "      <td>451855</td>\n",
       "      <td>B00004CXX9</td>\n",
       "      <td>AJH6LUC1UT1ON</td>\n",
       "      <td>The Phantom of the Opera</td>\n",
       "      <td>0</td>\n",
       "      <td>0</td>\n",
       "      <td>positive</td>\n",
       "      <td>2000-01-03 05:30:00</td>\n",
       "      <td>FANTASTIC!</td>\n",
       "      <td>Beetlejuice is an excellent and funny movie. K...</td>\n",
       "      <td>beetlejuic excel funni movi keaton hilari wack...</td>\n",
       "      <td>[1792, 111, 1272, 855, 2484, 4220, 0, 1792, 6,...</td>\n",
       "    </tr>\n",
       "  </tbody>\n",
       "</table>\n",
       "</div>"
      ],
      "text/plain": [
       "         Id   ProductId          UserId               ProfileName  \\\n",
       "0    150524  0006641040   ACITT7DI6IDDL           shari zychinski   \n",
       "30   150501  0006641040   AJ46FKXOVC7NR        Nicholas A Mesiano   \n",
       "424  451856  B00004CXX9   AIUWLEQ1ADEG5          Elizabeth Medina   \n",
       "330  374359  B00004CI84  A344SMIA5JECGM           Vincent P. Ross   \n",
       "423  451855  B00004CXX9   AJH6LUC1UT1ON  The Phantom of the Opera   \n",
       "\n",
       "     HelpfulnessNumerator  HelpfulnessDenominator     Score  \\\n",
       "0                       0                       0  positive   \n",
       "30                      2                       2  positive   \n",
       "424                     0                       0  positive   \n",
       "330                     1                       2  positive   \n",
       "423                     0                       0  positive   \n",
       "\n",
       "                   Time                                            Summary  \\\n",
       "0   1999-10-08 05:30:00                          EVERY book is educational   \n",
       "30  1999-10-25 05:30:00  This whole series is great way to spend time w...   \n",
       "424 1999-12-02 05:30:00                               Entertainingl Funny!   \n",
       "330 1999-12-06 05:30:00                            A modern day fairy tale   \n",
       "423 2000-01-03 05:30:00                                         FANTASTIC!   \n",
       "\n",
       "                                                  Text  \\\n",
       "0    this witty little book makes my son laugh at l...   \n",
       "30   I can remember seeing the show when it aired o...   \n",
       "424  Beetlejuice is a well written movie ..... ever...   \n",
       "330  A twist of rumplestiskin captured on film, sta...   \n",
       "423  Beetlejuice is an excellent and funny movie. K...   \n",
       "\n",
       "                                           CleanedText  \\\n",
       "0    witti littl book make son laugh loud recit car...   \n",
       "30   rememb see show air televis year ago child sis...   \n",
       "424  beetlejuic well written movi everyth excel act...   \n",
       "330  twist rumplestiskin captur film star michael k...   \n",
       "423  beetlejuic excel funni movi keaton hilari wack...   \n",
       "\n",
       "                                     CleanedText_Index  \n",
       "0    [0, 28, 797, 12, 319, 2141, 3133, 0, 1111, 122...  \n",
       "30   [499, 158, 781, 1094, 0, 43, 323, 836, 1146, 5...  \n",
       "424  [1792, 31, 2041, 855, 345, 111, 1805, 354, 487...  \n",
       "330  [1414, 0, 4219, 1370, 224, 2738, 2484, 3524, 2...  \n",
       "423  [1792, 111, 1272, 855, 2484, 4220, 0, 1792, 6,...  "
      ]
     },
     "execution_count": 10,
     "metadata": {},
     "output_type": "execute_result"
    }
   ],
   "source": [
    "def apply_text_index(row):  \n",
    "    holder = []\n",
    "    for word in row['CleanedText'].split():\n",
    "        if word in word_index_lookup:\n",
    "            holder.append(word_index_lookup[word]) \n",
    "        else:\n",
    "            holder.append(0)            \n",
    "    return holder\n",
    "\n",
    "\n",
    "reviews_df['CleanedText_Index'] = reviews_df.apply(lambda row: apply_text_index(row),axis=1)\n",
    "reviews_df.head(5)"
   ]
  },
  {
   "cell_type": "code",
   "execution_count": 11,
   "metadata": {},
   "outputs": [
    {
     "data": {
      "text/html": [
       "<div>\n",
       "<style scoped>\n",
       "    .dataframe tbody tr th:only-of-type {\n",
       "        vertical-align: middle;\n",
       "    }\n",
       "\n",
       "    .dataframe tbody tr th {\n",
       "        vertical-align: top;\n",
       "    }\n",
       "\n",
       "    .dataframe thead th {\n",
       "        text-align: right;\n",
       "    }\n",
       "</style>\n",
       "<table border=\"1\" class=\"dataframe\">\n",
       "  <thead>\n",
       "    <tr style=\"text-align: right;\">\n",
       "      <th></th>\n",
       "      <th>Id</th>\n",
       "      <th>ProductId</th>\n",
       "      <th>UserId</th>\n",
       "      <th>ProfileName</th>\n",
       "      <th>HelpfulnessNumerator</th>\n",
       "      <th>HelpfulnessDenominator</th>\n",
       "      <th>Score</th>\n",
       "      <th>Time</th>\n",
       "      <th>Summary</th>\n",
       "      <th>Text</th>\n",
       "      <th>CleanedText</th>\n",
       "      <th>CleanedText_Index</th>\n",
       "    </tr>\n",
       "  </thead>\n",
       "  <tbody>\n",
       "    <tr>\n",
       "      <th>0</th>\n",
       "      <td>150524</td>\n",
       "      <td>0006641040</td>\n",
       "      <td>ACITT7DI6IDDL</td>\n",
       "      <td>shari zychinski</td>\n",
       "      <td>0</td>\n",
       "      <td>0</td>\n",
       "      <td>1</td>\n",
       "      <td>1999-10-08 05:30:00</td>\n",
       "      <td>EVERY book is educational</td>\n",
       "      <td>this witty little book makes my son laugh at l...</td>\n",
       "      <td>witti littl book make son laugh loud recit car...</td>\n",
       "      <td>[0, 28, 797, 12, 319, 2141, 3133, 0, 1111, 122...</td>\n",
       "    </tr>\n",
       "    <tr>\n",
       "      <th>30</th>\n",
       "      <td>150501</td>\n",
       "      <td>0006641040</td>\n",
       "      <td>AJ46FKXOVC7NR</td>\n",
       "      <td>Nicholas A Mesiano</td>\n",
       "      <td>2</td>\n",
       "      <td>2</td>\n",
       "      <td>1</td>\n",
       "      <td>1999-10-25 05:30:00</td>\n",
       "      <td>This whole series is great way to spend time w...</td>\n",
       "      <td>I can remember seeing the show when it aired o...</td>\n",
       "      <td>rememb see show air televis year ago child sis...</td>\n",
       "      <td>[499, 158, 781, 1094, 0, 43, 323, 836, 1146, 5...</td>\n",
       "    </tr>\n",
       "    <tr>\n",
       "      <th>424</th>\n",
       "      <td>451856</td>\n",
       "      <td>B00004CXX9</td>\n",
       "      <td>AIUWLEQ1ADEG5</td>\n",
       "      <td>Elizabeth Medina</td>\n",
       "      <td>0</td>\n",
       "      <td>0</td>\n",
       "      <td>1</td>\n",
       "      <td>1999-12-02 05:30:00</td>\n",
       "      <td>Entertainingl Funny!</td>\n",
       "      <td>Beetlejuice is a well written movie ..... ever...</td>\n",
       "      <td>beetlejuic well written movi everyth excel act...</td>\n",
       "      <td>[1792, 31, 2041, 855, 345, 111, 1805, 354, 487...</td>\n",
       "    </tr>\n",
       "    <tr>\n",
       "      <th>330</th>\n",
       "      <td>374359</td>\n",
       "      <td>B00004CI84</td>\n",
       "      <td>A344SMIA5JECGM</td>\n",
       "      <td>Vincent P. Ross</td>\n",
       "      <td>1</td>\n",
       "      <td>2</td>\n",
       "      <td>1</td>\n",
       "      <td>1999-12-06 05:30:00</td>\n",
       "      <td>A modern day fairy tale</td>\n",
       "      <td>A twist of rumplestiskin captured on film, sta...</td>\n",
       "      <td>twist rumplestiskin captur film star michael k...</td>\n",
       "      <td>[1414, 0, 4219, 1370, 224, 2738, 2484, 3524, 2...</td>\n",
       "    </tr>\n",
       "    <tr>\n",
       "      <th>423</th>\n",
       "      <td>451855</td>\n",
       "      <td>B00004CXX9</td>\n",
       "      <td>AJH6LUC1UT1ON</td>\n",
       "      <td>The Phantom of the Opera</td>\n",
       "      <td>0</td>\n",
       "      <td>0</td>\n",
       "      <td>1</td>\n",
       "      <td>2000-01-03 05:30:00</td>\n",
       "      <td>FANTASTIC!</td>\n",
       "      <td>Beetlejuice is an excellent and funny movie. K...</td>\n",
       "      <td>beetlejuic excel funni movi keaton hilari wack...</td>\n",
       "      <td>[1792, 111, 1272, 855, 2484, 4220, 0, 1792, 6,...</td>\n",
       "    </tr>\n",
       "  </tbody>\n",
       "</table>\n",
       "</div>"
      ],
      "text/plain": [
       "         Id   ProductId          UserId               ProfileName  \\\n",
       "0    150524  0006641040   ACITT7DI6IDDL           shari zychinski   \n",
       "30   150501  0006641040   AJ46FKXOVC7NR        Nicholas A Mesiano   \n",
       "424  451856  B00004CXX9   AIUWLEQ1ADEG5          Elizabeth Medina   \n",
       "330  374359  B00004CI84  A344SMIA5JECGM           Vincent P. Ross   \n",
       "423  451855  B00004CXX9   AJH6LUC1UT1ON  The Phantom of the Opera   \n",
       "\n",
       "     HelpfulnessNumerator  HelpfulnessDenominator  Score                Time  \\\n",
       "0                       0                       0      1 1999-10-08 05:30:00   \n",
       "30                      2                       2      1 1999-10-25 05:30:00   \n",
       "424                     0                       0      1 1999-12-02 05:30:00   \n",
       "330                     1                       2      1 1999-12-06 05:30:00   \n",
       "423                     0                       0      1 2000-01-03 05:30:00   \n",
       "\n",
       "                                               Summary  \\\n",
       "0                            EVERY book is educational   \n",
       "30   This whole series is great way to spend time w...   \n",
       "424                               Entertainingl Funny!   \n",
       "330                            A modern day fairy tale   \n",
       "423                                         FANTASTIC!   \n",
       "\n",
       "                                                  Text  \\\n",
       "0    this witty little book makes my son laugh at l...   \n",
       "30   I can remember seeing the show when it aired o...   \n",
       "424  Beetlejuice is a well written movie ..... ever...   \n",
       "330  A twist of rumplestiskin captured on film, sta...   \n",
       "423  Beetlejuice is an excellent and funny movie. K...   \n",
       "\n",
       "                                           CleanedText  \\\n",
       "0    witti littl book make son laugh loud recit car...   \n",
       "30   rememb see show air televis year ago child sis...   \n",
       "424  beetlejuic well written movi everyth excel act...   \n",
       "330  twist rumplestiskin captur film star michael k...   \n",
       "423  beetlejuic excel funni movi keaton hilari wack...   \n",
       "\n",
       "                                     CleanedText_Index  \n",
       "0    [0, 28, 797, 12, 319, 2141, 3133, 0, 1111, 122...  \n",
       "30   [499, 158, 781, 1094, 0, 43, 323, 836, 1146, 5...  \n",
       "424  [1792, 31, 2041, 855, 345, 111, 1805, 354, 487...  \n",
       "330  [1414, 0, 4219, 1370, 224, 2738, 2484, 3524, 2...  \n",
       "423  [1792, 111, 1272, 855, 2484, 4220, 0, 1792, 6,...  "
      ]
     },
     "execution_count": 11,
     "metadata": {},
     "output_type": "execute_result"
    }
   ],
   "source": [
    "reviews_df['Score'] = reviews_df['Score'].map(lambda x : 1 if x == 'positive' else 0)\n",
    "reviews_df.head(5)"
   ]
  },
  {
   "cell_type": "code",
   "execution_count": 12,
   "metadata": {
    "colab": {},
    "colab_type": "code",
    "id": "GC3JMe5QTefm"
   },
   "outputs": [],
   "source": [
    "x_train, x_test, y_train, y_test = train_test_split(reviews_df['CleanedText_Index'].values,\n",
    "                                                            reviews_df['Score'],\n",
    "                                                            test_size=0.3,\n",
    "                                                            shuffle=False,\n",
    "                                                            random_state=0)"
   ]
  },
  {
   "cell_type": "code",
   "execution_count": 12,
   "metadata": {
    "colab": {},
    "colab_type": "code",
    "id": "GC3JMe5QTefm"
   },
   "outputs": [],
   "source": [
    "x_train, x_test, y_train, y_test = train_test_split(reviews_df['CleanedText_Index'].values,\n",
    "                                                            reviews_df['Score'],\n",
    "                                                            test_size=0.3,\n",
    "                                                            shuffle=False,\n",
    "                                                            random_state=0)"
   ]
  },
  {
   "cell_type": "code",
   "execution_count": 13,
   "metadata": {
    "colab": {},
    "colab_type": "code",
    "id": "PoOGOsA0Tem3"
   },
   "outputs": [
    {
     "name": "stdout",
     "output_type": "stream",
     "text": [
      "Total number words present in first review:\n",
      " 30\n",
      "\n",
      "List of word indexes present in first review:\n",
      " [499, 158, 781, 1094, 0, 43, 323, 836, 1146, 586, 74, 45, 3385, 122, 10, 2759, 797, 3581, 1963, 2869, 4411, 343, 116, 856, 76, 523, 797, 615, 561, 251]\n",
      "\n"
     ]
    }
   ],
   "source": [
    "print(\"Total number words present in first review:\\n\",len(x_train[1]))\n",
    "print()\n",
    "print(\"List of word indexes present in first review:\\n\", x_train[1])\n",
    "print()"
   ]
  },
  {
   "cell_type": "code",
   "execution_count": 14,
   "metadata": {
    "colab": {},
    "colab_type": "code",
    "id": "i6QJjj5lTesu"
   },
   "outputs": [
    {
     "name": "stdout",
     "output_type": "stream",
     "text": [
      "Total number words present in first review after padding:\n",
      " 500\n",
      "\n",
      "List of word indexes present in first review padding:\n",
      " [   0    0    0    0    0    0    0    0    0    0    0    0    0    0\n",
      "    0    0    0    0    0    0    0    0    0    0    0    0    0    0\n",
      "    0    0    0    0    0    0    0    0    0    0    0    0    0    0\n",
      "    0    0    0    0    0    0    0    0    0    0    0    0    0    0\n",
      "    0    0    0    0    0    0    0    0    0    0    0    0    0    0\n",
      "    0    0    0    0    0    0    0    0    0    0    0    0    0    0\n",
      "    0    0    0    0    0    0    0    0    0    0    0    0    0    0\n",
      "    0    0    0    0    0    0    0    0    0    0    0    0    0    0\n",
      "    0    0    0    0    0    0    0    0    0    0    0    0    0    0\n",
      "    0    0    0    0    0    0    0    0    0    0    0    0    0    0\n",
      "    0    0    0    0    0    0    0    0    0    0    0    0    0    0\n",
      "    0    0    0    0    0    0    0    0    0    0    0    0    0    0\n",
      "    0    0    0    0    0    0    0    0    0    0    0    0    0    0\n",
      "    0    0    0    0    0    0    0    0    0    0    0    0    0    0\n",
      "    0    0    0    0    0    0    0    0    0    0    0    0    0    0\n",
      "    0    0    0    0    0    0    0    0    0    0    0    0    0    0\n",
      "    0    0    0    0    0    0    0    0    0    0    0    0    0    0\n",
      "    0    0    0    0    0    0    0    0    0    0    0    0    0    0\n",
      "    0    0    0    0    0    0    0    0    0    0    0    0    0    0\n",
      "    0    0    0    0    0    0    0    0    0    0    0    0    0    0\n",
      "    0    0    0    0    0    0    0    0    0    0    0    0    0    0\n",
      "    0    0    0    0    0    0    0    0    0    0    0    0    0    0\n",
      "    0    0    0    0    0    0    0    0    0    0    0    0    0    0\n",
      "    0    0    0    0    0    0    0    0    0    0    0    0    0    0\n",
      "    0    0    0    0    0    0    0    0    0    0    0    0    0    0\n",
      "    0    0    0    0    0    0    0    0    0    0    0    0    0    0\n",
      "    0    0    0    0    0    0    0    0    0    0    0    0    0    0\n",
      "    0    0    0    0    0    0    0    0    0    0    0    0    0    0\n",
      "    0    0    0    0    0    0    0    0    0    0    0    0    0    0\n",
      "    0    0    0    0    0    0    0    0    0    0    0    0    0    0\n",
      "    0    0    0    0    0    0    0    0    0    0    0    0    0    0\n",
      "    0    0    0    0    0    0    0    0    0    0    0    0    0    0\n",
      "    0    0    0    0    0    0    0    0    0    0    0    0    0    0\n",
      "    0    0    0    0    0    0    0    0  499  158  781 1094    0   43\n",
      "  323  836 1146  586   74   45 3385  122   10 2759  797 3581 1963 2869\n",
      " 4411  343  116  856   76  523  797  615  561  251]\n",
      "\n"
     ]
    }
   ],
   "source": [
    "max_review_length = 500\n",
    "x_train = sequence.pad_sequences(x_train, maxlen=max_review_length)\n",
    "x_test = sequence.pad_sequences(x_test, maxlen=max_review_length)\n",
    "\n",
    "print(\"Total number words present in first review after padding:\\n\",len(x_train[1]))\n",
    "print()\n",
    "print(\"List of word indexes present in first review padding:\\n\", x_train[1])\n",
    "print()"
   ]
  },
  {
   "cell_type": "markdown",
   "metadata": {},
   "source": [
    "# 1 LSTM Layer"
   ]
  },
  {
   "cell_type": "code",
   "execution_count": 15,
   "metadata": {
    "colab": {},
    "colab_type": "code",
    "id": "hsSy83S9TezK"
   },
   "outputs": [],
   "source": [
    "batch_size = 192 \n",
    "\n",
    "# Number of time whole data is trained\n",
    "epochs = 10\n",
    "\n",
    "# Embedding vector size\n",
    "embedding_vecor_length = 32\n",
    "\n",
    "# Bias regularizer value - we will use elasticnet\n",
    "reg = L1L2(0.01, 0.01)\n",
    "\n",
    "# Plot train and cross validation loss\n",
    "def plot_train_cv_loss(trained_model, epochs, colors=['b']):\n",
    "    fig, ax = plt.subplots(1,1)    \n",
    "    ax.set_xlabel('epoch') \n",
    "    ax.set_ylabel('Categorical Crossentropy Loss')\n",
    "    x_axis_values = list(range(1,epochs+1))\n",
    "\n",
    "    validation_loss = trained_model.history['val_loss']\n",
    "    train_loss = trained_model.history['loss']   \n",
    "    \n",
    "    ax.plot(x_axis_values, validation_loss, 'b', label=\"Validation Loss\")\n",
    "    ax.plot(x_axis_values, train_loss, 'r', label=\"Train Loss\")\n",
    "    plt.legend()\n",
    "    plt.grid()\n",
    "    fig.canvas.draw()"
   ]
  },
  {
   "cell_type": "code",
   "execution_count": 16,
   "metadata": {
    "colab": {},
    "colab_type": "code",
    "id": "mL7GNkYvTe6C",
    "scrolled": false
   },
   "outputs": [
    {
     "name": "stdout",
     "output_type": "stream",
     "text": [
      "Model Summary: \n",
      "\n",
      "_________________________________________________________________\n",
      "Layer (type)                 Output Shape              Param #   \n",
      "=================================================================\n",
      "embedding_1 (Embedding)      (None, 500, 32)           864096    \n",
      "_________________________________________________________________\n",
      "batch_normalization_1 (Batch (None, 500, 32)           128       \n",
      "_________________________________________________________________\n",
      "dropout_1 (Dropout)          (None, 500, 32)           0         \n",
      "_________________________________________________________________\n",
      "lstm_1 (LSTM)                (None, 100)               53200     \n",
      "_________________________________________________________________\n",
      "dropout_2 (Dropout)          (None, 100)               0         \n",
      "_________________________________________________________________\n",
      "dense_1 (Dense)              (None, 1)                 101       \n",
      "=================================================================\n",
      "Total params: 917,525\n",
      "Trainable params: 917,461\n",
      "Non-trainable params: 64\n",
      "_________________________________________________________________\n",
      "\n",
      "\n",
      "Train on 35000 samples, validate on 15000 samples\n",
      "Epoch 1/10\n",
      "35000/35000 [==============================] - 337s 10ms/step - loss: 0.2658 - acc: 0.9049 - val_loss: 0.3315 - val_acc: 0.8988\n",
      "Epoch 2/10\n",
      "35000/35000 [==============================] - 315s 9ms/step - loss: 0.1607 - acc: 0.9401 - val_loss: 0.2279 - val_acc: 0.9227\n",
      "Epoch 3/10\n",
      "35000/35000 [==============================] - 357s 10ms/step - loss: 0.1282 - acc: 0.9534 - val_loss: 0.2154 - val_acc: 0.9224\n",
      "Epoch 4/10\n",
      "35000/35000 [==============================] - 365s 10ms/step - loss: 0.1018 - acc: 0.9640 - val_loss: 0.2437 - val_acc: 0.9215\n",
      "Epoch 5/10\n",
      "35000/35000 [==============================] - 396s 11ms/step - loss: 0.0813 - acc: 0.9717 - val_loss: 0.2668 - val_acc: 0.9197\n",
      "Epoch 6/10\n",
      "35000/35000 [==============================] - 412s 12ms/step - loss: 0.0673 - acc: 0.9769 - val_loss: 0.2840 - val_acc: 0.9187\n",
      "Epoch 7/10\n",
      "35000/35000 [==============================] - 633s 18ms/step - loss: 0.0572 - acc: 0.9803 - val_loss: 0.3317 - val_acc: 0.9186\n",
      "Epoch 8/10\n",
      "35000/35000 [==============================] - 836s 24ms/step - loss: 0.0521 - acc: 0.9824 - val_loss: 0.3433 - val_acc: 0.9150\n",
      "Epoch 9/10\n",
      "35000/35000 [==============================] - 939s 27ms/step - loss: 0.0399 - acc: 0.9863 - val_loss: 0.3646 - val_acc: 0.9120\n",
      "Epoch 10/10\n",
      "35000/35000 [==============================] - 655s 19ms/step - loss: 0.0348 - acc: 0.9880 - val_loss: 0.3746 - val_acc: 0.9116\n"
     ]
    }
   ],
   "source": [
    "model = Sequential()\n",
    "\n",
    "# Add Embedding Layer\n",
    "model.add(Embedding(vocab_size, embedding_vecor_length, input_length=max_review_length))\n",
    "\n",
    "# Add batch normalization\n",
    "model.add(BatchNormalization())\n",
    "\n",
    "# Add dropout\n",
    "model.add(Dropout(0.20))\n",
    "\n",
    "# Add LSTM Layer\n",
    "model.add(LSTM(100))\n",
    "\n",
    "# Add dropout\n",
    "model.add(Dropout(0.20))\n",
    "\n",
    "# Add Dense Layer\n",
    "model.add(Dense(1, activation='sigmoid'))\n",
    "\n",
    "# Summary of the model\n",
    "print(\"Model Summary: \\n\")\n",
    "model.summary()\n",
    "print()\n",
    "print()\n",
    "\n",
    "# Compile the model \n",
    "model.compile(loss='binary_crossentropy', optimizer='adam', metrics=['accuracy'])\n",
    "\n",
    "# Run the model\n",
    "trained_model = model.fit(x_train, np.array(y_train), batch_size = batch_size, epochs = epochs, verbose=1, validation_data=(x_test, y_test))"
   ]
  },
  {
   "cell_type": "code",
   "execution_count": 17,
   "metadata": {
    "colab": {},
    "colab_type": "code",
    "id": "yQ0xaSusTe-X"
   },
   "outputs": [
    {
     "name": "stdout",
     "output_type": "stream",
     "text": [
      "Test accuracy: 91.16%\n"
     ]
    }
   ],
   "source": [
    "score = model.evaluate(x_test, y_test, verbose=0) \n",
    "print('Test accuracy: {0:.2f}%'.format(score[1]*100))"
   ]
  },
  {
   "cell_type": "code",
   "execution_count": 18,
   "metadata": {
    "colab": {},
    "colab_type": "code",
    "id": "0jHAuBdLTe4T"
   },
   "outputs": [
    {
     "name": "stdout",
     "output_type": "stream",
     "text": [
      "\n",
      "\n"
     ]
    },
    {
     "data": {
      "image/png": "[encoded data removed]",
      "text/plain": [
       "<Figure size 432x288 with 1 Axes>"
      ]
     },
     "metadata": {
      "needs_background": "light"
     },
     "output_type": "display_data"
    }
   ],
   "source": [
    "print()\n",
    "print()\n",
    "\n",
    "# Plot train and cross validation error\n",
    "plot_train_cv_loss(trained_model, epochs)"
   ]
  },
  {
   "cell_type": "markdown",
   "metadata": {},
   "source": [
    "# 2 LSTM Layer"
   ]
  },
  {
   "cell_type": "code",
   "execution_count": 19,
   "metadata": {
    "colab": {},
    "colab_type": "code",
    "id": "s_Q-uiG4TexH",
    "scrolled": false
   },
   "outputs": [
    {
     "name": "stdout",
     "output_type": "stream",
     "text": [
      "Model Summary: \n",
      "\n",
      "_________________________________________________________________\n",
      "Layer (type)                 Output Shape              Param #   \n",
      "=================================================================\n",
      "embedding_2 (Embedding)      (None, 500, 32)           864096    \n",
      "_________________________________________________________________\n",
      "batch_normalization_2 (Batch (None, 500, 32)           128       \n",
      "_________________________________________________________________\n",
      "dropout_3 (Dropout)          (None, 500, 32)           0         \n",
      "_________________________________________________________________\n",
      "lstm_2 (LSTM)                (None, 500, 100)          53200     \n",
      "_________________________________________________________________\n",
      "dropout_4 (Dropout)          (None, 500, 100)          0         \n",
      "_________________________________________________________________\n",
      "lstm_3 (LSTM)                (None, 100)               80400     \n",
      "_________________________________________________________________\n",
      "dropout_5 (Dropout)          (None, 100)               0         \n",
      "_________________________________________________________________\n",
      "dense_2 (Dense)              (None, 1)                 101       \n",
      "=================================================================\n",
      "Total params: 997,925\n",
      "Trainable params: 997,861\n",
      "Non-trainable params: 64\n",
      "_________________________________________________________________\n",
      "\n",
      "\n",
      "Train on 35000 samples, validate on 15000 samples\n",
      "Epoch 1/10\n",
      "35000/35000 [==============================] - 1476s 42ms/step - loss: 0.2645 - acc: 0.9071 - val_loss: 0.2976 - val_acc: 0.9019\n",
      "Epoch 2/10\n",
      "35000/35000 [==============================] - 818s 23ms/step - loss: 0.1631 - acc: 0.9389 - val_loss: 0.2325 - val_acc: 0.9189\n",
      "Epoch 3/10\n",
      "35000/35000 [==============================] - 818s 23ms/step - loss: 0.1304 - acc: 0.9522 - val_loss: 0.2236 - val_acc: 0.9256\n",
      "Epoch 4/10\n",
      "35000/35000 [==============================] - 914s 26ms/step - loss: 0.1092 - acc: 0.9608 - val_loss: 0.2322 - val_acc: 0.9224\n",
      "Epoch 5/10\n",
      "35000/35000 [==============================] - 824s 24ms/step - loss: 0.0868 - acc: 0.9707 - val_loss: 0.2852 - val_acc: 0.9205\n",
      "Epoch 6/10\n",
      "35000/35000 [==============================] - 756s 22ms/step - loss: 0.0707 - acc: 0.9757 - val_loss: 0.3011 - val_acc: 0.9205\n",
      "Epoch 7/10\n",
      "35000/35000 [==============================] - 781s 22ms/step - loss: 0.0582 - acc: 0.9805 - val_loss: 0.3401 - val_acc: 0.9164\n",
      "Epoch 8/10\n",
      "35000/35000 [==============================] - 782s 22ms/step - loss: 0.0494 - acc: 0.9833 - val_loss: 0.3270 - val_acc: 0.9146\n",
      "Epoch 9/10\n",
      "35000/35000 [==============================] - 755s 22ms/step - loss: 0.0412 - acc: 0.9856 - val_loss: 0.4026 - val_acc: 0.9179\n",
      "Epoch 10/10\n",
      "35000/35000 [==============================] - 1213s 35ms/step - loss: 0.0409 - acc: 0.9860 - val_loss: 0.4161 - val_acc: 0.9126\n",
      "Wall time: 2h 32min 27s\n"
     ]
    }
   ],
   "source": [
    "%%time\n",
    "# Instantiate sequntial model\n",
    "model = Sequential()\n",
    "\n",
    "# Add Embedding Layer\n",
    "model.add(Embedding(vocab_size, embedding_vecor_length, input_length=max_review_length))\n",
    "\n",
    "# Add batch normalization\n",
    "model.add(BatchNormalization())\n",
    "\n",
    "# Add dropout\n",
    "model.add(Dropout(0.20))\n",
    "\n",
    "# Add LSTM Layer 1\n",
    "model.add(LSTM(100,return_sequences=True))\n",
    "\n",
    "# Add dropout\n",
    "model.add(Dropout(0.20))\n",
    "\n",
    "# Add LSTM Layer 2\n",
    "model.add(LSTM(100))\n",
    "\n",
    "# Add dropout\n",
    "model.add(Dropout(0.20))\n",
    "\n",
    "# Add Dense Layer\n",
    "model.add(Dense(1, activation='sigmoid'))\n",
    "\n",
    "# Summary of the model\n",
    "print(\"Model Summary: \\n\")\n",
    "model.summary()\n",
    "print()\n",
    "print()\n",
    "\n",
    "# Compile the model \n",
    "model.compile(loss='binary_crossentropy', optimizer='adam', metrics=['accuracy'])\n",
    "\n",
    "# Run the model\n",
    "trained_model = model.fit(x_train, np.array(y_train), batch_size = batch_size, epochs = epochs, verbose=1, validation_data=(x_test, y_test))"
   ]
  },
  {
   "cell_type": "code",
   "execution_count": 20,
   "metadata": {
    "colab": {},
    "colab_type": "code",
    "id": "9pHyYwpgTerC"
   },
   "outputs": [
    {
     "name": "stdout",
     "output_type": "stream",
     "text": [
      "Test accuracy: 91.26%\n",
      "\n",
      "\n"
     ]
    },
    {
     "data": {
      "image/png": "[encoded data removed]",
      "text/plain": [
       "<Figure size 432x288 with 1 Axes>"
      ]
     },
     "metadata": {
      "needs_background": "light"
     },
     "output_type": "display_data"
    }
   ],
   "source": [
    "score = model.evaluate(x_test, y_test, verbose=0) \n",
    "print('Test accuracy: {0:.2f}%'.format(score[1]*100))\n",
    "print()\n",
    "print()\n",
    "\n",
    "# Plot train and cross validation error\n",
    "plot_train_cv_loss(trained_model, epochs)"
   ]
  },
  {
   "cell_type": "markdown",
   "metadata": {},
   "source": [
    "# 3 LSTM Layer"
   ]
  },
  {
   "cell_type": "code",
   "execution_count": 21,
   "metadata": {
    "colab": {},
    "colab_type": "code",
    "id": "A94RQkAyTelg"
   },
   "outputs": [
    {
     "name": "stdout",
     "output_type": "stream",
     "text": [
      "Model Summary: \n",
      "\n",
      "_________________________________________________________________\n",
      "Layer (type)                 Output Shape              Param #   \n",
      "=================================================================\n",
      "embedding_3 (Embedding)      (None, 500, 32)           864096    \n",
      "_________________________________________________________________\n",
      "batch_normalization_3 (Batch (None, 500, 32)           128       \n",
      "_________________________________________________________________\n",
      "dropout_6 (Dropout)          (None, 500, 32)           0         \n",
      "_________________________________________________________________\n",
      "lstm_4 (LSTM)                (None, 500, 100)          53200     \n",
      "_________________________________________________________________\n",
      "dropout_7 (Dropout)          (None, 500, 100)          0         \n",
      "_________________________________________________________________\n",
      "lstm_5 (LSTM)                (None, 500, 80)           57920     \n",
      "_________________________________________________________________\n",
      "dropout_8 (Dropout)          (None, 500, 80)           0         \n",
      "_________________________________________________________________\n",
      "lstm_6 (LSTM)                (None, 500, 60)           33840     \n",
      "_________________________________________________________________\n",
      "dropout_9 (Dropout)          (None, 500, 60)           0         \n",
      "_________________________________________________________________\n",
      "lstm_7 (LSTM)                (None, 500, 40)           16160     \n",
      "_________________________________________________________________\n",
      "batch_normalization_4 (Batch (None, 500, 40)           160       \n",
      "_________________________________________________________________\n",
      "dropout_10 (Dropout)         (None, 500, 40)           0         \n",
      "_________________________________________________________________\n",
      "lstm_8 (LSTM)                (None, 20)                4880      \n",
      "_________________________________________________________________\n",
      "dropout_11 (Dropout)         (None, 20)                0         \n",
      "_________________________________________________________________\n",
      "dense_3 (Dense)              (None, 1)                 21        \n",
      "=================================================================\n",
      "Total params: 1,030,405\n",
      "Trainable params: 1,030,261\n",
      "Non-trainable params: 144\n",
      "_________________________________________________________________\n",
      "\n",
      "\n",
      "Train on 35000 samples, validate on 15000 samples\n",
      "Epoch 1/10\n",
      "35000/35000 [==============================] - 3090s 88ms/step - loss: 5.2278 - acc: 0.8877 - val_loss: 4.4712 - val_acc: 0.8883\n",
      "Epoch 2/10\n",
      "35000/35000 [==============================] - 2180s 62ms/step - loss: 3.8200 - acc: 0.9122 - val_loss: 3.2830 - val_acc: 0.9165\n",
      "Epoch 3/10\n",
      "35000/35000 [==============================] - 1937s 55ms/step - loss: 2.7252 - acc: 0.9354 - val_loss: 2.3321 - val_acc: 0.9216\n",
      "Epoch 4/10\n",
      "35000/35000 [==============================] - 1936s 55ms/step - loss: 1.8562 - acc: 0.9475 - val_loss: 1.5607 - val_acc: 0.9215\n",
      "Epoch 5/10\n",
      "35000/35000 [==============================] - 2827s 81ms/step - loss: 1.1682 - acc: 0.9573 - val_loss: 1.0287 - val_acc: 0.9203\n",
      "Epoch 6/10\n",
      "35000/35000 [==============================] - 2600s 74ms/step - loss: 0.6386 - acc: 0.9641 - val_loss: 0.5964 - val_acc: 0.9198\n",
      "Epoch 7/10\n",
      "35000/35000 [==============================] - 1940s 55ms/step - loss: 0.2390 - acc: 0.9685 - val_loss: 0.2973 - val_acc: 0.9138\n",
      "Epoch 8/10\n",
      "35000/35000 [==============================] - 1937s 55ms/step - loss: 0.0870 - acc: 0.9731 - val_loss: 0.3044 - val_acc: 0.9177\n",
      "Epoch 9/10\n",
      "35000/35000 [==============================] - 1933s 55ms/step - loss: 0.0817 - acc: 0.9752 - val_loss: 0.3164 - val_acc: 0.9151\n",
      "Epoch 10/10\n",
      "35000/35000 [==============================] - 1937s 55ms/step - loss: 0.0694 - acc: 0.9792 - val_loss: 0.3549 - val_acc: 0.9133\n"
     ]
    }
   ],
   "source": [
    "model = Sequential()\n",
    "\n",
    "# Add Embedding Layer\n",
    "model.add(Embedding(vocab_size, embedding_vecor_length, input_length=max_review_length))\n",
    "\n",
    "# Add batch normalization\n",
    "model.add(BatchNormalization())\n",
    "\n",
    "# Add dropout\n",
    "model.add(Dropout(0.20))\n",
    "\n",
    "# Add LSTM Layer 1\n",
    "model.add(LSTM(100,return_sequences=True,bias_regularizer=reg))\n",
    "\n",
    "# Add dropout\n",
    "model.add(Dropout(0.20))\n",
    "\n",
    "# Add LSTM Layer 2\n",
    "model.add(LSTM(80,return_sequences=True,bias_regularizer=reg))\n",
    "\n",
    "# Add dropout\n",
    "model.add(Dropout(0.20))\n",
    "\n",
    "# Add LSTM Layer 3\n",
    "model.add(LSTM(60,return_sequences=True,bias_regularizer=reg))\n",
    "\n",
    "# Add dropout\n",
    "model.add(Dropout(0.30))\n",
    "\n",
    "# Add LSTM Layer 4\n",
    "model.add(LSTM(40,return_sequences=True,bias_regularizer=reg))\n",
    "\n",
    "# Add batch normalization\n",
    "model.add(BatchNormalization())\n",
    "\n",
    "# Add dropout\n",
    "model.add(Dropout(0.40))\n",
    "\n",
    "# Add LSTM Layer 5\n",
    "model.add(LSTM(20))\n",
    "\n",
    "# Add dropout\n",
    "model.add(Dropout(0.50))\n",
    "\n",
    "# Add Dense Layer\n",
    "model.add(Dense(1, activation='sigmoid'))\n",
    "\n",
    "# Summary of the model\n",
    "print(\"Model Summary: \\n\")\n",
    "model.summary()\n",
    "print()\n",
    "print()\n",
    "\n",
    "# Compile the model \n",
    "model.compile(loss='binary_crossentropy', optimizer='adam', metrics=['accuracy'])\n",
    "\n",
    "# Run the model\n",
    "trained_model = model.fit(x_train, np.array(y_train), batch_size = batch_size, epochs = epochs, verbose=1, validation_data=(x_test, y_test))"
   ]
  },
  {
   "cell_type": "code",
   "execution_count": 22,
   "metadata": {
    "colab": {},
    "colab_type": "code",
    "id": "ZkQGXqyJTeeW"
   },
   "outputs": [
    {
     "name": "stdout",
     "output_type": "stream",
     "text": [
      "Test accuracy: 91.33%\n"
     ]
    }
   ],
   "source": [
    "score = model.evaluate(x_test, y_test, verbose=0) \n",
    "print('Test accuracy: {0:.2f}%'.format(score[1]*100))"
   ]
  },
  {
   "cell_type": "code",
   "execution_count": 23,
   "metadata": {
    "colab": {},
    "colab_type": "code",
    "id": "eT9p0HU-TeYm"
   },
   "outputs": [
    {
     "name": "stdout",
     "output_type": "stream",
     "text": [
      "\n",
      "\n"
     ]
    },
    {
     "data": {
      "image/png": "[encoded data removed]",
      "text/plain": [
       "<Figure size 432x288 with 1 Axes>"
      ]
     },
     "metadata": {
      "needs_background": "light"
     },
     "output_type": "display_data"
    }
   ],
   "source": [
    "print()\n",
    "print()\n",
    "\n",
    "# Plot train and cross validation error\n",
    "plot_train_cv_loss(trained_model, epochs)"
   ]
  },
  {
   "cell_type": "code",
   "execution_count": null,
   "metadata": {},
   "outputs": [],
   "source": []
  }
 ],
 "metadata": {
  "accelerator": "GPU",
  "colab": {
   "collapsed_sections": [],
   "name": "Untitled2.ipynb",
   "provenance": [],
   "version": "0.3.2"
  },
  "kernelspec": {
   "display_name": "TensorFlow-GPU",
   "language": "python",
   "name": "tf-gpu"
  },
  "language_info": {
   "codemirror_mode": {
    "name": "ipython",
    "version": 3
   },
   "file_extension": ".py",
   "mimetype": "text/x-python",
   "name": "python",
   "nbconvert_exporter": "python",
   "pygments_lexer": "ipython3",
   "version": "3.6.7"
  }
 },
 "nbformat": 4,
 "nbformat_minor": 1
}
