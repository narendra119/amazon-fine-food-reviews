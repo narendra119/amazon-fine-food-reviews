{
 "cells": [
  {
   "cell_type": "code",
   "execution_count": 1,
   "metadata": {},
   "outputs": [
    {
     "name": "stderr",
     "output_type": "stream",
     "text": [
      "C:\\Users\\Sai charan\\Anaconda3\\lib\\site-packages\\ipykernel\\parentpoller.py:116: UserWarning: Parent poll failed.  If the frontend dies,\n",
      "                the kernel may be left running.  Please let us know\n",
      "                about your system (bitness, Python, etc.) at\n",
      "                ipython-dev@scipy.org\n",
      "  ipython-dev@scipy.org\"\"\")\n",
      "C:\\Users\\Sai charan\\Anaconda3\\lib\\site-packages\\gensim\\utils.py:1197: UserWarning: detected Windows; aliasing chunkize to chunkize_serial\n",
      "  warnings.warn(\"detected Windows; aliasing chunkize to chunkize_serial\")\n"
     ]
    }
   ],
   "source": [
    "# Importing libraries\n",
    "import warnings\n",
    "warnings.filterwarnings(\"ignore\")\n",
    "\n",
    "import sqlite3\n",
    "import pandas as pd\n",
    "import numpy as np\n",
    "import nltk\n",
    "import string\n",
    "import matplotlib.pyplot as plt\n",
    "%matplotlib inline\n",
    "import seaborn as sns\n",
    "from sklearn.feature_extraction.text import TfidfTransformer\n",
    "from sklearn.feature_extraction.text import TfidfVectorizer\n",
    "\n",
    "from sklearn.feature_extraction.text import CountVectorizer\n",
    "from nltk.stem.porter import PorterStemmer\n",
    "\n",
    "import re\n",
    "\n",
    "import string\n",
    "from nltk.corpus import stopwords\n",
    "from nltk.stem import PorterStemmer\n",
    "from nltk.stem.wordnet import WordNetLemmatizer\n",
    "\n",
    "from gensim.models import Word2Vec\n",
    "from gensim.models import KeyedVectors\n",
    "import pickle"
   ]
  },
  {
   "cell_type": "code",
   "execution_count": 2,
   "metadata": {},
   "outputs": [
    {
     "name": "stdout",
     "output_type": "stream",
     "text": [
      "(364171, 12)\n"
     ]
    },
    {
     "data": {
      "text/html": [
       "<div>\n",
       "<style scoped>\n",
       "    .dataframe tbody tr th:only-of-type {\n",
       "        vertical-align: middle;\n",
       "    }\n",
       "\n",
       "    .dataframe tbody tr th {\n",
       "        vertical-align: top;\n",
       "    }\n",
       "\n",
       "    .dataframe thead th {\n",
       "        text-align: right;\n",
       "    }\n",
       "</style>\n",
       "<table border=\"1\" class=\"dataframe\">\n",
       "  <thead>\n",
       "    <tr style=\"text-align: right;\">\n",
       "      <th></th>\n",
       "      <th>index</th>\n",
       "      <th>Id</th>\n",
       "      <th>ProductId</th>\n",
       "      <th>UserId</th>\n",
       "      <th>ProfileName</th>\n",
       "      <th>HelpfulnessNumerator</th>\n",
       "      <th>HelpfulnessDenominator</th>\n",
       "      <th>Score</th>\n",
       "      <th>Time</th>\n",
       "      <th>Summary</th>\n",
       "      <th>Text</th>\n",
       "      <th>CleanedText</th>\n",
       "    </tr>\n",
       "  </thead>\n",
       "  <tbody>\n",
       "    <tr>\n",
       "      <th>0</th>\n",
       "      <td>138706</td>\n",
       "      <td>150524</td>\n",
       "      <td>0006641040</td>\n",
       "      <td>ACITT7DI6IDDL</td>\n",
       "      <td>shari zychinski</td>\n",
       "      <td>0</td>\n",
       "      <td>0</td>\n",
       "      <td>positive</td>\n",
       "      <td>939340800</td>\n",
       "      <td>EVERY book is educational</td>\n",
       "      <td>this witty little book makes my son laugh at l...</td>\n",
       "      <td>witti littl book make son laugh loud recit car...</td>\n",
       "    </tr>\n",
       "    <tr>\n",
       "      <th>1</th>\n",
       "      <td>138688</td>\n",
       "      <td>150506</td>\n",
       "      <td>0006641040</td>\n",
       "      <td>A2IW4PEEKO2R0U</td>\n",
       "      <td>Tracy</td>\n",
       "      <td>1</td>\n",
       "      <td>1</td>\n",
       "      <td>positive</td>\n",
       "      <td>1194739200</td>\n",
       "      <td>Love the book, miss the hard cover version</td>\n",
       "      <td>I grew up reading these Sendak books, and watc...</td>\n",
       "      <td>grew read sendak book watch realli rosi movi i...</td>\n",
       "    </tr>\n",
       "    <tr>\n",
       "      <th>2</th>\n",
       "      <td>138689</td>\n",
       "      <td>150507</td>\n",
       "      <td>0006641040</td>\n",
       "      <td>A1S4A3IQ2MU7V4</td>\n",
       "      <td>sally sue \"sally sue\"</td>\n",
       "      <td>1</td>\n",
       "      <td>1</td>\n",
       "      <td>positive</td>\n",
       "      <td>1191456000</td>\n",
       "      <td>chicken soup with rice months</td>\n",
       "      <td>This is a fun way for children to learn their ...</td>\n",
       "      <td>fun way children learn month year learn poem t...</td>\n",
       "    </tr>\n",
       "    <tr>\n",
       "      <th>3</th>\n",
       "      <td>138690</td>\n",
       "      <td>150508</td>\n",
       "      <td>0006641040</td>\n",
       "      <td>AZGXZ2UUK6X</td>\n",
       "      <td>Catherine Hallberg \"(Kate)\"</td>\n",
       "      <td>1</td>\n",
       "      <td>1</td>\n",
       "      <td>positive</td>\n",
       "      <td>1076025600</td>\n",
       "      <td>a good swingy rhythm for reading aloud</td>\n",
       "      <td>This is a great little book to read aloud- it ...</td>\n",
       "      <td>great littl book read nice rhythm well good re...</td>\n",
       "    </tr>\n",
       "    <tr>\n",
       "      <th>4</th>\n",
       "      <td>138691</td>\n",
       "      <td>150509</td>\n",
       "      <td>0006641040</td>\n",
       "      <td>A3CMRKGE0P909G</td>\n",
       "      <td>Teresa</td>\n",
       "      <td>3</td>\n",
       "      <td>4</td>\n",
       "      <td>positive</td>\n",
       "      <td>1018396800</td>\n",
       "      <td>A great way to learn the months</td>\n",
       "      <td>This is a book of poetry about the months of t...</td>\n",
       "      <td>book poetri month year goe month cute littl po...</td>\n",
       "    </tr>\n",
       "  </tbody>\n",
       "</table>\n",
       "</div>"
      ],
      "text/plain": [
       "    index      Id   ProductId          UserId                  ProfileName  \\\n",
       "0  138706  150524  0006641040   ACITT7DI6IDDL              shari zychinski   \n",
       "1  138688  150506  0006641040  A2IW4PEEKO2R0U                        Tracy   \n",
       "2  138689  150507  0006641040  A1S4A3IQ2MU7V4        sally sue \"sally sue\"   \n",
       "3  138690  150508  0006641040     AZGXZ2UUK6X  Catherine Hallberg \"(Kate)\"   \n",
       "4  138691  150509  0006641040  A3CMRKGE0P909G                       Teresa   \n",
       "\n",
       "   HelpfulnessNumerator  HelpfulnessDenominator     Score        Time  \\\n",
       "0                     0                       0  positive   939340800   \n",
       "1                     1                       1  positive  1194739200   \n",
       "2                     1                       1  positive  1191456000   \n",
       "3                     1                       1  positive  1076025600   \n",
       "4                     3                       4  positive  1018396800   \n",
       "\n",
       "                                      Summary  \\\n",
       "0                   EVERY book is educational   \n",
       "1  Love the book, miss the hard cover version   \n",
       "2               chicken soup with rice months   \n",
       "3      a good swingy rhythm for reading aloud   \n",
       "4             A great way to learn the months   \n",
       "\n",
       "                                                Text  \\\n",
       "0  this witty little book makes my son laugh at l...   \n",
       "1  I grew up reading these Sendak books, and watc...   \n",
       "2  This is a fun way for children to learn their ...   \n",
       "3  This is a great little book to read aloud- it ...   \n",
       "4  This is a book of poetry about the months of t...   \n",
       "\n",
       "                                         CleanedText  \n",
       "0  witti littl book make son laugh loud recit car...  \n",
       "1  grew read sendak book watch realli rosi movi i...  \n",
       "2  fun way children learn month year learn poem t...  \n",
       "3  great littl book read nice rhythm well good re...  \n",
       "4  book poetri month year goe month cute littl po...  "
      ]
     },
     "execution_count": 2,
     "metadata": {},
     "output_type": "execute_result"
    }
   ],
   "source": [
    "con1 = sqlite3.connect('final.sqlite')\n",
    "filtered_data = pd.read_sql_query(\" SELECT * FROM Reviews \", con1)\n",
    "\n",
    "\n",
    "print(filtered_data.shape)\n",
    "filtered_data.head()"
   ]
  },
  {
   "cell_type": "markdown",
   "metadata": {},
   "source": [
    "# Data Cleaning: Deduplication"
   ]
  },
  {
   "cell_type": "code",
   "execution_count": 3,
   "metadata": {},
   "outputs": [
    {
     "name": "stdout",
     "output_type": "stream",
     "text": [
      "(364171, 12)\n"
     ]
    },
    {
     "data": {
      "text/plain": [
       "100.0"
      ]
     },
     "execution_count": 3,
     "metadata": {},
     "output_type": "execute_result"
    }
   ],
   "source": [
    "sorted_data=filtered_data.sort_values('ProductId', axis=0, ascending=True, inplace=False, kind='quicksort', na_position='last')\n",
    "\n",
    "#Deduplication of entries\n",
    "final=sorted_data.drop_duplicates(subset={\"UserId\",\"ProfileName\",\"Time\",\"Text\"}, keep='first', inplace=False)\n",
    "print(final.shape)\n",
    "\n",
    "#Checking to see how much % of data still remains\n",
    "((final.shape[0]*1.0)/(filtered_data.shape[0]*1.0)*100)"
   ]
  },
  {
   "cell_type": "code",
   "execution_count": 4,
   "metadata": {},
   "outputs": [
    {
     "name": "stdout",
     "output_type": "stream",
     "text": [
      "(364171, 12)\n"
     ]
    },
    {
     "data": {
      "text/html": [
       "<div>\n",
       "<style scoped>\n",
       "    .dataframe tbody tr th:only-of-type {\n",
       "        vertical-align: middle;\n",
       "    }\n",
       "\n",
       "    .dataframe tbody tr th {\n",
       "        vertical-align: top;\n",
       "    }\n",
       "\n",
       "    .dataframe thead th {\n",
       "        text-align: right;\n",
       "    }\n",
       "</style>\n",
       "<table border=\"1\" class=\"dataframe\">\n",
       "  <thead>\n",
       "    <tr style=\"text-align: right;\">\n",
       "      <th></th>\n",
       "      <th>index</th>\n",
       "      <th>Id</th>\n",
       "      <th>ProductId</th>\n",
       "      <th>UserId</th>\n",
       "      <th>ProfileName</th>\n",
       "      <th>HelpfulnessNumerator</th>\n",
       "      <th>HelpfulnessDenominator</th>\n",
       "      <th>Score</th>\n",
       "      <th>Time</th>\n",
       "      <th>Summary</th>\n",
       "      <th>Text</th>\n",
       "      <th>CleanedText</th>\n",
       "    </tr>\n",
       "  </thead>\n",
       "  <tbody>\n",
       "    <tr>\n",
       "      <th>12</th>\n",
       "      <td>138700</td>\n",
       "      <td>150518</td>\n",
       "      <td>0006641040</td>\n",
       "      <td>AK1L4EJBA23JF</td>\n",
       "      <td>L. M. Kraus</td>\n",
       "      <td>0</td>\n",
       "      <td>0</td>\n",
       "      <td>positive</td>\n",
       "      <td>1288224000</td>\n",
       "      <td>love this book</td>\n",
       "      <td>Great book, perfect condition arrived in a sho...</td>\n",
       "      <td>great book perfect condit arriv short amount t...</td>\n",
       "    </tr>\n",
       "    <tr>\n",
       "      <th>13</th>\n",
       "      <td>138701</td>\n",
       "      <td>150519</td>\n",
       "      <td>0006641040</td>\n",
       "      <td>A12HY5OZ2QNK4N</td>\n",
       "      <td>Elizabeth H. Roessner</td>\n",
       "      <td>0</td>\n",
       "      <td>0</td>\n",
       "      <td>positive</td>\n",
       "      <td>1256774400</td>\n",
       "      <td>It's a great book!</td>\n",
       "      <td>I've always loved chicken soup and rice. My la...</td>\n",
       "      <td>ive alway love chicken soup rice late ethel al...</td>\n",
       "    </tr>\n",
       "    <tr>\n",
       "      <th>14</th>\n",
       "      <td>138702</td>\n",
       "      <td>150520</td>\n",
       "      <td>0006641040</td>\n",
       "      <td>ADBFSA9KTQANE</td>\n",
       "      <td>James L. Hammock \"Pucks Buddy\"</td>\n",
       "      <td>0</td>\n",
       "      <td>0</td>\n",
       "      <td>positive</td>\n",
       "      <td>1256688000</td>\n",
       "      <td>Great Gift</td>\n",
       "      <td>This book was purchased as a birthday gift for...</td>\n",
       "      <td>book purchas birthday gift year old boy squeal...</td>\n",
       "    </tr>\n",
       "    <tr>\n",
       "      <th>8</th>\n",
       "      <td>138696</td>\n",
       "      <td>150514</td>\n",
       "      <td>0006641040</td>\n",
       "      <td>A2ONB6ZA292PA</td>\n",
       "      <td>Rosalind Matzner</td>\n",
       "      <td>0</td>\n",
       "      <td>0</td>\n",
       "      <td>positive</td>\n",
       "      <td>1313884800</td>\n",
       "      <td>Chicken soup with Rice</td>\n",
       "      <td>It's a great book with adorable illustrations....</td>\n",
       "      <td>great book ador illustr true classic kid love ...</td>\n",
       "    </tr>\n",
       "    <tr>\n",
       "      <th>34</th>\n",
       "      <td>476617</td>\n",
       "      <td>515426</td>\n",
       "      <td>141278509X</td>\n",
       "      <td>AB1A5EGHHVA9M</td>\n",
       "      <td>CHelmic</td>\n",
       "      <td>1</td>\n",
       "      <td>1</td>\n",
       "      <td>positive</td>\n",
       "      <td>1332547200</td>\n",
       "      <td>The best drink mix</td>\n",
       "      <td>This product by Archer Farms is the best drink...</td>\n",
       "      <td>product archer farm best drink mix ever mix fl...</td>\n",
       "    </tr>\n",
       "    <tr>\n",
       "      <th>36</th>\n",
       "      <td>22620</td>\n",
       "      <td>24750</td>\n",
       "      <td>2734888454</td>\n",
       "      <td>A13ISQV0U9GZIC</td>\n",
       "      <td>Sandikaye</td>\n",
       "      <td>1</td>\n",
       "      <td>1</td>\n",
       "      <td>negative</td>\n",
       "      <td>1192060800</td>\n",
       "      <td>made in china</td>\n",
       "      <td>My dogs loves this chicken but its a product f...</td>\n",
       "      <td>dog love chicken product china wont buy anymor...</td>\n",
       "    </tr>\n",
       "    <tr>\n",
       "      <th>35</th>\n",
       "      <td>22621</td>\n",
       "      <td>24751</td>\n",
       "      <td>2734888454</td>\n",
       "      <td>A1C298ITT645B6</td>\n",
       "      <td>Hugh G. Pritchard</td>\n",
       "      <td>0</td>\n",
       "      <td>0</td>\n",
       "      <td>positive</td>\n",
       "      <td>1195948800</td>\n",
       "      <td>Dog Lover Delites</td>\n",
       "      <td>Our dogs just love them.  I saw them in a pet ...</td>\n",
       "      <td>dog love saw pet store tag attach regard made ...</td>\n",
       "    </tr>\n",
       "    <tr>\n",
       "      <th>37</th>\n",
       "      <td>284375</td>\n",
       "      <td>308077</td>\n",
       "      <td>2841233731</td>\n",
       "      <td>A3QD68O22M2XHQ</td>\n",
       "      <td>LABRNTH</td>\n",
       "      <td>0</td>\n",
       "      <td>0</td>\n",
       "      <td>positive</td>\n",
       "      <td>1345852800</td>\n",
       "      <td>Great recipe book for my babycook</td>\n",
       "      <td>This book is easy to read and the ingredients ...</td>\n",
       "      <td>book easi read ingredi avail store unlik recip...</td>\n",
       "    </tr>\n",
       "    <tr>\n",
       "      <th>142</th>\n",
       "      <td>157910</td>\n",
       "      <td>171225</td>\n",
       "      <td>7310172001</td>\n",
       "      <td>A314APAWYQFKBJ</td>\n",
       "      <td>Diana Hersholt \"dog lover\"</td>\n",
       "      <td>1</td>\n",
       "      <td>1</td>\n",
       "      <td>positive</td>\n",
       "      <td>1104796800</td>\n",
       "      <td>My dog loves these!</td>\n",
       "      <td>My dog is a very picky eater.  She has a very ...</td>\n",
       "      <td>dog picki eater sensit stomach special food tr...</td>\n",
       "    </tr>\n",
       "    <tr>\n",
       "      <th>143</th>\n",
       "      <td>157909</td>\n",
       "      <td>171224</td>\n",
       "      <td>7310172001</td>\n",
       "      <td>AK0CENM3LUM28</td>\n",
       "      <td>Ana Mardoll</td>\n",
       "      <td>1</td>\n",
       "      <td>1</td>\n",
       "      <td>positive</td>\n",
       "      <td>1222732800</td>\n",
       "      <td>Pure Puppy Addiction</td>\n",
       "      <td>Pro-Treat Freeze Dried Liver Dog Treats / B000...</td>\n",
       "      <td>freez dri liver dog treat sort product make wi...</td>\n",
       "    </tr>\n",
       "    <tr>\n",
       "      <th>144</th>\n",
       "      <td>157924</td>\n",
       "      <td>171240</td>\n",
       "      <td>7310172001</td>\n",
       "      <td>A2JCG7KT8HRSUJ</td>\n",
       "      <td>B. Le</td>\n",
       "      <td>0</td>\n",
       "      <td>0</td>\n",
       "      <td>positive</td>\n",
       "      <td>1346716800</td>\n",
       "      <td>Dogs favorite treat</td>\n",
       "      <td>We have a variety of treats for our two shitzu...</td>\n",
       "      <td>varieti treat two shitzus favorit liver nice b...</td>\n",
       "    </tr>\n",
       "    <tr>\n",
       "      <th>145</th>\n",
       "      <td>157925</td>\n",
       "      <td>171241</td>\n",
       "      <td>7310172001</td>\n",
       "      <td>ACBK6OXAMOHTE</td>\n",
       "      <td>Andrew Fox</td>\n",
       "      <td>0</td>\n",
       "      <td>0</td>\n",
       "      <td>positive</td>\n",
       "      <td>1345248000</td>\n",
       "      <td>Great for dog training</td>\n",
       "      <td>our dog responds to this more than any dog tre...</td>\n",
       "      <td>dog respond dog treat tri mani differ treat se...</td>\n",
       "    </tr>\n",
       "    <tr>\n",
       "      <th>146</th>\n",
       "      <td>157926</td>\n",
       "      <td>171242</td>\n",
       "      <td>7310172001</td>\n",
       "      <td>A12L1NY994GXSF</td>\n",
       "      <td>Dawn Rene</td>\n",
       "      <td>0</td>\n",
       "      <td>0</td>\n",
       "      <td>positive</td>\n",
       "      <td>1343001600</td>\n",
       "      <td>Freeze Dried Beef Liver</td>\n",
       "      <td>I have been giving the Stewart's Pro-Treat Fre...</td>\n",
       "      <td>give stewart freez dri beef liver maltipoo nam...</td>\n",
       "    </tr>\n",
       "    <tr>\n",
       "      <th>147</th>\n",
       "      <td>157907</td>\n",
       "      <td>171222</td>\n",
       "      <td>7310172001</td>\n",
       "      <td>A1CV6GLAPUIP80</td>\n",
       "      <td>Reader Rabbit</td>\n",
       "      <td>1</td>\n",
       "      <td>1</td>\n",
       "      <td>positive</td>\n",
       "      <td>1233619200</td>\n",
       "      <td>Our dog loves them!</td>\n",
       "      <td>Freeze-dried liver treats are easy to carry ar...</td>\n",
       "      <td>liver treat easi carri around treat pouch dont...</td>\n",
       "    </tr>\n",
       "    <tr>\n",
       "      <th>148</th>\n",
       "      <td>157927</td>\n",
       "      <td>171243</td>\n",
       "      <td>7310172001</td>\n",
       "      <td>A3P5V207OED3JS</td>\n",
       "      <td>I. Wong \"Y Square designs\"</td>\n",
       "      <td>0</td>\n",
       "      <td>0</td>\n",
       "      <td>positive</td>\n",
       "      <td>1342915200</td>\n",
       "      <td>Dogs go crazy for this</td>\n",
       "      <td>As another reviewer noted...This is like crack...</td>\n",
       "      <td>anoth review note like crack dog dog like jerk...</td>\n",
       "    </tr>\n",
       "    <tr>\n",
       "      <th>149</th>\n",
       "      <td>157928</td>\n",
       "      <td>171244</td>\n",
       "      <td>7310172001</td>\n",
       "      <td>ASST51ORV4IEK</td>\n",
       "      <td>Deborah Dean</td>\n",
       "      <td>0</td>\n",
       "      <td>0</td>\n",
       "      <td>positive</td>\n",
       "      <td>1342483200</td>\n",
       "      <td>Great for treats and training</td>\n",
       "      <td>I purchased the product to use with training m...</td>\n",
       "      <td>purchas product use train dog treat supplement...</td>\n",
       "    </tr>\n",
       "    <tr>\n",
       "      <th>151</th>\n",
       "      <td>157905</td>\n",
       "      <td>171220</td>\n",
       "      <td>7310172001</td>\n",
       "      <td>A265LZUGGVNVIV</td>\n",
       "      <td>Sandra</td>\n",
       "      <td>1</td>\n",
       "      <td>1</td>\n",
       "      <td>positive</td>\n",
       "      <td>1246665600</td>\n",
       "      <td>Pro-treat Freeze Dried Beef Liver</td>\n",
       "      <td>My Husky has always been a little 'picky' when...</td>\n",
       "      <td>huski alway littl picki eat breakfast even mea...</td>\n",
       "    </tr>\n",
       "    <tr>\n",
       "      <th>152</th>\n",
       "      <td>157886</td>\n",
       "      <td>171201</td>\n",
       "      <td>7310172001</td>\n",
       "      <td>A2EMJYWOXVQGIN</td>\n",
       "      <td>K. Rainey \"Kathy R\"</td>\n",
       "      <td>2</td>\n",
       "      <td>2</td>\n",
       "      <td>positive</td>\n",
       "      <td>1257552000</td>\n",
       "      <td>Best treats we've tried so far</td>\n",
       "      <td>My 5 month old lab goes nuts over these liver ...</td>\n",
       "      <td>month old lab goe nut liver treat vet recommen...</td>\n",
       "    </tr>\n",
       "    <tr>\n",
       "      <th>153</th>\n",
       "      <td>157885</td>\n",
       "      <td>171200</td>\n",
       "      <td>7310172001</td>\n",
       "      <td>A21D27EKHICKY3</td>\n",
       "      <td>C. Mayer</td>\n",
       "      <td>2</td>\n",
       "      <td>2</td>\n",
       "      <td>positive</td>\n",
       "      <td>1262822400</td>\n",
       "      <td>great treats</td>\n",
       "      <td>These are the best training treats you can buy...</td>\n",
       "      <td>best train treat buy dog motiv doggi class tre...</td>\n",
       "    </tr>\n",
       "    <tr>\n",
       "      <th>154</th>\n",
       "      <td>157932</td>\n",
       "      <td>171248</td>\n",
       "      <td>7310172001</td>\n",
       "      <td>A1KJH57UFCFUN0</td>\n",
       "      <td>Rocco &amp;amp; Lola</td>\n",
       "      <td>0</td>\n",
       "      <td>0</td>\n",
       "      <td>positive</td>\n",
       "      <td>1340323200</td>\n",
       "      <td>dogs love these!</td>\n",
       "      <td>My two boxes absolutely LOVE these freeze drie...</td>\n",
       "      <td>two box absolut love freez dri liver one favor...</td>\n",
       "    </tr>\n",
       "  </tbody>\n",
       "</table>\n",
       "</div>"
      ],
      "text/plain": [
       "      index      Id   ProductId          UserId  \\\n",
       "12   138700  150518  0006641040   AK1L4EJBA23JF   \n",
       "13   138701  150519  0006641040  A12HY5OZ2QNK4N   \n",
       "14   138702  150520  0006641040   ADBFSA9KTQANE   \n",
       "8    138696  150514  0006641040   A2ONB6ZA292PA   \n",
       "34   476617  515426  141278509X   AB1A5EGHHVA9M   \n",
       "36    22620   24750  2734888454  A13ISQV0U9GZIC   \n",
       "35    22621   24751  2734888454  A1C298ITT645B6   \n",
       "37   284375  308077  2841233731  A3QD68O22M2XHQ   \n",
       "142  157910  171225  7310172001  A314APAWYQFKBJ   \n",
       "143  157909  171224  7310172001   AK0CENM3LUM28   \n",
       "144  157924  171240  7310172001  A2JCG7KT8HRSUJ   \n",
       "145  157925  171241  7310172001   ACBK6OXAMOHTE   \n",
       "146  157926  171242  7310172001  A12L1NY994GXSF   \n",
       "147  157907  171222  7310172001  A1CV6GLAPUIP80   \n",
       "148  157927  171243  7310172001  A3P5V207OED3JS   \n",
       "149  157928  171244  7310172001   ASST51ORV4IEK   \n",
       "151  157905  171220  7310172001  A265LZUGGVNVIV   \n",
       "152  157886  171201  7310172001  A2EMJYWOXVQGIN   \n",
       "153  157885  171200  7310172001  A21D27EKHICKY3   \n",
       "154  157932  171248  7310172001  A1KJH57UFCFUN0   \n",
       "\n",
       "                        ProfileName  HelpfulnessNumerator  \\\n",
       "12                      L. M. Kraus                     0   \n",
       "13            Elizabeth H. Roessner                     0   \n",
       "14   James L. Hammock \"Pucks Buddy\"                     0   \n",
       "8                  Rosalind Matzner                     0   \n",
       "34                          CHelmic                     1   \n",
       "36                        Sandikaye                     1   \n",
       "35                Hugh G. Pritchard                     0   \n",
       "37                          LABRNTH                     0   \n",
       "142      Diana Hersholt \"dog lover\"                     1   \n",
       "143                     Ana Mardoll                     1   \n",
       "144                           B. Le                     0   \n",
       "145                      Andrew Fox                     0   \n",
       "146                       Dawn Rene                     0   \n",
       "147                   Reader Rabbit                     1   \n",
       "148      I. Wong \"Y Square designs\"                     0   \n",
       "149                    Deborah Dean                     0   \n",
       "151                          Sandra                     1   \n",
       "152             K. Rainey \"Kathy R\"                     2   \n",
       "153                        C. Mayer                     2   \n",
       "154                Rocco &amp; Lola                     0   \n",
       "\n",
       "     HelpfulnessDenominator     Score        Time  \\\n",
       "12                        0  positive  1288224000   \n",
       "13                        0  positive  1256774400   \n",
       "14                        0  positive  1256688000   \n",
       "8                         0  positive  1313884800   \n",
       "34                        1  positive  1332547200   \n",
       "36                        1  negative  1192060800   \n",
       "35                        0  positive  1195948800   \n",
       "37                        0  positive  1345852800   \n",
       "142                       1  positive  1104796800   \n",
       "143                       1  positive  1222732800   \n",
       "144                       0  positive  1346716800   \n",
       "145                       0  positive  1345248000   \n",
       "146                       0  positive  1343001600   \n",
       "147                       1  positive  1233619200   \n",
       "148                       0  positive  1342915200   \n",
       "149                       0  positive  1342483200   \n",
       "151                       1  positive  1246665600   \n",
       "152                       2  positive  1257552000   \n",
       "153                       2  positive  1262822400   \n",
       "154                       0  positive  1340323200   \n",
       "\n",
       "                               Summary  \\\n",
       "12                      love this book   \n",
       "13                  It's a great book!   \n",
       "14                          Great Gift   \n",
       "8               Chicken soup with Rice   \n",
       "34                  The best drink mix   \n",
       "36                       made in china   \n",
       "35                   Dog Lover Delites   \n",
       "37   Great recipe book for my babycook   \n",
       "142                My dog loves these!   \n",
       "143               Pure Puppy Addiction   \n",
       "144                Dogs favorite treat   \n",
       "145             Great for dog training   \n",
       "146            Freeze Dried Beef Liver   \n",
       "147                Our dog loves them!   \n",
       "148             Dogs go crazy for this   \n",
       "149      Great for treats and training   \n",
       "151  Pro-treat Freeze Dried Beef Liver   \n",
       "152     Best treats we've tried so far   \n",
       "153                       great treats   \n",
       "154                   dogs love these!   \n",
       "\n",
       "                                                  Text  \\\n",
       "12   Great book, perfect condition arrived in a sho...   \n",
       "13   I've always loved chicken soup and rice. My la...   \n",
       "14   This book was purchased as a birthday gift for...   \n",
       "8    It's a great book with adorable illustrations....   \n",
       "34   This product by Archer Farms is the best drink...   \n",
       "36   My dogs loves this chicken but its a product f...   \n",
       "35   Our dogs just love them.  I saw them in a pet ...   \n",
       "37   This book is easy to read and the ingredients ...   \n",
       "142  My dog is a very picky eater.  She has a very ...   \n",
       "143  Pro-Treat Freeze Dried Liver Dog Treats / B000...   \n",
       "144  We have a variety of treats for our two shitzu...   \n",
       "145  our dog responds to this more than any dog tre...   \n",
       "146  I have been giving the Stewart's Pro-Treat Fre...   \n",
       "147  Freeze-dried liver treats are easy to carry ar...   \n",
       "148  As another reviewer noted...This is like crack...   \n",
       "149  I purchased the product to use with training m...   \n",
       "151  My Husky has always been a little 'picky' when...   \n",
       "152  My 5 month old lab goes nuts over these liver ...   \n",
       "153  These are the best training treats you can buy...   \n",
       "154  My two boxes absolutely LOVE these freeze drie...   \n",
       "\n",
       "                                           CleanedText  \n",
       "12   great book perfect condit arriv short amount t...  \n",
       "13   ive alway love chicken soup rice late ethel al...  \n",
       "14   book purchas birthday gift year old boy squeal...  \n",
       "8    great book ador illustr true classic kid love ...  \n",
       "34   product archer farm best drink mix ever mix fl...  \n",
       "36   dog love chicken product china wont buy anymor...  \n",
       "35   dog love saw pet store tag attach regard made ...  \n",
       "37   book easi read ingredi avail store unlik recip...  \n",
       "142  dog picki eater sensit stomach special food tr...  \n",
       "143  freez dri liver dog treat sort product make wi...  \n",
       "144  varieti treat two shitzus favorit liver nice b...  \n",
       "145  dog respond dog treat tri mani differ treat se...  \n",
       "146  give stewart freez dri beef liver maltipoo nam...  \n",
       "147  liver treat easi carri around treat pouch dont...  \n",
       "148  anoth review note like crack dog dog like jerk...  \n",
       "149  purchas product use train dog treat supplement...  \n",
       "151  huski alway littl picki eat breakfast even mea...  \n",
       "152  month old lab goe nut liver treat vet recommen...  \n",
       "153  best train treat buy dog motiv doggi class tre...  \n",
       "154  two box absolut love freez dri liver one favor...  "
      ]
     },
     "execution_count": 4,
     "metadata": {},
     "output_type": "execute_result"
    }
   ],
   "source": [
    "final = final[final.HelpfulnessNumerator <= final.HelpfulnessDenominator]\n",
    "\n",
    "print(final.shape)\n",
    "final[30:50]"
   ]
  },
  {
   "cell_type": "markdown",
   "metadata": {},
   "source": [
    "# Stemming, stop-word removal and Lemmatization"
   ]
  },
  {
   "cell_type": "code",
   "execution_count": 5,
   "metadata": {},
   "outputs": [],
   "source": [
    "from nltk.corpus import stopwords\n",
    "stop = set(stopwords.words('english'))\n",
    "words_to_keep = set(('not'))\n",
    "stop -= words_to_keep\n",
    "#initialising the snowball stemmer\n",
    "sno = nltk.stem.SnowballStemmer('english')\n",
    "\n",
    " #function to clean the word of any html-tags\n",
    "def cleanhtml(sentence):\n",
    "    cleanr = re.compile('<.*?>')\n",
    "    cleantext = re.sub(cleanr, ' ', sentence)\n",
    "    return cleantext\n",
    "\n",
    "#function to clean the word of any punctuation or special characters\n",
    "def cleanpunc(sentence): \n",
    "    cleaned = re.sub(r'[?|!|\\'|\"|#]',r'',sentence)\n",
    "    cleaned = re.sub(r'[.|,|)|(|\\|/]',r' ',cleaned)\n",
    "    return  cleaned"
   ]
  },
  {
   "cell_type": "code",
   "execution_count": 6,
   "metadata": {},
   "outputs": [],
   "source": [
    "i=0\n",
    "str1=' '\n",
    "final_string=[]\n",
    "all_positive_words=[] # store words from +ve reviews here\n",
    "all_negative_words=[] # store words from -ve reviews here.\n",
    "s=''\n",
    "for sent in final['Text'].values:\n",
    "    filtered_sentence=[]\n",
    "    #print(sent);\n",
    "    sent=cleanhtml(sent) # remove HTMl tags\n",
    "    for w in sent.split():\n",
    "        for cleaned_words in cleanpunc(w).split():\n",
    "            if((cleaned_words.isalpha()) & (len(cleaned_words)>2)):    \n",
    "                if(cleaned_words.lower() not in stop):\n",
    "                    s=(sno.stem(cleaned_words.lower())).encode('utf8')\n",
    "                    filtered_sentence.append(s)\n",
    "                    if (final['Score'].values)[i] == 'positive': \n",
    "                        all_positive_words.append(s) #list of all words used to describe positive reviews\n",
    "                    if(final['Score'].values)[i] == 'negative':\n",
    "                        all_negative_words.append(s) #list of all words used to describe negative reviews reviews\n",
    "                else:\n",
    "                    continue\n",
    "            else:\n",
    "                continue \n",
    "    \n",
    "    str1 = b\" \".join(filtered_sentence) #final string of cleaned words\n",
    "    \n",
    "    \n",
    "    final_string.append(str1)\n",
    "    i+=1"
   ]
  },
  {
   "cell_type": "code",
   "execution_count": 7,
   "metadata": {},
   "outputs": [
    {
     "name": "stdout",
     "output_type": "stream",
     "text": [
      "Shape of final (364171, 12)\n"
     ]
    },
    {
     "data": {
      "text/html": [
       "<div>\n",
       "<style scoped>\n",
       "    .dataframe tbody tr th:only-of-type {\n",
       "        vertical-align: middle;\n",
       "    }\n",
       "\n",
       "    .dataframe tbody tr th {\n",
       "        vertical-align: top;\n",
       "    }\n",
       "\n",
       "    .dataframe thead th {\n",
       "        text-align: right;\n",
       "    }\n",
       "</style>\n",
       "<table border=\"1\" class=\"dataframe\">\n",
       "  <thead>\n",
       "    <tr style=\"text-align: right;\">\n",
       "      <th></th>\n",
       "      <th>index</th>\n",
       "      <th>Id</th>\n",
       "      <th>ProductId</th>\n",
       "      <th>UserId</th>\n",
       "      <th>ProfileName</th>\n",
       "      <th>HelpfulnessNumerator</th>\n",
       "      <th>HelpfulnessDenominator</th>\n",
       "      <th>Score</th>\n",
       "      <th>Time</th>\n",
       "      <th>Summary</th>\n",
       "      <th>Text</th>\n",
       "      <th>CleanedText</th>\n",
       "    </tr>\n",
       "  </thead>\n",
       "  <tbody>\n",
       "    <tr>\n",
       "      <th>0</th>\n",
       "      <td>138706</td>\n",
       "      <td>150524</td>\n",
       "      <td>0006641040</td>\n",
       "      <td>ACITT7DI6IDDL</td>\n",
       "      <td>shari zychinski</td>\n",
       "      <td>0</td>\n",
       "      <td>0</td>\n",
       "      <td>positive</td>\n",
       "      <td>939340800</td>\n",
       "      <td>EVERY book is educational</td>\n",
       "      <td>this witty little book makes my son laugh at l...</td>\n",
       "      <td>witti littl book make son laugh loud recit car...</td>\n",
       "    </tr>\n",
       "    <tr>\n",
       "      <th>19</th>\n",
       "      <td>138708</td>\n",
       "      <td>150526</td>\n",
       "      <td>0006641040</td>\n",
       "      <td>A3E9QZFE9KXH8J</td>\n",
       "      <td>R. Mitchell</td>\n",
       "      <td>11</td>\n",
       "      <td>18</td>\n",
       "      <td>negative</td>\n",
       "      <td>1129507200</td>\n",
       "      <td>awesome book poor size</td>\n",
       "      <td>This is one of the best children's books ever ...</td>\n",
       "      <td>one best children book ever written mini versi...</td>\n",
       "    </tr>\n",
       "    <tr>\n",
       "      <th>20</th>\n",
       "      <td>138709</td>\n",
       "      <td>150529</td>\n",
       "      <td>0006641040</td>\n",
       "      <td>A25ACLV5KPB4W</td>\n",
       "      <td>Matt Hetling \"Matt\"</td>\n",
       "      <td>0</td>\n",
       "      <td>1</td>\n",
       "      <td>positive</td>\n",
       "      <td>1108425600</td>\n",
       "      <td>Nice cadence, catchy rhymes</td>\n",
       "      <td>In June&lt;br /&gt;I saw a charming group&lt;br /&gt;of ro...</td>\n",
       "      <td>june saw charm group rose begin droop pep chic...</td>\n",
       "    </tr>\n",
       "    <tr>\n",
       "      <th>21</th>\n",
       "      <td>138699</td>\n",
       "      <td>150517</td>\n",
       "      <td>0006641040</td>\n",
       "      <td>ABW4IC5G5G8B5</td>\n",
       "      <td>kevin clark</td>\n",
       "      <td>0</td>\n",
       "      <td>0</td>\n",
       "      <td>positive</td>\n",
       "      <td>1291075200</td>\n",
       "      <td>good for children</td>\n",
       "      <td>Classic children's book, can't go wrong. I rea...</td>\n",
       "      <td>classic children book cant wrong read kid orde...</td>\n",
       "    </tr>\n",
       "    <tr>\n",
       "      <th>22</th>\n",
       "      <td>138686</td>\n",
       "      <td>150504</td>\n",
       "      <td>0006641040</td>\n",
       "      <td>AQEYF1AXARWJZ</td>\n",
       "      <td>Les Sinclair \"book maven\"</td>\n",
       "      <td>1</td>\n",
       "      <td>1</td>\n",
       "      <td>positive</td>\n",
       "      <td>1212278400</td>\n",
       "      <td>Chicken Soup with Rice</td>\n",
       "      <td>A very entertaining rhyming story--cleaver and...</td>\n",
       "      <td>entertain rhyme catchi illustr imagin fit righ...</td>\n",
       "    </tr>\n",
       "  </tbody>\n",
       "</table>\n",
       "</div>"
      ],
      "text/plain": [
       "     index      Id   ProductId          UserId                ProfileName  \\\n",
       "0   138706  150524  0006641040   ACITT7DI6IDDL            shari zychinski   \n",
       "19  138708  150526  0006641040  A3E9QZFE9KXH8J                R. Mitchell   \n",
       "20  138709  150529  0006641040   A25ACLV5KPB4W        Matt Hetling \"Matt\"   \n",
       "21  138699  150517  0006641040   ABW4IC5G5G8B5                kevin clark   \n",
       "22  138686  150504  0006641040   AQEYF1AXARWJZ  Les Sinclair \"book maven\"   \n",
       "\n",
       "    HelpfulnessNumerator  HelpfulnessDenominator     Score        Time  \\\n",
       "0                      0                       0  positive   939340800   \n",
       "19                    11                      18  negative  1129507200   \n",
       "20                     0                       1  positive  1108425600   \n",
       "21                     0                       0  positive  1291075200   \n",
       "22                     1                       1  positive  1212278400   \n",
       "\n",
       "                        Summary  \\\n",
       "0     EVERY book is educational   \n",
       "19       awesome book poor size   \n",
       "20  Nice cadence, catchy rhymes   \n",
       "21            good for children   \n",
       "22       Chicken Soup with Rice   \n",
       "\n",
       "                                                 Text  \\\n",
       "0   this witty little book makes my son laugh at l...   \n",
       "19  This is one of the best children's books ever ...   \n",
       "20  In June<br />I saw a charming group<br />of ro...   \n",
       "21  Classic children's book, can't go wrong. I rea...   \n",
       "22  A very entertaining rhyming story--cleaver and...   \n",
       "\n",
       "                                          CleanedText  \n",
       "0   witti littl book make son laugh loud recit car...  \n",
       "19  one best children book ever written mini versi...  \n",
       "20  june saw charm group rose begin droop pep chic...  \n",
       "21  classic children book cant wrong read kid orde...  \n",
       "22  entertain rhyme catchi illustr imagin fit righ...  "
      ]
     },
     "execution_count": 7,
     "metadata": {},
     "output_type": "execute_result"
    }
   ],
   "source": [
    "final['CleanedText']=final_string  \n",
    "final['CleanedText']=final['CleanedText'].str.decode(\"utf-8\")\n",
    "#below the processed review can be seen in the CleanedText Column \n",
    "print('Shape of final',final.shape)\n",
    "final.head()"
   ]
  },
  {
   "cell_type": "code",
   "execution_count": 8,
   "metadata": {},
   "outputs": [],
   "source": [
    "##Sorting data according to Time in ascending order for Time Based Splitting\n",
    "time_sorted_data = final.sort_values('Time', axis=0, ascending=True, inplace=False, kind='quicksort', na_position='last')\n",
    "\n",
    "# We will collect different 5K rows without repetition from time_sorted_data dataframe\n",
    "my_final = time_sorted_data.take(np.random.permutation(len(final))[:5000])\n",
    "\n",
    "x = my_final['CleanedText'].values"
   ]
  },
  {
   "cell_type": "markdown",
   "metadata": {},
   "source": [
    "# Bag of Words (BoW)"
   ]
  },
  {
   "cell_type": "code",
   "execution_count": 9,
   "metadata": {},
   "outputs": [
    {
     "name": "stdout",
     "output_type": "stream",
     "text": [
      "the type of count vectorizer : <class 'scipy.sparse.csr.csr_matrix'>\n",
      "the shape of out text BOW vectorizer :  (5000, 1909)\n",
      "the number of unique words : 1909\n"
     ]
    }
   ],
   "source": [
    "count_vect = CountVectorizer(min_df = 10) \n",
    "data = count_vect.fit_transform(x)\n",
    "print(\"the type of count vectorizer :\",type(data))\n",
    "print(\"the shape of out text BOW vectorizer : \",data.get_shape())\n",
    "print(\"the number of unique words :\", data.get_shape()[1])"
   ]
  },
  {
   "cell_type": "markdown",
   "metadata": {},
   "source": [
    "# Hierarchical Clustering with 2 clusters"
   ]
  },
  {
   "cell_type": "code",
   "execution_count": 10,
   "metadata": {},
   "outputs": [
    {
     "name": "stdout",
     "output_type": "stream",
     "text": [
      "No. of reviews in Cluster-1 :  243\n",
      "\n",
      "No. of reviews in Cluster-2 :  4757\n"
     ]
    }
   ],
   "source": [
    "from sklearn.cluster import AgglomerativeClustering\n",
    "\n",
    "model = AgglomerativeClustering(n_clusters=2).fit(data.toarray())\n",
    "\n",
    "reviews = my_final['Text'].values\n",
    "# Getting all the reviews in different clusters\n",
    "cluster1 = []\n",
    "cluster2 = []\n",
    "\n",
    "for i in range(model.labels_.shape[0]):\n",
    "    if model.labels_[i] == 0:\n",
    "        cluster1.append(reviews[i])\n",
    "    else :\n",
    "        cluster2.append(reviews[i])\n",
    " \n",
    "        \n",
    "# Number of reviews in different clusters\n",
    "print(\"No. of reviews in Cluster-1 : \",len(cluster1))\n",
    "print(\"\\nNo. of reviews in Cluster-2 : \",len(cluster2))"
   ]
  },
  {
   "cell_type": "code",
   "execution_count": 19,
   "metadata": {},
   "outputs": [],
   "source": [
    "from wordcloud import WordCloud, STOPWORDS, ImageColorGenerator"
   ]
  },
  {
   "cell_type": "markdown",
   "metadata": {},
   "source": [
    "READING REVIEWS MANUALLY"
   ]
  },
  {
   "cell_type": "code",
   "execution_count": 15,
   "metadata": {
    "scrolled": false
   },
   "outputs": [
    {
     "name": "stdout",
     "output_type": "stream",
     "text": [
      "Review-1 : \n",
      " I love holiday candies because they're predictably fresh (as opposed to the regular versions that have been sitting in a warehouse for 6 months - the holiday packaging ensures they're new stock).  Bought these from amazon for a great price despite mediocre reviews.  The reviews are true - this stuff wasn't handled with care - but the candies are still terrific.  They're visually a little waxy (visual eaters take note!) but the flavor is just a notch or two below ideal freshness and at least two notches above the non-holiday versions typically on my grocer's shelf.  Quite good.<br /><br />If you typically eat the Peanut Butter Cup (PBC) form, you may find the flavor of the holiday versions a little different.  The different shapes of the various holiday versions (bunnies, eggs, Christmas trees, etc.) alter the balance of peanut butter to chocolate in each bite.  There is a small finch-egg size PB egg (PBE) that is harder like the mini-cups.  It's actually interesting to geek out on the flavor differences between all the different shapes.  This oval egg is one of my absolute favorites - higher PB-per-bite balance, but still plenty enough chocolate.  The holiday shape versions are softer (no side ridging like the cups to add rigidity), with a different tooth-feel, and not as easy to transport without smushing.  This is a mini version of the soft PBE, and I found the flavor (PB to chocolate balance) virtually identical to the single-serving full-size PBE.<br /><br />If you happen to enjoy holiday PBEs, these mini-eggs are a sensible serving size without sacrificing the yummy texture and flavor of the larger PBEs.\n",
      "\n",
      "Review-2 : \n",
      " I have always bought and loved the clean \"fresh tuna\" tasting firm meat Polar Tuna when I bought it in my grocers.  But I purchased this product from Amazon in March 2010, and was very disappointed.  Although it looks firm and solid, (and the expiration date is for next November), it smells different, not that \"fresh tuna\" smell it used to have.  It also has that sharp bitter \"bad tuna\" aftertaste that most tuna seems to have for the last 5 or more years.  This bad aftertaste seems to coincide with the various preservatives they have added to tuna.  But on the can, this tuna says it only is \"Albacore, water, salt. Product of Thailand\".  If there is only water salt and tuna, then this tuna is bad. In the old days when I bought Polar tuna in the store, if I put the can in the trash, or left the dish on the counter for a few hours till I filled the dishwasher, it just smelled like fresh tuna smell.  But as soon as the can is opened from this 24 pack, the smell is bad, and it gets worse quickly.  As a last resort to see if something could remove the bad taste, I even tried cooking one can in tomato sauce, and I could still taste the bad tuna taste.<br /><br />I am disappointed, not only because of how it used to be so good, but also on the can it says: All Natural, NO ADDITIVES, NO RESIDUE, NO AFTERTASTE, and that is just not true.<br /><br />I have contacted them by email, and if they get back to me I will update this review.\n",
      "\n",
      "Review-3 : \n",
      " Got this the other day and have been mixing it with my dogs regular food so as not to be an abrupt change and let me tell you she loves this food.  It's dry but soft and puffy but it's nice to see some veggie like looking pieces in a dry dog food.  I can smell the sirloin beefyness more than any other dog food I've come across.<br /><br />I do like the fact that it is made by Purina which is my favorite company for my pet foods and I like the fact that I can give Maxine something that tastes good and not like saw dust.  I use just a bit more of this that her usual food because it is puffy already but if I compacted it I'm sure it would come to just a wee bit less that what she usually eats.<br /><br />My only problem with most dog foods this one included is the amount of crude fat.  Even though my baby is only eleven pounds and a bit small so doesn't really need to worry about a few extra calories it does stand that it would be nice to see more protien and less crude fat in the current dog foods out there.  My baby likes this and that counts for quite a bit.  Better than giving her table food which I do not believe in.\n",
      "\n"
     ]
    }
   ],
   "source": [
    "# Three Reviews of cluster 1\n",
    "count=1\n",
    "for i in range(3):\n",
    "    if i < len(cluster1):\n",
    "        print('Review-%d : \\n %s\\n'%(count,cluster1[i]))\n",
    "        count +=1"
   ]
  },
  {
   "cell_type": "code",
   "execution_count": 12,
   "metadata": {},
   "outputs": [
    {
     "name": "stdout",
     "output_type": "stream",
     "text": [
      "Review-1 : \n",
      " I like the mint, but the only reason I have bought these mint are because I like the tin. The tins are very nice. There are a lot of project I can build using these candy tins. The mint is not bad either, very freshing.<br /><br />They sell these mint for $2.50/tin here in San Francisco, so 12 tins will cost me $30, and I saved about 10 dollars to get it here.\n",
      "\n",
      "Review-2 : \n",
      " This is my second review request for this mustard.  Again, I will say that it is my favorite mustard and hard to find in select stores.  I was so happy to see that I could purchase it on Amazon.  This is sure a great place to shop from my mustard to my hard to find shampoos.  This mustard is wonderful on all kind of meats.  My husband is not a mustard lover like me, but he does like this brand and selection.\n",
      "\n",
      "Review-3 : \n",
      " Great product. Great price. I use it as a substitute for white sugar in everything from my coffee to cooking and baking. I use Amazon's Subscribe and Save program for this product. Enjoy.\n",
      "\n"
     ]
    }
   ],
   "source": [
    "# Three Reviews of cluster 2\n",
    "count=1\n",
    "for i in range(3):\n",
    "    if i < len(cluster2):\n",
    "        print('Review-%d : \\n %s\\n'%(count,cluster2[i]))\n",
    "        count +=1"
   ]
  },
  {
   "cell_type": "code",
   "execution_count": null,
   "metadata": {},
   "outputs": [],
   "source": [
    "print(\"Cluster 2 : \\n\")\n",
    "count=1\n",
    "for review in cluster2[0:3]:\n",
    "    print(\"Review {0} : {1}\".format(count,review))\n",
    "    # Plot word cloud of review\n",
    "    plot_word_cloud(review)\n",
    "    print(\"\\n\\n\\n\")\n",
    "    count +=1"
   ]
  },
  {
   "cell_type": "markdown",
   "metadata": {},
   "source": [
    "# Hierarchical Clustering with 5 clusters"
   ]
  },
  {
   "cell_type": "code",
   "execution_count": 13,
   "metadata": {},
   "outputs": [
    {
     "name": "stdout",
     "output_type": "stream",
     "text": [
      "No. of reviews in Cluster-1 :  543\n",
      "\n",
      "No. of reviews in Cluster-2 :  243\n",
      "\n",
      "No. of reviews in Cluster-3 :  1\n",
      "\n",
      "No. of reviews in Cluster-4 :  3943\n",
      "\n",
      "No. of reviews in Cluster-5 :  270\n"
     ]
    }
   ],
   "source": [
    "model = AgglomerativeClustering(n_clusters=5).fit(data.toarray())\n",
    "\n",
    "# Getting all the reviews in different clusters\n",
    "cluster1 = []\n",
    "cluster2 = []\n",
    "cluster3 = []\n",
    "cluster4 = []\n",
    "cluster5 = []\n",
    "\n",
    "for i in range(model.labels_.shape[0]):\n",
    "    if model.labels_[i] == 0:\n",
    "        cluster1.append(reviews[i])\n",
    "    elif model.labels_[i] == 1:\n",
    "        cluster2.append(reviews[i])\n",
    "    elif model.labels_[i] == 2:\n",
    "        cluster3.append(reviews[i])\n",
    "    elif model.labels_[i] == 3:\n",
    "        cluster4.append(reviews[i])\n",
    "    else :\n",
    "        cluster5.append(reviews[i]) \n",
    "        \n",
    "# Number of reviews in different clusters\n",
    "print(\"No. of reviews in Cluster-1 : \",len(cluster1))\n",
    "print(\"\\nNo. of reviews in Cluster-2 : \",len(cluster2))\n",
    "print(\"\\nNo. of reviews in Cluster-3 : \",len(cluster3))\n",
    "print(\"\\nNo. of reviews in Cluster-4 : \",len(cluster4))\n",
    "print(\"\\nNo. of reviews in Cluster-5 : \",len(cluster5))"
   ]
  },
  {
   "cell_type": "code",
   "execution_count": 14,
   "metadata": {},
   "outputs": [
    {
     "name": "stdout",
     "output_type": "stream",
     "text": [
      "Review-1 : \n",
      " It's very difficult to tell if this product is working. I applied it around my deck to repel rabbits. We have them in the yard, and sometimes they hover around the hostas around the deck. I haven't noticed any rabbits near the house since application, but we had rain nearly every day for a week, so I'm not sure if the product is effective anymore or not. I also sprinkled it around one of my gardens that doesn't have a fence to deter rabbits, groundhogs and moles. Since I don't have a camera set up, and I'm not monitoring it round the clock, I just can't tell if it's keeping all or some of them away.<br /><br />When I sprinkle it on, the product has a very strong smell of black pepper. It's easy to apply, but doesn't go very far. It's a little expensive for me to purchase for additional applications.<br /><br />For those wondering what the other 99% of inactive ingredients might be, I'm 99% sure it's sand. So, this is black pepper, Piperine, and Capsaicin, and a ton of sand. If they made it in a liquid that customers could mix with sand for spreadability, I wonder if they could make it at a better price.\n",
      "\n",
      "Review-2 : \n",
      " The dog food got good ratings at consumers, so I bought it and the dogs just love it.. It seems to be a very healtful and complete food.. I just add a little hot water and its gobbled up in no time\n",
      "\n",
      "Review-3 : \n",
      " We bought this with a coupon at our warehouse grocery store wondering if we'd ever use it all, but here we are on our second canister now! Let me tell you, this stuff is very versatile! I know Nestle just advertises it as a chocolate milk drink mix, but we've found many uses for it.<br /><br />I use it with milk to make hot cocoas (and it's become my preference over Swiss Miss packets and the like), we've used it to add chocolaty flavors to baking projects, we obviously make our toddler the occasional chocolate milk for a treat, but my favorite thing to do with Nesquik powder is to make myself an iced mocha! (Although you could certainly make hot mochas as well). My husband has recently been on my case for spending almost $5 every day (sometimes twice) on Starbuck's iced mochas. I have a newborn, you see, so I'm sleep deprived and my coffee consumption has gone up. I'm addicted! But we realized the Starbuck's charges were adding up quite a bit, so as an alternative, most days I turn to Nesquik instead. It doesn't taste like Starbuck's mochas, but it does make for a tasty coffee drink if you like them chocolaty. I use one shot of espresso (or strong coffee if I'm away from our espresso machine), two spoonfuls of Nesquik, and fill the glass up the rest of the way with about 1 cup of milk. It's yummy! You can add ice, or keep it hot if you like. In the long run, we've saved money for sure by using the Nesquik.<br /><br />Finally, I have to say that as a mom, the ingredient list is satisfactory. This obviously isn't what you'd call health food, and certainly not advertised as organic or anything - but as far as the ingredient list goes it's pretty mild. No scary sounding ingredients I can't pronounce on the label - mostly minerals, vitamins, and sugar. There are no artificial sweeteners, as advertised. I absolutely expect us to remain regular buyers of Nesquik, it fits in nicely with my family!\n",
      "\n"
     ]
    }
   ],
   "source": [
    " #Three Reviews of cluster 1\n",
    "count=1\n",
    "for i in range(3):\n",
    "    if i < len(cluster1):\n",
    "        print('Review-%d : \\n %s\\n'%(count,cluster1[i]))\n",
    "        count +=1"
   ]
  },
  {
   "cell_type": "code",
   "execution_count": 15,
   "metadata": {},
   "outputs": [
    {
     "name": "stdout",
     "output_type": "stream",
     "text": [
      "Review-1 : \n",
      " This English Breakfast tea from Higgins & Burke, is good: it's basic, good tasting black tea (English Breakfast blend) and is tasty.  I wasn't blown away by the flavor, but it was good: I enjoyed the tea, it brewed up quickly in these nice tea bags (I recommend about one minute of brew time), and then added a splash of cream: it was quite nice!\n",
      "\n",
      "Review-2 : \n",
      " I have never had black tea this good before.  I love lychee fruit and wanted some black tea for the caffeine content.  Problem is I do not like the taste of black tea.  This tea is different it is not bitter.  It is smooth in taste.  I do not add sugar to my teas so they have to stand on their own.  This one does.  That is why I purchase teas with flavors in them.  This may seem expensive, but realize this is 100 bags of tea and comes in a huge box.  If you look a regular tea it is a much smaller box.  This looks over three times the size.  Great tea try it for your caffenated tea.  It is wonderful tea.  This beats out earl gray or english breakfast tea in taste.  This tea is a pleasure to drink.  I just wanted to get some caffeine in a tolerable way with no artificial sweeteners or regular sugars.  This is it.  In the highly sweetened american culture there is a way out drink this tea from china.  It is calorie free with no artifical sweeteners. I am not asian, but I love asian products.\n",
      "\n",
      "Review-3 : \n",
      " I have been drinking tea for over thirty years, and tea in America has improved! Vine offered me a chance to try another basic tea, and its a good entry level, AM drinking tea.<br />I found the vanilla just a little strong for my taste, so I mixed it with black tea and it makes a large pot, perfect with stevia and a touch of milk.<br />I do not think this would taste well without milk, but then I like the english school of tea, and do not understand why Americans try to drink black tea black, like its coffee?<br />Not impressed my the less caffeine argument on the side of the box, the only way to get no /less caffeine in teas is to drink steeped herbs, this has tea in it, so it has cafffeine, duh.<br />So enjoy, its good flavorful choice when tired of the basic teas.\n",
      "\n"
     ]
    }
   ],
   "source": [
    "count=1\n",
    "for i in range(3):\n",
    "    if i < len(cluster2):\n",
    "        print('Review-%d : \\n %s\\n'%(count,cluster2[i]))\n",
    "        count +=1"
   ]
  },
  {
   "cell_type": "code",
   "execution_count": 16,
   "metadata": {},
   "outputs": [
    {
     "name": "stdout",
     "output_type": "stream",
     "text": [
      "Review-1 : \n",
      " QUALITY<br />In my opinion, having used a dozen or so brands of olive oil, Colavita is simply the best reasonably priced olive oil which is widely available.  I've been using Colavita for several years now, and have never been dissappointed.  Colavita is excellent quality, dependable, and reasonably priced---the perfect combination for a daily general purpose olive oil.<br /><br />FLAVOR<br />Although not an \"olive oil gourmand\", I'd describe Colavita as \"rich, smooth, and neutral\". Gourmands probably have other silly terms for the flavor, such as \"fruity\" (but a \"civilian\" would never call it fruity). It is not harsh or bitter like most common olive oil, not spicy like Whole Foods 360, and not notably \"olivey\".  Colavita is an evoo (\"extra virgin olive oil\"---to us non-olive oil snobs), which means \"first pressing\".  Most olive-oil nuts consider the words \"extra virgin\" to be sacred.  Practically speaking though, the mere label \"extra virgin\" is not a guarantee of quality---most grocery store brands (evoo or not) are harsh and bitter, but some are good cooking oils.<br /><br />PREMIUM OILS<br />Botique premium oils are are as variable year to year as wines, comparably expensive, and have to be bought the way you buy fine wine (that is, ideally at tastings, where you confirm the quality and flavor before purchase).  Some are genuinely (as in NOT-gourmet-speak) buttery and nutty---great for dipping.  Some taste like the fragrance of flowers---great for salads.  Never cook premium olive oil---use it for dipping or drizzling, or on delicate salads.  Colavita is a good general purpose oil, better than most grocery store olive oil, but is not a premium oil.<br /><br />COOKING OIL<br />Non-extra virgin olive oils (second or later pressings) are usually darker and stronger flavored---which adds complexity to soups, sauses, stews, bean dishes etc.  If you are using a  bitter or strong-tasting olive oil, cook it WITH the dish.  I add 1/4 to 1/2 cup of olive oil to every sause, soup, stew, chili, cassrole, or bean dish, etc.  However, olive oil can \"go bad\"---so unless you use alot, it doesn't sense to use a different cooking oil than you use on salads, for dipping etc.  One usually purchases good cooking oil in multi-gallon tins.  Colavita is a very good general purpose oil, and therefore a good cooking oil---albeit a bit expensive for a cooking oil.<br /><br />DIPPING OIL<br />Traditionally (and in the best restaurants), Italian bread, oil and balsamic vinegar is served as an appetizer.  The diner usually mixes his own oil and vinegar at the table.  If all three are top quality, the combination can be delicious, and can even be a light meal.  Add figs or slices of apple or pear and some olives, and you do have a meal. <a href=\"http://www.amazon.com/gp/product/B000FAKUP0\">Byzantine Fresh Olive Antipasto, 5-Pound Bag</a>  Albeit probably heresy, in fact you can substitute fine wine vinegar or fresh lemon juice.  If I don't have olives, I usually add soy sause or Braggs for saltiness to the mixture. <a href=\"http://www.amazon.com/gp/product/B001EQ4Y4W\">Bragg Liquid Aminos, Natural Soy Sauce Alternative, 32-Ounce Bottle , (Pack of 3)</a> Colavita is a very good \"everyday\" dipping oil.<br /><br />SALAD OIL<br />The requirements for an \"everyday\" salad oil are a little less stringent than that for a dipping oil, because the heavy flavor of the vinegar, and often pamessan, bacon bits, etc. usually dominate.  However, I rarely prepare use oil and vinegar the traditional way.  For everyday salads (or as a dip for raw vegies) I prefer olive-oil based mayo with a little freshly ground pepper, and some citrus zest.  For special salads, I use a fruity premium olive oil (and just a hint of lemon and/or orange juice and zest).  Colavita is a very good \"everyday\" salad oil.<br /><br />DRIZZING OIL<br />A drizzling oil is an oil you pour over a dish immediately before serving, or which you serve in a carafe on the table.  If you REALLY like the flavor of \"ordinary good\" olive oil (I don't)---then you will find Colavita to be a good drizzling oil.  My hispanic wife frequently drizzles Colavita on the dishes I've cooked (with Colavita), because she likes the olive-oil flavor.  By the way, the same principle applies to the use of butter, pepper, garlic, cheese, even soy sause---if you want the flavor to dominate, add it just before serving; if you want the flavor to be substle, cook the seasoning with the dish.  For most dishes I prefer a rich blend of subtle flavors.<br /><br />HEALTHY COOKING<br />I go to a great deal of effort to minimize animal fat in my diet, by very strict trimming, thorough cooking, and by chilling broth to remove the solidified fat.  However, the body needs fat and craves fat.  The ideal solution is to replace animal fat with vegetable oils which are high in omega-3s.  Olive oil is ideal for the purpose.<br /><br />My Southern grandmother could not cook any vegetables without a thick slice of fatback (fatty bacon)---and indeed her vegetables were very tasty.  Speaking of which, what is the point of healthy vegetables if no-one will eat them?  The solution is to add several tablespoon fulls of olive oil, and a teaspoon of chipped ham <a href=\"http://www.amazon.com/gp/product/B000NERTSE\">Hormel Premium Real Crumbled Bacon</a> to the vegies.  For the best flavor, cook the vegies with the olive oil (do NOT add oil to the cooked vegetables---unless you really like the flavor of the oil).  Season as necessary with pepper and fresh lemon juice.  Truly delicious vegetables are possible---I eat them daily.<br /><br />ECONOMY<br />The 34 ounce tins is about half the price of the bottle per oz at this time, but is expensive compared to the last time I purchased it.  The tins are small enough to use directly. But I prefer bottles, because controlling the flow of the oil is easier (since you can see the oil approaching the spout), and it is easier to gauge the amount of oil I'm using by eye (how far the level drops in the glass bottle). So, I refill bottles from the tins.  I've been told that olive oil stays fresher in tins (measured in months and years) That becomes relevant when you don't know how many months (or even years) a bottle may have sat on a grocery shelf.<br /><br />GENERAL RECCOMENDATION<br />After major grocery shopping expeditions, sit down at your computer with your reciept, and check if you can buy any of the non-perishables through Amazon. When you find items (even if more expensive than you just paid), put the item on your Amazon wish list, and add a note to the wish list of the price you just paid. Check your wish list frequently, and when you see an item you need at a bargain price, buy it.\n",
      "\n"
     ]
    }
   ],
   "source": [
    "count=1\n",
    "for i in range(3):\n",
    "    if i < len(cluster3):\n",
    "        print('Review-%d : \\n %s\\n'%(count,cluster3[i]))\n",
    "        count +=1"
   ]
  },
  {
   "cell_type": "code",
   "execution_count": 17,
   "metadata": {},
   "outputs": [
    {
     "name": "stdout",
     "output_type": "stream",
     "text": [
      "Review-1 : \n",
      " I like the mint, but the only reason I have bought these mint are because I like the tin. The tins are very nice. There are a lot of project I can build using these candy tins. The mint is not bad either, very freshing.<br /><br />They sell these mint for $2.50/tin here in San Francisco, so 12 tins will cost me $30, and I saved about 10 dollars to get it here.\n",
      "\n",
      "Review-2 : \n",
      " This is my second review request for this mustard.  Again, I will say that it is my favorite mustard and hard to find in select stores.  I was so happy to see that I could purchase it on Amazon.  This is sure a great place to shop from my mustard to my hard to find shampoos.  This mustard is wonderful on all kind of meats.  My husband is not a mustard lover like me, but he does like this brand and selection.\n",
      "\n",
      "Review-3 : \n",
      " Great product. Great price. I use it as a substitute for white sugar in everything from my coffee to cooking and baking. I use Amazon's Subscribe and Save program for this product. Enjoy.\n",
      "\n"
     ]
    }
   ],
   "source": [
    "count=1\n",
    "for i in range(3):\n",
    "    if i < len(cluster4):\n",
    "        print('Review-%d : \\n %s\\n'%(count,cluster4[i]))\n",
    "        count +=1"
   ]
  },
  {
   "cell_type": "code",
   "execution_count": null,
   "metadata": {},
   "outputs": [],
   "source": [
    "count=1\n",
    "for i in range(3):\n",
    "    if i < len(cluster5):\n",
    "        print('Review-%d : \\n %s\\n'%(count,cluster5[i]))\n",
    "        count +=1"
   ]
  },
  {
   "cell_type": "markdown",
   "metadata": {},
   "source": [
    "# Hierarchical Clustering with 10 clusters"
   ]
  },
  {
   "cell_type": "code",
   "execution_count": 18,
   "metadata": {},
   "outputs": [],
   "source": [
    "model = AgglomerativeClustering(n_clusters=10).fit(data.toarray())\n",
    "# Getting all the reviews in different clusters\n",
    "cluster1 = []\n",
    "cluster2 = []\n",
    "cluster3 = []\n",
    "cluster4 = []\n",
    "cluster5 = []\n",
    "cluster6 = []\n",
    "cluster7 = []\n",
    "cluster8 = []\n",
    "cluster9 = []\n",
    "cluster10 = []\n",
    "\n",
    "for i in range(model.labels_.shape[0]):\n",
    "    if model.labels_[i] == 0:\n",
    "        cluster1.append(reviews[i])\n",
    "    elif model.labels_[i] == 1:\n",
    "        cluster2.append(reviews[i])\n",
    "    elif model.labels_[i] == 2:\n",
    "        cluster3.append(reviews[i])\n",
    "    elif model.labels_[i] == 3:\n",
    "        cluster4.append(reviews[i])\n",
    "    elif model.labels_[i] == 4:\n",
    "        cluster5.append(reviews[i])\n",
    "    elif model.labels_[i] == 5:\n",
    "        cluster6.append(reviews[i])\n",
    "    elif model.labels_[i] == 6:\n",
    "        cluster7.append(reviews[i])\n",
    "    elif model.labels_[i] == 7:\n",
    "        cluster8.append(reviews[i])\n",
    "    elif model.labels_[i] == 8:\n",
    "        cluster9.append(reviews[i])       \n",
    "    else :\n",
    "        cluster10.append(reviews[i])"
   ]
  },
  {
   "cell_type": "code",
   "execution_count": 19,
   "metadata": {},
   "outputs": [
    {
     "name": "stdout",
     "output_type": "stream",
     "text": [
      "No. of reviews in Cluster-1 :  316\n",
      "\n",
      "No. of reviews in Cluster-2 :  2\n",
      "\n",
      "No. of reviews in Cluster-3 :  224\n",
      "\n",
      "No. of reviews in Cluster-4 :  1117\n",
      "\n",
      "No. of reviews in Cluster-5 :  270\n",
      "\n",
      "No. of reviews in Cluster-6 :  1\n",
      "\n",
      "No. of reviews in Cluster-7 :  1\n",
      "\n",
      "No. of reviews in Cluster-8 :  199\n",
      "\n",
      "No. of reviews in Cluster-9 :  44\n",
      "\n",
      "No. of reviews in Cluster-10 :  2826\n"
     ]
    }
   ],
   "source": [
    "# Number of reviews in different clusters\n",
    "print(\"No. of reviews in Cluster-1 : \",len(cluster1))\n",
    "print(\"\\nNo. of reviews in Cluster-2 : \",len(cluster2))\n",
    "print(\"\\nNo. of reviews in Cluster-3 : \",len(cluster3))\n",
    "print(\"\\nNo. of reviews in Cluster-4 : \",len(cluster4))\n",
    "print(\"\\nNo. of reviews in Cluster-5 : \",len(cluster5)) \n",
    "print(\"\\nNo. of reviews in Cluster-6 : \",len(cluster6))\n",
    "print(\"\\nNo. of reviews in Cluster-7 : \",len(cluster7))\n",
    "print(\"\\nNo. of reviews in Cluster-8 : \",len(cluster8))\n",
    "print(\"\\nNo. of reviews in Cluster-9 : \",len(cluster9))\n",
    "print(\"\\nNo. of reviews in Cluster-10 : \",len(cluster10))"
   ]
  },
  {
   "cell_type": "code",
   "execution_count": 20,
   "metadata": {},
   "outputs": [
    {
     "name": "stdout",
     "output_type": "stream",
     "text": [
      "Review-1 : \n",
      " It's very difficult to tell if this product is working. I applied it around my deck to repel rabbits. We have them in the yard, and sometimes they hover around the hostas around the deck. I haven't noticed any rabbits near the house since application, but we had rain nearly every day for a week, so I'm not sure if the product is effective anymore or not. I also sprinkled it around one of my gardens that doesn't have a fence to deter rabbits, groundhogs and moles. Since I don't have a camera set up, and I'm not monitoring it round the clock, I just can't tell if it's keeping all or some of them away.<br /><br />When I sprinkle it on, the product has a very strong smell of black pepper. It's easy to apply, but doesn't go very far. It's a little expensive for me to purchase for additional applications.<br /><br />For those wondering what the other 99% of inactive ingredients might be, I'm 99% sure it's sand. So, this is black pepper, Piperine, and Capsaicin, and a ton of sand. If they made it in a liquid that customers could mix with sand for spreadability, I wonder if they could make it at a better price.\n",
      "\n",
      "Review-2 : \n",
      " We bought this with a coupon at our warehouse grocery store wondering if we'd ever use it all, but here we are on our second canister now! Let me tell you, this stuff is very versatile! I know Nestle just advertises it as a chocolate milk drink mix, but we've found many uses for it.<br /><br />I use it with milk to make hot cocoas (and it's become my preference over Swiss Miss packets and the like), we've used it to add chocolaty flavors to baking projects, we obviously make our toddler the occasional chocolate milk for a treat, but my favorite thing to do with Nesquik powder is to make myself an iced mocha! (Although you could certainly make hot mochas as well). My husband has recently been on my case for spending almost $5 every day (sometimes twice) on Starbuck's iced mochas. I have a newborn, you see, so I'm sleep deprived and my coffee consumption has gone up. I'm addicted! But we realized the Starbuck's charges were adding up quite a bit, so as an alternative, most days I turn to Nesquik instead. It doesn't taste like Starbuck's mochas, but it does make for a tasty coffee drink if you like them chocolaty. I use one shot of espresso (or strong coffee if I'm away from our espresso machine), two spoonfuls of Nesquik, and fill the glass up the rest of the way with about 1 cup of milk. It's yummy! You can add ice, or keep it hot if you like. In the long run, we've saved money for sure by using the Nesquik.<br /><br />Finally, I have to say that as a mom, the ingredient list is satisfactory. This obviously isn't what you'd call health food, and certainly not advertised as organic or anything - but as far as the ingredient list goes it's pretty mild. No scary sounding ingredients I can't pronounce on the label - mostly minerals, vitamins, and sugar. There are no artificial sweeteners, as advertised. I absolutely expect us to remain regular buyers of Nesquik, it fits in nicely with my family!\n",
      "\n",
      "Review-3 : \n",
      " White Gold Raw Unfiltered Honey is wonderful.<br /><br />I've always loved honey...believed that the honey I purchased was just that...HONEY.  Ignorance is bliss...eh?  I've been really dismayed to discover that some of the honey (the processed/filtered/clear kind) out there is adulterated with HIGH FRUCTOSE CORN SYRUP (HFCS).  I HATE this stuff.  How would I or you know?  We can't...it's an impossibility...and that's exactly how HFCS manufacturers want to keep it.  If HFCS listed as an ingredient on any product I pick up at the grocery store I place it back on the shelf and walk away.  I'm sure that's EXACTLY why corn producers and HFCS manufacturers do not want regulations that require it being listed in the ingredients on products that contain HFCS...if we only knew.  Sadly, some bee farmers use HFCS to supplement their bees diets...could this be part of the cause for bee colony collapse?  I wonder.<br /><br />I'm stepping off my soapbox now and want you to know that this White Gold Raw/Unfiltered Honey is absolutely the best honey I've ever tasted.  It's mild, buttery, and aromatic all at the same time.  It just melts in your mouth and has a clean, yummy aftertaste.\n",
      "\n"
     ]
    }
   ],
   "source": [
    "# Three Reviews of cluster 1\n",
    "count=1\n",
    "for i in range(3):\n",
    "    if i < len(cluster1):\n",
    "        print('Review-%d : \\n %s\\n'%(count,cluster1[i]))\n",
    "        count +=1"
   ]
  },
  {
   "cell_type": "code",
   "execution_count": 21,
   "metadata": {},
   "outputs": [
    {
     "name": "stdout",
     "output_type": "stream",
     "text": [
      "Review-1 : \n",
      " \"We use and believe in stone milling because no machinery has yet been developed that grinds grains into flours, cereals, and meals quite as well as the flint-hard quartz stones used by master millers since early Roman times.\" ~Bob's Red Mill Site<br /><br />The 100 % Stone Ground Whole Wheat Flour is my favorite flour for use in a variety of whole wheat bread recipes. It is all natural and doesn't contain any preservatives. You can use this flour for bread machine baking too and it produces superior results. I've used the recipe on the back of the bag and adapted it by using a mixture of whole wheat and regular bread flour because I didn't have any \"gluten\" as called for in the recipe. If you substitute 1 ½ cups of regular bread flour for part of the whole wheat flour you don't seem to need the gluten.<br /><br />Bob's Red Mill products remind me of my childhood when my father took me to the Graue Mill in Oakbrook, IL where we watched corn being milled. It is now the only operating waterwheel gristmill in Illinois. While Bob's Red Mill products don't arrive in a cloth bag, the paper bags do have an old fashioned feel and have a string-sewn closure. I love the crinkly sound of the high-quality paper bags.<br /><br />Bob's Red Mill uses slow turning, 100-year-old millstones to naturally grind together the bran, endosperm and germ that contains the nutritious oil. This is a \"cool stone grinding process\" which preserves nutrients normally lost in high-speed, high-heat milling.<br /><br />This company produces more than 400 products. Look for everything from hot cereals and mixes to flour milled from a wide variety of grains. If you love making natural breads in your bread machine, the flours are superior and produce deliciously nutritious breads.<br /><br />Whole Wheat Oat Rolls<br /><br />1 c. water, warmed to 110°F<br />5 T. fat-free milk powder<br />2 T. clover honey<br />2 T. salted butter, melted<br />2 1/2 tsp. active dry yeast<br />1 lg. egg<br />2 c. bread flour<br />1 c. Bob's Red Mill whole-wheat flour<br />1/2 c. Bob's Red Mill thick-rolled oats<br />2 T. wheat germ<br />1 1/2 tsp. salt<br />Melted butter<br />Oats<br /><br />The dough may be made in a bread machine or by hand. Bread machine method: Place the water, milk powder, honey, melted butter, yeast, egg, bread<br />flour, whole-wheat flour, oats, wheat germ and salt into a bread machine pan. Set bread machine for whole wheat, dough and large loaf cycle. Form rolls.<br />Hand method: In a large bowl, whisk the water, milk powder, honey, melted butter, yeast and egg. In an extra large bowl, mix the flour, whole wheat flour,<br />oats, wheat germ and salt. Stir in the yeast mixture.<br /><br />Place dough on a well-floured breadboard. Knead until smooth and elastic. Place in an oiled bowl, turn once, then cover with a damp cloth. Turn oven on to 200°F, when you can feel the heat on your hand, turn the oven off. Place bowl in the warm oven and let the dough rise until double.<br /><br />Punch the dough down and cut into 16 pieces. Form rolls then brush with melted butter. Sprinkle the tops of the rolls with the oats. Let rise for 45 minutes or until double then bake in a preheated 400°F oven 10-15 minutes or until lightly browned.<br /><br />Makes 16 rolls<br /><br />~The Rebecca Review\n",
      "\n",
      "Review-2 : \n",
      " My apologies in advance for what is a lengthy review.  However, if I can help anyone save a little time compared to what I spent trying to choose a good puppy food, that's my goal.  So I wrote this not only to review the Castor & Pollux product, but also to provide some information on other types of dry dog food.<br /><br />It is no secret that you can buy some very cheap and some very expensive dog/puppy foods.  Common sense tells you that you can spend very little and get lots of filler and by-products, or spend a good deal more and get wholesome, healthy food.  My personal opinion is that long term, both your dog and you are better off if s/he is fed good food.  The little extra money spent now may offset potential medical bills and heartache later.<br />That being the case, I set out to find a really good dog food for my Golden Retriever puppy, while, of course, trying to keep cost down.  I spent a good deal of time researching foods.  I disregarded low end foods that are largely grains, fillers and meat by-products.  I looked at average to premium foods.<br /><br />I narrowed my choices to several including Castor & Pollux Natural Ultramix.  The others were Blue, Eukanuba, Innova EVO, Merrick, Natural Balance, and Wellness.<br /><br />After that I used a few review websites and ratings tables.  These can be helpful.  I used one that starts each perspective food off with 100 points and then subtracts for poor ingredients (example: -10 points of containing by-products) and then adds points for any really good ingredients - vegetables, etc.  The foods are then rated in grades from A through F.  Of my choices, all but one were in the A or higher range.  From these I eliminated Ekanuba first, which had a B rating.  Although it is what the breeder was feeding my puppy's litter, it appears to be average, at best, with some decent ingredients, but also containing by-products.<br /><br />Once I had established that the remaining contenders all ranked in the same range, I looked at price.  Now all of these will cost more than a store brand, but in the end your dog may end up healthier, which will make both him and you happier.<br /><br />Castor and Pollux ranked in the top 5 or so of the foods I looked at, and in the end it costs about $1.71 a pound using Amazon's \"Subscribe and Save\" program.  Plus it ends up shipped free to your home - which makes one less 15 pound item you need to lug home from grocery shopping!<br /><br />Now, this price is perhaps double a store brand, Alpo, or Purina, but those brands contain a lot of fillers and meat by-products, and you have no way of knowing what is in by-product.  Manufacturers are very good at fooling our eyes.  We read \"Meat By-products\" and we see \"meat\".  Yet at 85 cents a pound, you many no longer consider it a bargain when you realize \"meat by-products\" can include bones, blood, heads, lungs, intestines, ligaments, feet and feathers.  Not so yummy any more.<br /><br />The present ingredient list (all from the United States, by the way) for Castor & Pollux Natural Ultramix,  is as follows:<br />Chicken, Chicken Meal, Turkey Meal, Milo, Ground Whole Oats, Ground Whole Barley, Dried Bananas, Chicken Fat (Naturally preserved with Mixed Tocopherols and Citric Acid), Brown Rice, Dried Peas, Natural Chicken Flavor, Salmon Meal, Tomato Pomace, Brewers Dried Yeast, Ground Whole Flaxseed, Dried Sweet Potatoes, Dried Carrots, Dried Egg Product, Potassium Chloride, Salt, Freeze Dried Peas, Dried Cranberries, Dicalcium Phosphate, Fructooligosaccharide, Calcium Carbonate, Zinc Sulfate, Vitamin E Supplement, Choline Chloride, Ferrous Sulfate, Niacin, Copper Sulfate, Thiamine Mononitrate, Calcium Pantothenate, Vitamin A Supplement, Manganous Oxide, Pyridoxine Hydrochloride, Sodium Selenite, Riboflavin, Vitamin D3 Supplement, Biotin, Vitamin B12 Supplement, Calcium Iodate, Folic Acid, Rosemary Extract.<br /><br />It contains very good protein sources such as poultry and poultry meal, as well as salmon meal, and its grain content comes from oats and barley.  It also includes a good mix of dried vegetables and fruits.  The dried fruits are easily visible.  They are decent size pieces, not microscopic.<br /><br />At first glance, you might think these ingredients aren't all that different than a less expensive brand like Iams.  However, aside from the aforementioned meat by-products, another key thing to look at is whether a food contains corn, especially in the first few ingredients.  Iams and many others will often include corn, which isn't worthwhile to your puppy.  Typically they lack dried vegetables/fruits, which Casto & Pollux contains - so while other brands might seem less expensive (and are per pound) in the long run you are paying for fillers.<br /><br />All in all, I think Natural Ultramix is a high grade dog food, but not at such a high cost as to prohibit using it on a regular basis.  It is smaller size kibble to make it easier for puppies to chew, and it does not have an offensive aroma (either in the bowl or in the air, if you know what I mean).<br /><br />PS - for anyone wondering why I chose this brand over the others, once I was satisfied I had found a few very good brands, it really just came down to the price and shopping availability among them, while still having the ingredients I desired (including vegetables & fruit).  I can tell you I found Dick Van Patten's \"Natural Balance\" to be a sleeper in the bunch.  I assumed that if the company tied a celebrity name to it, the product probably couldn't stand on its own, but based on ingredients, that looks like a good puppy food as well.\n",
      "\n"
     ]
    }
   ],
   "source": [
    "# Three Reviews of cluster 2\n",
    "count=1\n",
    "for i in range(3):\n",
    "    if i < len(cluster2):\n",
    "        print('Review-%d : \\n %s\\n'%(count,cluster2[i]))\n",
    "        count +=1"
   ]
  },
  {
   "cell_type": "code",
   "execution_count": 22,
   "metadata": {},
   "outputs": [
    {
     "name": "stdout",
     "output_type": "stream",
     "text": [
      "Review-1 : \n",
      " The dog food got good ratings at consumers, so I bought it and the dogs just love it.. It seems to be a very healtful and complete food.. I just add a little hot water and its gobbled up in no time\n",
      "\n",
      "Review-2 : \n",
      " In terms of convenience and taste, these are great. Overall, I have only one complaint. Given the design of the pouch it's pretty much impossible to get all the food out, which seems like a waste every time. It's not much, but more so than a regular glass container of baby food.<br /><br />Breakdown:<br /><br />PROS:<br />1. Baby loves it, and savors it.<br />2. Organic ingredients<br />3. Super easy to open (simple twist)<br />4. Tastes great (yeah, I try her food to make sure we're giving her food that has some flavor to it)<br />5. 4.5 ounces of food (larger than the normal/standard of 4 ounces.<br /><br />Neutral<br />1. In general I wish that baby food emphasized more the vegetables than the fruit. (these are plenty sweet, they could have easily used half as much pear and the rest could've been some healthy greens.<br />2. Feel very liquid, more so than most baby food that I've bought.<br /><br />CONS:<br />1. Due to puch design, baby food is wasted.\n",
      "\n",
      "Review-3 : \n",
      " When you love Indian food, but don't have the time to cook it, Kitchens of India is a really great alternative. I have yet to be disappointed in one of their dishes and this one is no exception. The great thing about Indian food is that they are mostly sauce (or \"gravy\" as they say), so I will cook up some meat or steam up some veggies and add one of these packets to make a fabulous meal. Their really aren't much in the way of veggies in these packets, but that is typical in Indian food, no matter where it comes from. American's tend to use gravy or sauce as the secondary component while Indian's use it as the primary component and sop it up with lots of bread or rice. By steaming or sauteing some additional vittles, you can really stretch one of these packets.\n",
      "\n"
     ]
    }
   ],
   "source": [
    "# Three Reviews of cluster 3\n",
    "count=1\n",
    "for i in range(3):\n",
    "    if i < len(cluster3):\n",
    "        print('Review-%d : \\n %s\\n'%(count,cluster3[i]))\n",
    "        count +=1"
   ]
  },
  {
   "cell_type": "code",
   "execution_count": 23,
   "metadata": {},
   "outputs": [
    {
     "name": "stdout",
     "output_type": "stream",
     "text": [
      "Review-1 : \n",
      " I like the mint, but the only reason I have bought these mint are because I like the tin. The tins are very nice. There are a lot of project I can build using these candy tins. The mint is not bad either, very freshing.<br /><br />They sell these mint for $2.50/tin here in San Francisco, so 12 tins will cost me $30, and I saved about 10 dollars to get it here.\n",
      "\n",
      "Review-2 : \n",
      " Great product. Great price. I use it as a substitute for white sugar in everything from my coffee to cooking and baking. I use Amazon's Subscribe and Save program for this product. Enjoy.\n",
      "\n",
      "Review-3 : \n",
      " Kitchens of India is the closest to a homemade curry we have ever had. We love it. The sauce is great and it is fast, so curry a few times a week is possible. We often make a curry from scratch but it is time consuming and now we can have a good curry whenever we want.  We have also tried the Rogan Josh as well as the Korma. Add some onions and raisins, or a bit of honey. The ingredients have little or no preservatives. The Best!!\n",
      "\n"
     ]
    }
   ],
   "source": [
    "# Three Reviews of cluster 4\n",
    "count=1\n",
    "for i in range(3):\n",
    "    if i < len(cluster4):\n",
    "        print('Review-%d : \\n %s\\n'%(count,cluster4[i]))\n",
    "        count +=1"
   ]
  },
  {
   "cell_type": "code",
   "execution_count": 24,
   "metadata": {},
   "outputs": [
    {
     "name": "stdout",
     "output_type": "stream",
     "text": [
      "Review-1 : \n",
      " This is a good deal.  Pack of 2, one for me and one to give as a gift.  Very easy to use.  I use it at night to make a cup of decaf.  Makes good coffee and you can make coffee your desired strength.  I use 1 scoop of coffee for every 5oz of water.\n",
      "\n",
      "Review-2 : \n",
      " I bought this coffee on a whim as it was a little cheaper than green mountain.  I really like the flavor, it is a great medium flavor coffee.  I will purchase again.\n",
      "\n",
      "Review-3 : \n",
      " Marley Coffee & Tea One Love Organic Coffee makes a tasty cup of coffee.  However, I have to say that nowhere on the box, or the individual packets, are instructions for actually making the coffee.  Also it doesn't tell you what type of coffee maker to use or even how much water to use for each packet.  I use K-cups and my daughter uses T-cups.  I had to make this product in my old automatic drip coffee maker, and I had to guess on how much water to use.  Once I was able to make a cup, it was very good.\n",
      "\n"
     ]
    }
   ],
   "source": [
    "# Three Reviews of cluster 5\n",
    "count=1\n",
    "for i in range(3):\n",
    "    if i < len(cluster5):\n",
    "        print('Review-%d : \\n %s\\n'%(count,cluster5[i]))\n",
    "        count +=1"
   ]
  },
  {
   "cell_type": "code",
   "execution_count": 25,
   "metadata": {},
   "outputs": [
    {
     "name": "stdout",
     "output_type": "stream",
     "text": [
      "Review-1 : \n",
      " QUALITY<br />In my opinion, having used a dozen or so brands of olive oil, Colavita is simply the best reasonably priced olive oil which is widely available.  I've been using Colavita for several years now, and have never been dissappointed.  Colavita is excellent quality, dependable, and reasonably priced---the perfect combination for a daily general purpose olive oil.<br /><br />FLAVOR<br />Although not an \"olive oil gourmand\", I'd describe Colavita as \"rich, smooth, and neutral\". Gourmands probably have other silly terms for the flavor, such as \"fruity\" (but a \"civilian\" would never call it fruity). It is not harsh or bitter like most common olive oil, not spicy like Whole Foods 360, and not notably \"olivey\".  Colavita is an evoo (\"extra virgin olive oil\"---to us non-olive oil snobs), which means \"first pressing\".  Most olive-oil nuts consider the words \"extra virgin\" to be sacred.  Practically speaking though, the mere label \"extra virgin\" is not a guarantee of quality---most grocery store brands (evoo or not) are harsh and bitter, but some are good cooking oils.<br /><br />PREMIUM OILS<br />Botique premium oils are are as variable year to year as wines, comparably expensive, and have to be bought the way you buy fine wine (that is, ideally at tastings, where you confirm the quality and flavor before purchase).  Some are genuinely (as in NOT-gourmet-speak) buttery and nutty---great for dipping.  Some taste like the fragrance of flowers---great for salads.  Never cook premium olive oil---use it for dipping or drizzling, or on delicate salads.  Colavita is a good general purpose oil, better than most grocery store olive oil, but is not a premium oil.<br /><br />COOKING OIL<br />Non-extra virgin olive oils (second or later pressings) are usually darker and stronger flavored---which adds complexity to soups, sauses, stews, bean dishes etc.  If you are using a  bitter or strong-tasting olive oil, cook it WITH the dish.  I add 1/4 to 1/2 cup of olive oil to every sause, soup, stew, chili, cassrole, or bean dish, etc.  However, olive oil can \"go bad\"---so unless you use alot, it doesn't sense to use a different cooking oil than you use on salads, for dipping etc.  One usually purchases good cooking oil in multi-gallon tins.  Colavita is a very good general purpose oil, and therefore a good cooking oil---albeit a bit expensive for a cooking oil.<br /><br />DIPPING OIL<br />Traditionally (and in the best restaurants), Italian bread, oil and balsamic vinegar is served as an appetizer.  The diner usually mixes his own oil and vinegar at the table.  If all three are top quality, the combination can be delicious, and can even be a light meal.  Add figs or slices of apple or pear and some olives, and you do have a meal. <a href=\"http://www.amazon.com/gp/product/B000FAKUP0\">Byzantine Fresh Olive Antipasto, 5-Pound Bag</a>  Albeit probably heresy, in fact you can substitute fine wine vinegar or fresh lemon juice.  If I don't have olives, I usually add soy sause or Braggs for saltiness to the mixture. <a href=\"http://www.amazon.com/gp/product/B001EQ4Y4W\">Bragg Liquid Aminos, Natural Soy Sauce Alternative, 32-Ounce Bottle , (Pack of 3)</a> Colavita is a very good \"everyday\" dipping oil.<br /><br />SALAD OIL<br />The requirements for an \"everyday\" salad oil are a little less stringent than that for a dipping oil, because the heavy flavor of the vinegar, and often pamessan, bacon bits, etc. usually dominate.  However, I rarely prepare use oil and vinegar the traditional way.  For everyday salads (or as a dip for raw vegies) I prefer olive-oil based mayo with a little freshly ground pepper, and some citrus zest.  For special salads, I use a fruity premium olive oil (and just a hint of lemon and/or orange juice and zest).  Colavita is a very good \"everyday\" salad oil.<br /><br />DRIZZING OIL<br />A drizzling oil is an oil you pour over a dish immediately before serving, or which you serve in a carafe on the table.  If you REALLY like the flavor of \"ordinary good\" olive oil (I don't)---then you will find Colavita to be a good drizzling oil.  My hispanic wife frequently drizzles Colavita on the dishes I've cooked (with Colavita), because she likes the olive-oil flavor.  By the way, the same principle applies to the use of butter, pepper, garlic, cheese, even soy sause---if you want the flavor to dominate, add it just before serving; if you want the flavor to be substle, cook the seasoning with the dish.  For most dishes I prefer a rich blend of subtle flavors.<br /><br />HEALTHY COOKING<br />I go to a great deal of effort to minimize animal fat in my diet, by very strict trimming, thorough cooking, and by chilling broth to remove the solidified fat.  However, the body needs fat and craves fat.  The ideal solution is to replace animal fat with vegetable oils which are high in omega-3s.  Olive oil is ideal for the purpose.<br /><br />My Southern grandmother could not cook any vegetables without a thick slice of fatback (fatty bacon)---and indeed her vegetables were very tasty.  Speaking of which, what is the point of healthy vegetables if no-one will eat them?  The solution is to add several tablespoon fulls of olive oil, and a teaspoon of chipped ham <a href=\"http://www.amazon.com/gp/product/B000NERTSE\">Hormel Premium Real Crumbled Bacon</a> to the vegies.  For the best flavor, cook the vegies with the olive oil (do NOT add oil to the cooked vegetables---unless you really like the flavor of the oil).  Season as necessary with pepper and fresh lemon juice.  Truly delicious vegetables are possible---I eat them daily.<br /><br />ECONOMY<br />The 34 ounce tins is about half the price of the bottle per oz at this time, but is expensive compared to the last time I purchased it.  The tins are small enough to use directly. But I prefer bottles, because controlling the flow of the oil is easier (since you can see the oil approaching the spout), and it is easier to gauge the amount of oil I'm using by eye (how far the level drops in the glass bottle). So, I refill bottles from the tins.  I've been told that olive oil stays fresher in tins (measured in months and years) That becomes relevant when you don't know how many months (or even years) a bottle may have sat on a grocery shelf.<br /><br />GENERAL RECCOMENDATION<br />After major grocery shopping expeditions, sit down at your computer with your reciept, and check if you can buy any of the non-perishables through Amazon. When you find items (even if more expensive than you just paid), put the item on your Amazon wish list, and add a note to the wish list of the price you just paid. Check your wish list frequently, and when you see an item you need at a bargain price, buy it.\n",
      "\n"
     ]
    }
   ],
   "source": [
    "# Three Reviews of cluster 6\n",
    "count=1\n",
    "for i in range(3):\n",
    "    if i < len(cluster6):\n",
    "        print('Review-%d : \\n %s\\n'%(count,cluster6[i]))\n",
    "        count +=1"
   ]
  },
  {
   "cell_type": "code",
   "execution_count": 26,
   "metadata": {},
   "outputs": [
    {
     "name": "stdout",
     "output_type": "stream",
     "text": [
      "Review-1 : \n",
      " Review:<br />I've eaten ramen for a long time (30+ years) and have eaten numerous varieties and the Shin ramen is probably my #1 tasting. The reasons are as follows:<br />* Best flavor broth - it's spicy (but adjustable), leaves a good aftertaste (yes, even when you burp), tint of mushroom flavor coupled with a good balance of red pepper, onions and spices.<br />* Noodles have good texture - depending how you cook them of course but with bad ones, no matter how you cook them they come out soggy/soft. These come out chewy if you want or softer if you overcook them.<br />* It's not oily - I've noticed with some noodles, you can see a ring of oil around the pot after you cook the noodles. So with these I sometimes had to boil an extra pot of water and then transfer the cooked noodles to the fresh pot of water to get rid of the oil. Not with Shin Ramen.<br />* Economical - for less than a dollar a pack, they beat any dollar menu item<br />* Great for any weather - particularly winter to keep you warm. In the summer, they help to break out a sweat and opens your pores<br />* Can be a hearty meal - you can add all types of things to this ramen as others have posted. An egg is recommended but so are vegetables and meat.<br /><br />Tips:<br /><br />Amount of water - add about 2 mug size cup fulls of water. If not sure, add a little less. You can always add more after it's fully cooked. Adding cold water at the end cools down the boiling hot soup so it's easier to eat.<br /><br />How to cook - wait til the water boils. As soon as it does, drop in everything: the soup base, noodles, dried vegie packet. If you want to add vegies, let it cook for about a minute before adding e.g. mushrooms, bean sprouts, tomatoes, green onions. Don't put more than a quarter couple of any vegies or meat cuz you'll kill the flavor. For eggs, if you like them well cooked, add them at the beginning. You can add at the end of cooking too but this is a bit too raw for my taste<br /><br />Cooking time - boil the noodles 2 - 4 minutes. This depends on how hard or soft you like your noodles. Just pull a strand out and taste it every 30 seconds after the first minute. There's no right or wrong here.<br /><br />Soup base - add all of it. Don't worry about it being too spicy. Per above you can always water it down later. The soup will be plenty hot. Remember it just finished boiling and it's difficult to put something in your mouth when it was just boiling.<br /><br />How to serve - there are 3 ways I'd recommend<br />1) The traditional Korean way - folks like to eat straight from the pot. There's actually an 'art' to this. After removing it from the stove, place the pot on something that wont burn. Grab the lid of the pot, a spoon (yes a spoon) and chop sticks (fork if you can't wield them).<br /><br />2) In a bowl. Don't use a plastic one unless it can stand the heat. I don't like to use plastic period for health reasons but up to you. Remove some of the excess soup from the pot first and then pour everything directly into the bowl. Grab a spoon and chopsticks/fork and place the bowl down and go to work.<br /><br />3) combination of 1 and 2 above. Place the pot of ramen and get a bowl along with a spoon and chopsticks/fork.<br /><br />How to eat:<br />First, forget what your parents have told you on slurping. To eat ramen, you must slurp. Why? Because 1) if you don't you'll burn your lips because no slurping means the noodles must pass through your lips slower and enclosed more around the noodles. 2) because your lips are more enclosed, most of the soup around the noodles are sucked away from noodles, leaving you with less flavorful noodles. So forget the decorum. Eat it asian style and slurp away.<br /><br />2nd, I'd recommend the Korean way (#1 above). You grab the pot lid then take about 2 mouthful amounts of noodle and dump it into the lid. You should be holding the lid with your left hand (switch if you're right handed) and quickly grab a large spoon and add several spoonfuls of soup broth into the lid. You're doing 3 things here 1) you're saturating the noodles with the flavorful broth. 2) by adding the noodles to the lid, you're cooling it down for consumption while keeping the rest of the noodles hot. 3) When you eat straight from the lid, you first eat the noodles and immediately follow up with a slurp from the lid itself to drink the soup base. To do this, you put the lid close to your mouth and then push the noodles in with your utensil, drink the soup right after or together as you push the noodles in. I know this sounds crude but the flavor is maximized this way. You can add any vegetables or meat to eat bite this way too.<br /><br />If you want to eat using method #2, well, it needs no explanation, just make sure you slurp and drink the broth as you eat the noodles.<br /><br />For method #3, you're basically substituting the bowl for the lid. Works as well but assuming your lid is metal, it keeps the noodles hotter. Also, people tend to put more noodles into a bowl then a lid and this ends up cooling the noodle down too much. It's also slower cuz you dont hold the bowl in your hand where as with the lid, since you're holding it, you grab noodles, place them briefly on the lid then straight to your mouth. It's cooler too ;>)<br /><br />Third, some people like to make this a heartier meal by adding rice. I usually don't add the rice to the pot until I'm half-way through because it's too hot and because the meal loses its flavor and it's too heavy. However, by adding rice directly to the pot full of ramen, you have more of a hearty meal.<br /><br />Now, enjoy!\n",
      "\n"
     ]
    }
   ],
   "source": [
    "# Three Reviews of cluster 7\n",
    "count=1\n",
    "for i in range(3):\n",
    "    if i < len(cluster7):\n",
    "        print('Review-%d : \\n %s\\n'%(count,cluster7[i]))\n",
    "        count +=1"
   ]
  },
  {
   "cell_type": "code",
   "execution_count": 27,
   "metadata": {},
   "outputs": [
    {
     "name": "stdout",
     "output_type": "stream",
     "text": [
      "Review-1 : \n",
      " This English Breakfast tea from Higgins & Burke, is good: it's basic, good tasting black tea (English Breakfast blend) and is tasty.  I wasn't blown away by the flavor, but it was good: I enjoyed the tea, it brewed up quickly in these nice tea bags (I recommend about one minute of brew time), and then added a splash of cream: it was quite nice!\n",
      "\n",
      "Review-2 : \n",
      " I purchased this tea because of all the good reviews.  I like it very much and will order again. Maybe Davidson's has change the ingredients because I found a lot of rosehips and had to really search for blueberries and found only 1. I also have the chamomile flowers and mixed that with the spring fruit and flowers in my tea pot, the combo made an excellent tea.  I do love rosehips and the flavor of the tea but was disappointed that I couldn't taste blueberry.  For this reason alone I gave this tea 4 stars.  I just got my second order of this tea and it was full of blueberries, no rosehips and has a blueberry taste to it.  I will keep ordering this tea and I'm giving it 5 stars now.\n",
      "\n",
      "Review-3 : \n",
      " I was looking all over for an organic Earl Grey tea for a reasonable price and found that it was either ridiculous expensive or not Earl Gray which I prefer. I tried 2 other brands but didn't like the taste. I'm very pleased with this one. Smooth and pleasant flavor and even better tasting than the one I used to buy here in San Francisco in a local store (I got tired of always feeling that I paid far too much for that tea). One review complained about bitterness and I'm sensitive to that so that was a worry... but that's not the case at all for me even when making it strong... this is an excellent quality and I have had different kind of teas every morning for more than 40 years both here in the US and in Europe. Highly recommended.\n",
      "\n"
     ]
    }
   ],
   "source": [
    "# Three Reviews of cluster 8\n",
    "count=1\n",
    "for i in range(3):\n",
    "    if i < len(cluster8):\n",
    "        print('Review-%d : \\n %s\\n'%(count,cluster8[i]))\n",
    "        count +=1"
   ]
  },
  {
   "cell_type": "code",
   "execution_count": 28,
   "metadata": {},
   "outputs": [
    {
     "name": "stdout",
     "output_type": "stream",
     "text": [
      "Review-1 : \n",
      " I have never had black tea this good before.  I love lychee fruit and wanted some black tea for the caffeine content.  Problem is I do not like the taste of black tea.  This tea is different it is not bitter.  It is smooth in taste.  I do not add sugar to my teas so they have to stand on their own.  This one does.  That is why I purchase teas with flavors in them.  This may seem expensive, but realize this is 100 bags of tea and comes in a huge box.  If you look a regular tea it is a much smaller box.  This looks over three times the size.  Great tea try it for your caffenated tea.  It is wonderful tea.  This beats out earl gray or english breakfast tea in taste.  This tea is a pleasure to drink.  I just wanted to get some caffeine in a tolerable way with no artificial sweeteners or regular sugars.  This is it.  In the highly sweetened american culture there is a way out drink this tea from china.  It is calorie free with no artifical sweeteners. I am not asian, but I love asian products.\n",
      "\n",
      "Review-2 : \n",
      " I have been drinking tea for over thirty years, and tea in America has improved! Vine offered me a chance to try another basic tea, and its a good entry level, AM drinking tea.<br />I found the vanilla just a little strong for my taste, so I mixed it with black tea and it makes a large pot, perfect with stevia and a touch of milk.<br />I do not think this would taste well without milk, but then I like the english school of tea, and do not understand why Americans try to drink black tea black, like its coffee?<br />Not impressed my the less caffeine argument on the side of the box, the only way to get no /less caffeine in teas is to drink steeped herbs, this has tea in it, so it has cafffeine, duh.<br />So enjoy, its good flavorful choice when tired of the basic teas.\n",
      "\n",
      "Review-3 : \n",
      " I have used Triple Leaf brand tea in the past and tried several variations.  Each time I end up using two bags, it may just be that I prefer a stronger tea, but even the bags seem a bit smaller than normal, maybe it's intentional and I am overdoing it.  This product in particular is a good mix, ginseng, ginko, decaf green tea.  I tried to find a product with this blend for awhile with no luck.  The tea tastes great with some honey, it has a bit of an earthy taste, as to be expected, but it is not overpowering and the honey easily smooths it out.  Ginseng and ginko have a long history and many reported benefits, I do know buy into all of it, but some of it must be true.  Clinical studies have shown ginko to help people who have occasional claudication, but had no effect on individuals with noraml operating memories.  Of course green tea is antioxidant rich, and the longest living people drink it daily.  These things seem to change everyday though, I remember when butter was bad for us...  Basicaly, a good product, priced right.  Get's one star off for the weakness of the brew, but as I said, maybe it should get full stars and it was intentional.\n",
      "\n"
     ]
    }
   ],
   "source": [
    "# Three Reviews of cluster 8\n",
    "count=1\n",
    "for i in range(3):\n",
    "    if i < len(cluster9):\n",
    "        print('Review-%d : \\n %s\\n'%(count,cluster9[i]))\n",
    "        count +=1"
   ]
  },
  {
   "cell_type": "code",
   "execution_count": null,
   "metadata": {},
   "outputs": [],
   "source": [
    "# Three Reviews of cluster 8\n",
    "count=1\n",
    "for i in range(3):\n",
    "    if i < len(cluster10):\n",
    "        print('Review-%d : \\n %s\\n'%(count,cluster10[i]))\n",
    "        count +=1"
   ]
  },
  {
   "cell_type": "markdown",
   "metadata": {},
   "source": [
    "# TFIDF"
   ]
  },
  {
   "cell_type": "code",
   "execution_count": 29,
   "metadata": {},
   "outputs": [
    {
     "name": "stdout",
     "output_type": "stream",
     "text": [
      "the type of count vectorizer : <class 'scipy.sparse.csr.csr_matrix'>\n",
      "the shape of out text TFIDF vectorizer :  (5000, 1931)\n",
      "the number of unique words : 1931\n"
     ]
    }
   ],
   "source": [
    "tf_idf_vect = TfidfVectorizer(min_df=10)\n",
    "data = tf_idf_vect.fit_transform(x)\n",
    "print(\"the type of count vectorizer :\",type(data))\n",
    "print(\"the shape of out text TFIDF vectorizer : \",data.get_shape())\n",
    "print(\"the number of unique words :\", data.get_shape()[1])"
   ]
  },
  {
   "cell_type": "markdown",
   "metadata": {},
   "source": [
    "# Hierarchical Clustering with 2 clusters"
   ]
  },
  {
   "cell_type": "code",
   "execution_count": 30,
   "metadata": {},
   "outputs": [
    {
     "name": "stdout",
     "output_type": "stream",
     "text": [
      "No. of reviews in Cluster-1 :  4743\n",
      "\n",
      "No. of reviews in Cluster-2 :  257\n"
     ]
    }
   ],
   "source": [
    "model = AgglomerativeClustering(n_clusters=2).fit(data.toarray())\n",
    "\n",
    "reviews = my_final['Text'].values\n",
    "# Getting all the reviews in different clusters\n",
    "cluster1 = []\n",
    "cluster2 = []\n",
    "\n",
    "for i in range(model.labels_.shape[0]):\n",
    "    if model.labels_[i] == 0:\n",
    "        cluster1.append(reviews[i])\n",
    "    else :\n",
    "        cluster2.append(reviews[i])\n",
    " \n",
    "        \n",
    "# Number of reviews in different clusters\n",
    "print(\"No. of reviews in Cluster-1 : \",len(cluster1))\n",
    "print(\"\\nNo. of reviews in Cluster-2 : \",len(cluster2))"
   ]
  },
  {
   "cell_type": "markdown",
   "metadata": {},
   "source": [
    "READING REVIEWS MANUALLY:"
   ]
  },
  {
   "cell_type": "code",
   "execution_count": 31,
   "metadata": {},
   "outputs": [
    {
     "name": "stdout",
     "output_type": "stream",
     "text": [
      "Review-1 : \n",
      " I like the mint, but the only reason I have bought these mint are because I like the tin. The tins are very nice. There are a lot of project I can build using these candy tins. The mint is not bad either, very freshing.<br /><br />They sell these mint for $2.50/tin here in San Francisco, so 12 tins will cost me $30, and I saved about 10 dollars to get it here.\n",
      "\n",
      "Review-2 : \n",
      " This is my second review request for this mustard.  Again, I will say that it is my favorite mustard and hard to find in select stores.  I was so happy to see that I could purchase it on Amazon.  This is sure a great place to shop from my mustard to my hard to find shampoos.  This mustard is wonderful on all kind of meats.  My husband is not a mustard lover like me, but he does like this brand and selection.\n",
      "\n",
      "Review-3 : \n",
      " Great product. Great price. I use it as a substitute for white sugar in everything from my coffee to cooking and baking. I use Amazon's Subscribe and Save program for this product. Enjoy.\n",
      "\n"
     ]
    }
   ],
   "source": [
    "# Three Reviews of cluster 1\n",
    "count=1\n",
    "for i in range(3):\n",
    "    print('Review-%d : \\n %s\\n'%(count,cluster1[i]))\n",
    "    count +=1"
   ]
  },
  {
   "cell_type": "code",
   "execution_count": 32,
   "metadata": {},
   "outputs": [
    {
     "name": "stdout",
     "output_type": "stream",
     "text": [
      "Review-1 : \n",
      " Do not know a lot about this type of tea, so couldn't compare it to other brands. I can say the product is rather strong tasting, but not unpleasantly so. Since a portion is pretty small, that is not much of a problem anyway. I purchased it after reading about its many health benefits. It does open my eyes in the morning, so the caffeine in it is really nice. As recommended by others, I keep it in the refrigerator inside the tin, in its original package, and it's kept fresh-tasting for a couple of weeks now. The color is very bright green, and it does taste healthy--hopefully, it is.\n",
      "\n",
      "Review-2 : \n",
      " I have to say that this tea is very helpful during those stressful times.  I don't pay attention to the taste, but next thing I know, I'm like, \"WOW - I'm so relaxed.\"  All that tension slowly melts away.  Great to have around during the time of the month.\n",
      "\n",
      "Review-3 : \n",
      " This English Breakfast tea from Higgins & Burke, is good: it's basic, good tasting black tea (English Breakfast blend) and is tasty.  I wasn't blown away by the flavor, but it was good: I enjoyed the tea, it brewed up quickly in these nice tea bags (I recommend about one minute of brew time), and then added a splash of cream: it was quite nice!\n",
      "\n"
     ]
    }
   ],
   "source": [
    "# Three Reviews of cluster 1\n",
    "count=1\n",
    "for i in range(3):\n",
    "    print('Review-%d : \\n %s\\n'%(count,cluster2[i]))\n",
    "    count +=1"
   ]
  },
  {
   "cell_type": "markdown",
   "metadata": {},
   "source": [
    "# Hierarchical Clustering with 5 clusters"
   ]
  },
  {
   "cell_type": "code",
   "execution_count": 33,
   "metadata": {},
   "outputs": [
    {
     "name": "stdout",
     "output_type": "stream",
     "text": [
      "No. of reviews in Cluster-1 :  4019\n",
      "\n",
      "No. of reviews in Cluster-2 :  262\n",
      "\n",
      "No. of reviews in Cluster-3 :  358\n",
      "\n",
      "No. of reviews in Cluster-4 :  257\n",
      "\n",
      "No. of reviews in Cluster-5 :  104\n"
     ]
    }
   ],
   "source": [
    "model = AgglomerativeClustering(n_clusters=5).fit(data.toarray())\n",
    "\n",
    "# Getting all the reviews in different clusters\n",
    "cluster1 = []\n",
    "cluster2 = []\n",
    "cluster3 = []\n",
    "cluster4 = []\n",
    "cluster5 = []\n",
    "\n",
    "for i in range(model.labels_.shape[0]):\n",
    "    if model.labels_[i] == 0:\n",
    "        cluster1.append(reviews[i])\n",
    "    elif model.labels_[i] == 1:\n",
    "        cluster2.append(reviews[i])\n",
    "    elif model.labels_[i] == 2:\n",
    "        cluster3.append(reviews[i])\n",
    "    elif model.labels_[i] == 3:\n",
    "        cluster4.append(reviews[i])\n",
    "    else :\n",
    "        cluster5.append(reviews[i]) \n",
    "        \n",
    "# Number of reviews in different clusters\n",
    "print(\"No. of reviews in Cluster-1 : \",len(cluster1))\n",
    "print(\"\\nNo. of reviews in Cluster-2 : \",len(cluster2))\n",
    "print(\"\\nNo. of reviews in Cluster-3 : \",len(cluster3))\n",
    "print(\"\\nNo. of reviews in Cluster-4 : \",len(cluster4))\n",
    "print(\"\\nNo. of reviews in Cluster-5 : \",len(cluster5))"
   ]
  },
  {
   "cell_type": "markdown",
   "metadata": {},
   "source": [
    "READING REVIEWS MANUALLY:"
   ]
  },
  {
   "cell_type": "code",
   "execution_count": 34,
   "metadata": {},
   "outputs": [
    {
     "name": "stdout",
     "output_type": "stream",
     "text": [
      "Review-1 : \n",
      " I like the mint, but the only reason I have bought these mint are because I like the tin. The tins are very nice. There are a lot of project I can build using these candy tins. The mint is not bad either, very freshing.<br /><br />They sell these mint for $2.50/tin here in San Francisco, so 12 tins will cost me $30, and I saved about 10 dollars to get it here.\n",
      "\n",
      "Review-2 : \n",
      " This is my second review request for this mustard.  Again, I will say that it is my favorite mustard and hard to find in select stores.  I was so happy to see that I could purchase it on Amazon.  This is sure a great place to shop from my mustard to my hard to find shampoos.  This mustard is wonderful on all kind of meats.  My husband is not a mustard lover like me, but he does like this brand and selection.\n",
      "\n",
      "Review-3 : \n",
      " Great product. Great price. I use it as a substitute for white sugar in everything from my coffee to cooking and baking. I use Amazon's Subscribe and Save program for this product. Enjoy.\n",
      "\n"
     ]
    }
   ],
   "source": [
    "# Three Reviews of cluster 1\n",
    "count=1\n",
    "for i in range(3):\n",
    "    if i < len(cluster1):\n",
    "        print('Review-%d : \\n %s\\n'%(count,cluster1[i]))\n",
    "        count +=1"
   ]
  },
  {
   "cell_type": "code",
   "execution_count": 35,
   "metadata": {},
   "outputs": [
    {
     "name": "stdout",
     "output_type": "stream",
     "text": [
      "Review-1 : \n",
      " I have a serious addiction to this gum but cannot find it anywhere except online. I go through at least a pack a day. I used to chew Peppermint or Spearmint or Winterfrost but I can't chew anything but Exotic Mint any more. The flavor is just right and it lasts forever.<br /><br />Seriously, if you see this gum in a store, buy all of it. It's like little candy gold bullion. I have opted to pay twice as much online for this gum versus gum I can buy on the store shelves just so I can get this particular flavor. Who would do that if the gum weren't the best gum ever? Nobody. That's who.<br /><br />I also wrote Wrigley to see if they'll send me a year-supply for free. Cross your fingers and wish me luck.\n",
      "\n",
      "Review-2 : \n",
      " We've had this for about a week now. I have a 1 year old Beagle that destroys ever furry \"super strong\" soft toy, but he isn't interested in a lot of hard toys like tires, etc. We got this hoping that his food motivation would keep him occupied with a toy he can't tear apart.<br /><br />The Good:<br />  * It is VERY durable. He hasn't even managed to put a dent it.<br />  * We stuck a treat inside it, which is impossible for him to remove. He will happily spend several hours occupied trying to get it out. Yaaay!<br /><br />The Ugly:<br />  * It took him about 20 mins to pop the regular \"everlasting\" treat out. Without the ball to protect it, it's a 10 minute treat. :-( He can do this every time now.\n",
      "\n",
      "Review-3 : \n",
      " The dog food got good ratings at consumers, so I bought it and the dogs just love it.. It seems to be a very healtful and complete food.. I just add a little hot water and its gobbled up in no time\n",
      "\n"
     ]
    }
   ],
   "source": [
    "# Three Reviews of cluster 2\n",
    "count=1\n",
    "for i in range(3):\n",
    "    if i < len(cluster2):\n",
    "        print('Review-%d : \\n %s\\n'%(count,cluster2[i]))\n",
    "        count +=1"
   ]
  },
  {
   "cell_type": "code",
   "execution_count": 36,
   "metadata": {},
   "outputs": [
    {
     "name": "stdout",
     "output_type": "stream",
     "text": [
      "Review-1 : \n",
      " This is a good deal.  Pack of 2, one for me and one to give as a gift.  Very easy to use.  I use it at night to make a cup of decaf.  Makes good coffee and you can make coffee your desired strength.  I use 1 scoop of coffee for every 5oz of water.\n",
      "\n",
      "Review-2 : \n",
      " Pilao is my favorite coffe. I have tried several brands from around the globe but so far this is the best tasting. Not bitter, nice and smooth.\n",
      "\n",
      "Review-3 : \n",
      " I bought this coffee on a whim as it was a little cheaper than green mountain.  I really like the flavor, it is a great medium flavor coffee.  I will purchase again.\n",
      "\n"
     ]
    }
   ],
   "source": [
    "# Three Reviews of cluster 3\n",
    "count=1\n",
    "for i in range(3):\n",
    "    if i < len(cluster3):\n",
    "        print('Review-%d : \\n %s\\n'%(count,cluster3[i]))\n",
    "        count +=1"
   ]
  },
  {
   "cell_type": "code",
   "execution_count": 37,
   "metadata": {},
   "outputs": [
    {
     "name": "stdout",
     "output_type": "stream",
     "text": [
      "Review-1 : \n",
      " Do not know a lot about this type of tea, so couldn't compare it to other brands. I can say the product is rather strong tasting, but not unpleasantly so. Since a portion is pretty small, that is not much of a problem anyway. I purchased it after reading about its many health benefits. It does open my eyes in the morning, so the caffeine in it is really nice. As recommended by others, I keep it in the refrigerator inside the tin, in its original package, and it's kept fresh-tasting for a couple of weeks now. The color is very bright green, and it does taste healthy--hopefully, it is.\n",
      "\n",
      "Review-2 : \n",
      " I have to say that this tea is very helpful during those stressful times.  I don't pay attention to the taste, but next thing I know, I'm like, \"WOW - I'm so relaxed.\"  All that tension slowly melts away.  Great to have around during the time of the month.\n",
      "\n",
      "Review-3 : \n",
      " This English Breakfast tea from Higgins & Burke, is good: it's basic, good tasting black tea (English Breakfast blend) and is tasty.  I wasn't blown away by the flavor, but it was good: I enjoyed the tea, it brewed up quickly in these nice tea bags (I recommend about one minute of brew time), and then added a splash of cream: it was quite nice!\n",
      "\n"
     ]
    }
   ],
   "source": [
    "# Three Reviews of cluster 4\n",
    "count=1\n",
    "for i in range(3):\n",
    "    if i < len(cluster4):\n",
    "        print('Review-%d : \\n %s\\n'%(count,cluster4[i]))\n",
    "        count +=1"
   ]
  },
  {
   "cell_type": "code",
   "execution_count": 38,
   "metadata": {},
   "outputs": [
    {
     "name": "stdout",
     "output_type": "stream",
     "text": [
      "Review-1 : \n",
      " We really like Feline Pine Cat Litter, it is a very low maintenance type of product and friendly to the environment.\n",
      "\n",
      "Review-2 : \n",
      " This is great if you work long shifts and have a small dog.  I have a 7 lb bolognese dog and the breeder litter box trains the dogs from the puppy stage on.  We got her home and she just jumped in the litter box and went.  She has used it now for a year with very little accidents.  It's great and I only replace the litter every 7 - 10 days!\n",
      "\n",
      "Review-3 : \n",
      " One of my two cats LOVES this and gobbles it down.  The other only likes fancy feast unfortunately.  I love the ingredients and the smell.  It looks just like a can of chicken that any human could eat!  The label says it all--feeding your cat weruva can increase your cat's lives from nine to ten.  Thank you weruva and amazon for providing this fabulous cat food at affordable prices.  Puuurrs!\n",
      "\n"
     ]
    }
   ],
   "source": [
    "# Three Reviews of cluster 5\n",
    "count=1\n",
    "for i in range(3):\n",
    "    if i < len(cluster5):\n",
    "        print('Review-%d : \\n %s\\n'%(count,cluster5[i]))\n",
    "        count +=1"
   ]
  },
  {
   "cell_type": "markdown",
   "metadata": {},
   "source": [
    "# Hierarchical Clustering with 10 clusters"
   ]
  },
  {
   "cell_type": "code",
   "execution_count": 39,
   "metadata": {},
   "outputs": [],
   "source": [
    "model = AgglomerativeClustering(n_clusters=10).fit(data.toarray())\n",
    "# Getting all the reviews in different clusters\n",
    "cluster1 = []\n",
    "cluster2 = []\n",
    "cluster3 = []\n",
    "cluster4 = []\n",
    "cluster5 = []\n",
    "cluster6 = []\n",
    "cluster7 = []\n",
    "cluster8 = []\n",
    "cluster9 = []\n",
    "cluster10 = []\n",
    "\n",
    "for i in range(model.labels_.shape[0]):\n",
    "    if model.labels_[i] == 0:\n",
    "        cluster1.append(reviews[i])\n",
    "    elif model.labels_[i] == 1:\n",
    "        cluster2.append(reviews[i])\n",
    "    elif model.labels_[i] == 2:\n",
    "        cluster3.append(reviews[i])\n",
    "    elif model.labels_[i] == 3:\n",
    "        cluster4.append(reviews[i])\n",
    "    elif model.labels_[i] == 4:\n",
    "        cluster5.append(reviews[i])\n",
    "    elif model.labels_[i] == 5:\n",
    "        cluster6.append(reviews[i])\n",
    "    elif model.labels_[i] == 6:\n",
    "        cluster7.append(reviews[i])\n",
    "    elif model.labels_[i] == 7:\n",
    "        cluster8.append(reviews[i])\n",
    "    elif model.labels_[i] == 8:\n",
    "        cluster9.append(reviews[i])       \n",
    "    else :\n",
    "        cluster10.append(reviews[i])"
   ]
  },
  {
   "cell_type": "code",
   "execution_count": 40,
   "metadata": {},
   "outputs": [
    {
     "name": "stdout",
     "output_type": "stream",
     "text": [
      "No. of reviews in Cluster-1 :  3089\n",
      "\n",
      "No. of reviews in Cluster-2 :  262\n",
      "\n",
      "No. of reviews in Cluster-3 :  596\n",
      "\n",
      "No. of reviews in Cluster-4 :  146\n",
      "\n",
      "No. of reviews in Cluster-5 :  104\n",
      "\n",
      "No. of reviews in Cluster-6 :  65\n",
      "\n",
      "No. of reviews in Cluster-7 :  358\n",
      "\n",
      "No. of reviews in Cluster-8 :  257\n",
      "\n",
      "No. of reviews in Cluster-9 :  81\n",
      "\n",
      "No. of reviews in Cluster-10 :  42\n"
     ]
    }
   ],
   "source": [
    "\n",
    "\n",
    "# Number of reviews in different clusters\n",
    "print(\"No. of reviews in Cluster-1 : \",len(cluster1))\n",
    "print(\"\\nNo. of reviews in Cluster-2 : \",len(cluster2))\n",
    "print(\"\\nNo. of reviews in Cluster-3 : \",len(cluster3))\n",
    "print(\"\\nNo. of reviews in Cluster-4 : \",len(cluster4))\n",
    "print(\"\\nNo. of reviews in Cluster-5 : \",len(cluster5)) \n",
    "print(\"\\nNo. of reviews in Cluster-6 : \",len(cluster6))\n",
    "print(\"\\nNo. of reviews in Cluster-7 : \",len(cluster7))\n",
    "print(\"\\nNo. of reviews in Cluster-8 : \",len(cluster8))\n",
    "print(\"\\nNo. of reviews in Cluster-9 : \",len(cluster9))\n",
    "print(\"\\nNo. of reviews in Cluster-10 : \",len(cluster10))\n",
    "\n"
   ]
  },
  {
   "cell_type": "markdown",
   "metadata": {},
   "source": [
    "READING REVIEWS MANUALLY"
   ]
  },
  {
   "cell_type": "code",
   "execution_count": 41,
   "metadata": {},
   "outputs": [
    {
     "name": "stdout",
     "output_type": "stream",
     "text": [
      "Review-1 : \n",
      " This is my second review request for this mustard.  Again, I will say that it is my favorite mustard and hard to find in select stores.  I was so happy to see that I could purchase it on Amazon.  This is sure a great place to shop from my mustard to my hard to find shampoos.  This mustard is wonderful on all kind of meats.  My husband is not a mustard lover like me, but he does like this brand and selection.\n",
      "\n",
      "Review-2 : \n",
      " Kitchens of India is the closest to a homemade curry we have ever had. We love it. The sauce is great and it is fast, so curry a few times a week is possible. We often make a curry from scratch but it is time consuming and now we can have a good curry whenever we want.  We have also tried the Rogan Josh as well as the Korma. Add some onions and raisins, or a bit of honey. The ingredients have little or no preservatives. The Best!!\n",
      "\n",
      "Review-3 : \n",
      " This product is light, not too sweet and very satisfying.  Just what it says it is and shows on the box.  There is no sacrifice of delectable quality in the pursuit of a gluten free product at all.  Needs no frosting at all! Guests told me how wonderful the cake was even when they didn't know it was good for everybody, including us gluten free folk.\n",
      "\n"
     ]
    }
   ],
   "source": [
    "# Three Reviews of cluster 1\n",
    "count=1\n",
    "for i in range(3):\n",
    "    if i < len(cluster1):\n",
    "        print('Review-%d : \\n %s\\n'%(count,cluster1[i]))\n",
    "        count +=1"
   ]
  },
  {
   "cell_type": "code",
   "execution_count": 42,
   "metadata": {},
   "outputs": [
    {
     "name": "stdout",
     "output_type": "stream",
     "text": [
      "Review-1 : \n",
      " I have a serious addiction to this gum but cannot find it anywhere except online. I go through at least a pack a day. I used to chew Peppermint or Spearmint or Winterfrost but I can't chew anything but Exotic Mint any more. The flavor is just right and it lasts forever.<br /><br />Seriously, if you see this gum in a store, buy all of it. It's like little candy gold bullion. I have opted to pay twice as much online for this gum versus gum I can buy on the store shelves just so I can get this particular flavor. Who would do that if the gum weren't the best gum ever? Nobody. That's who.<br /><br />I also wrote Wrigley to see if they'll send me a year-supply for free. Cross your fingers and wish me luck.\n",
      "\n",
      "Review-2 : \n",
      " We've had this for about a week now. I have a 1 year old Beagle that destroys ever furry \"super strong\" soft toy, but he isn't interested in a lot of hard toys like tires, etc. We got this hoping that his food motivation would keep him occupied with a toy he can't tear apart.<br /><br />The Good:<br />  * It is VERY durable. He hasn't even managed to put a dent it.<br />  * We stuck a treat inside it, which is impossible for him to remove. He will happily spend several hours occupied trying to get it out. Yaaay!<br /><br />The Ugly:<br />  * It took him about 20 mins to pop the regular \"everlasting\" treat out. Without the ball to protect it, it's a 10 minute treat. :-( He can do this every time now.\n",
      "\n",
      "Review-3 : \n",
      " The dog food got good ratings at consumers, so I bought it and the dogs just love it.. It seems to be a very healtful and complete food.. I just add a little hot water and its gobbled up in no time\n",
      "\n"
     ]
    }
   ],
   "source": [
    "# Three Reviews of cluster 2\n",
    "count=1\n",
    "for i in range(3):\n",
    "    if i < len(cluster2):\n",
    "        print('Review-%d : \\n %s\\n'%(count,cluster2[i]))\n",
    "        count +=1"
   ]
  },
  {
   "cell_type": "code",
   "execution_count": 43,
   "metadata": {},
   "outputs": [
    {
     "name": "stdout",
     "output_type": "stream",
     "text": [
      "Review-1 : \n",
      " I like the mint, but the only reason I have bought these mint are because I like the tin. The tins are very nice. There are a lot of project I can build using these candy tins. The mint is not bad either, very freshing.<br /><br />They sell these mint for $2.50/tin here in San Francisco, so 12 tins will cost me $30, and I saved about 10 dollars to get it here.\n",
      "\n",
      "Review-2 : \n",
      " Great product. Great price. I use it as a substitute for white sugar in everything from my coffee to cooking and baking. I use Amazon's Subscribe and Save program for this product. Enjoy.\n",
      "\n",
      "Review-3 : \n",
      " For all you celiacs out there, this is the best cereal ever.  You can eat with milk in the am or dry in the afternoon as a snack.  Great price point when you order without shipping charge.\n",
      "\n"
     ]
    }
   ],
   "source": [
    "# Three Reviews of cluster 3\n",
    "count=1\n",
    "for i in range(3):\n",
    "    if i < len(cluster3):\n",
    "        print('Review-%d : \\n %s\\n'%(count,cluster3[i]))\n",
    "        count +=1"
   ]
  },
  {
   "cell_type": "code",
   "execution_count": 44,
   "metadata": {},
   "outputs": [
    {
     "name": "stdout",
     "output_type": "stream",
     "text": [
      "Review-1 : \n",
      " I started eating almonds regularly after going on the South Beach Diet. I find them quite delicious . . . so delicious that I have to remind myself that I'm only supposed to eat 15 or so a day.  Oh, well.<br /><br />I could easily eat a handful . . . and still wouldn't feel like I had gotten enough flavor.<br /><br />I had no idea what a cocoa roast almond would taste like, but I was pleasantly surprised that the taste was superb. It reminded me a little of eating a high quality fudge with lots of nuts in it.<br /><br />But the nice surprise was that the cocoa taste lingered in my mouth so that I continued to enjoy the flavor long after the almonds were eaten. Even though the cocoa roasting adds some calories and some fat, I would be satisfied after eating far fewer of these almonds. I plan to buy and eat these on a regular basis.<br /><br />Try them. I think you'll like them!\n",
      "\n",
      "Review-2 : \n",
      " I absolutely love Justin's Nut Butter Maple Almond!  It is so good I eat it out of the jar (like an earlier reviewer stated).  But don't take my word for it...it's Justin's favorite too!!!  As an FYI, it is not as smooth as peanut butter.  There is an almost grainy consistency.  This does not deter from it's flavor and it is still easy to spread.\n",
      "\n",
      "Review-3 : \n",
      " Purchased one out one day and really enjoyed it.  Found them on Amazon and ordered this flavor, which is my favorite and Coconut.  These bars taste great & are not like other protein or natural bars I have tried in the past.  I would recommend these bars for a quick snack, after work out or even breakfast.\n",
      "\n"
     ]
    }
   ],
   "source": [
    "# Three Reviews of cluster 4\n",
    "count=1\n",
    "for i in range(3):\n",
    "    if i < len(cluster4):\n",
    "        print('Review-%d : \\n %s\\n'%(count,cluster4[i]))\n",
    "        count +=1"
   ]
  },
  {
   "cell_type": "code",
   "execution_count": 45,
   "metadata": {},
   "outputs": [
    {
     "name": "stdout",
     "output_type": "stream",
     "text": [
      "Review-1 : \n",
      " We really like Feline Pine Cat Litter, it is a very low maintenance type of product and friendly to the environment.\n",
      "\n",
      "Review-2 : \n",
      " This is great if you work long shifts and have a small dog.  I have a 7 lb bolognese dog and the breeder litter box trains the dogs from the puppy stage on.  We got her home and she just jumped in the litter box and went.  She has used it now for a year with very little accidents.  It's great and I only replace the litter every 7 - 10 days!\n",
      "\n",
      "Review-3 : \n",
      " One of my two cats LOVES this and gobbles it down.  The other only likes fancy feast unfortunately.  I love the ingredients and the smell.  It looks just like a can of chicken that any human could eat!  The label says it all--feeding your cat weruva can increase your cat's lives from nine to ten.  Thank you weruva and amazon for providing this fabulous cat food at affordable prices.  Puuurrs!\n",
      "\n"
     ]
    }
   ],
   "source": [
    "# Three Reviews of cluster 5\n",
    "count=1\n",
    "for i in range(3):\n",
    "    if i < len(cluster5):\n",
    "        print('Review-%d : \\n %s\\n'%(count,cluster5[i]))\n",
    "        count +=1"
   ]
  },
  {
   "cell_type": "code",
   "execution_count": 46,
   "metadata": {},
   "outputs": [
    {
     "name": "stdout",
     "output_type": "stream",
     "text": [
      "Review-1 : \n",
      " For someone who is vegan and gluten-free, finding snacks out and about can be a challenge. Lucy's cookies are the perfect answer! Not many places carry them, but, luckily, they can be ordered by the case from Amazon for lunchbox and purse stocking!<br /><br />All the flavors are good. Sometimes cookies are broken, but that is to be expected when something like this is shipped, and that just makes the package last longer!\n",
      "\n",
      "Review-2 : \n",
      " The Back to Nature Fudge Mint cookies and these Fudge Striped cookies are my favorites.<br /><br />The Fudge Striped cookies have a light crunch and a great chocolaty taste.  For some reason when I eat them upside-down they taste even better.  These are a bit healthier than Keebler's which have trans fat in their fudge striped cookies.\n",
      "\n",
      "Review-3 : \n",
      " I really enjoyed these cookies. They were soft and yummy. Almost like hommade. I would repurchase them again. Quaker is a brand I love and trust for quality.\n",
      "\n"
     ]
    }
   ],
   "source": [
    "# Three Reviews of cluster \n",
    "count=1\n",
    "for i in range(3):\n",
    "    if i < len(cluster6):\n",
    "        print('Review-%d : \\n %s\\n'%(count,cluster6[i]))\n",
    "        count +=1"
   ]
  },
  {
   "cell_type": "code",
   "execution_count": 47,
   "metadata": {},
   "outputs": [
    {
     "name": "stdout",
     "output_type": "stream",
     "text": [
      "Review-1 : \n",
      " This is a good deal.  Pack of 2, one for me and one to give as a gift.  Very easy to use.  I use it at night to make a cup of decaf.  Makes good coffee and you can make coffee your desired strength.  I use 1 scoop of coffee for every 5oz of water.\n",
      "\n",
      "Review-2 : \n",
      " Pilao is my favorite coffe. I have tried several brands from around the globe but so far this is the best tasting. Not bitter, nice and smooth.\n",
      "\n",
      "Review-3 : \n",
      " I bought this coffee on a whim as it was a little cheaper than green mountain.  I really like the flavor, it is a great medium flavor coffee.  I will purchase again.\n",
      "\n"
     ]
    }
   ],
   "source": [
    "# Three Reviews of cluster 7\n",
    "count=1\n",
    "for i in range(3):\n",
    "    if i < len(cluster7):\n",
    "        print('Review-%d : \\n %s\\n'%(count,cluster7[i]))\n",
    "        count +=1"
   ]
  },
  {
   "cell_type": "code",
   "execution_count": 48,
   "metadata": {},
   "outputs": [
    {
     "name": "stdout",
     "output_type": "stream",
     "text": [
      "Review-1 : \n",
      " Do not know a lot about this type of tea, so couldn't compare it to other brands. I can say the product is rather strong tasting, but not unpleasantly so. Since a portion is pretty small, that is not much of a problem anyway. I purchased it after reading about its many health benefits. It does open my eyes in the morning, so the caffeine in it is really nice. As recommended by others, I keep it in the refrigerator inside the tin, in its original package, and it's kept fresh-tasting for a couple of weeks now. The color is very bright green, and it does taste healthy--hopefully, it is.\n",
      "\n",
      "Review-2 : \n",
      " I have to say that this tea is very helpful during those stressful times.  I don't pay attention to the taste, but next thing I know, I'm like, \"WOW - I'm so relaxed.\"  All that tension slowly melts away.  Great to have around during the time of the month.\n",
      "\n",
      "Review-3 : \n",
      " This English Breakfast tea from Higgins & Burke, is good: it's basic, good tasting black tea (English Breakfast blend) and is tasty.  I wasn't blown away by the flavor, but it was good: I enjoyed the tea, it brewed up quickly in these nice tea bags (I recommend about one minute of brew time), and then added a splash of cream: it was quite nice!\n",
      "\n"
     ]
    }
   ],
   "source": [
    "# Three Reviews of cluster 8\n",
    "count=1\n",
    "for i in range(3):\n",
    "    if i < len(cluster8):\n",
    "        print('Review-%d : \\n %s\\n'%(count,cluster8[i]))\n",
    "        count +=1"
   ]
  },
  {
   "cell_type": "code",
   "execution_count": 49,
   "metadata": {},
   "outputs": [
    {
     "name": "stdout",
     "output_type": "stream",
     "text": [
      "Review-1 : \n",
      " I am helping a 71 yr.old sufferer from Parkinson's to completely recover from the syndrome, partly by replacing animal-product fish oil with pure virgin coconut oil, and with very satisfying results!\n",
      "\n",
      "Review-2 : \n",
      " After doing research for some time on  coconut oils, I settled on Tropical Traditions. I've been using it for years and usually put some in my oatmeal. I've also used it on my skin after extended sun exposure. I've been very happy with the product. In my research I found that Coconut Oil has very strong anti-viral properties. A friend of mine's daughter came down with a bad case of Mono. She was told she would be out of Softball for several months. I gave him a jar and instructed him to start her out with one spoonful in the a.m. and then work up to 3 a day. Within several days she was showing signs of being better and within two weeks was back in the Texas Summer heat playing softball and never had any issues. Was it the Coconut Oil? I think yes but regardless, sometimes, you have nothing to lose and everything to gain by trying what Native Islanders have known for many centuries.  I can't speak to the flavor of other VGOs but I've have good results with this one so I'm sticking with it.\n",
      "\n",
      "Review-3 : \n",
      " I gave my wife the new \"CLEAR Scalp and Hair Therapy shampoo and conditioner for damage and color repair\" for her birthday. She is picky about her hair products and has trained me to purchase only those for color treated hair, though she rarely admits to having color added. I've learned my lesson, about her pickiness, when buying shampoo and conditioner, but I dared to try something new.<br /><br />Whew! Did I ever score with CLEAR! She told me \"the bottle shapes are so cute, and the open/close mechanism was very secure,\" something she doesn't always find on her regular brands. She also said she doesn't need to use as big a portion to clean as she has before, making it very economical. She said the suds felt thick, smooth, and it had a nice mild scent.<br /><br />After just a couple days of use, and especially after a full week of daily use, she thought her hair was indeed shinier thatn before, had much better texture, and seemed smooth, manageable, and extremely soft. Usually in the humidity of warm weather she has the \"frizzies.\" When the CLEAR runs out, she asked me to get her more. Boy, do I now have little gifts for future occasions--the jackpot of suprise gift-giving!\n",
      "\n"
     ]
    }
   ],
   "source": [
    "# Three Reviews of cluster 9\n",
    "count=1\n",
    "for i in range(3):\n",
    "    if i < len(cluster9):\n",
    "        print('Review-%d : \\n %s\\n'%(count,cluster9[i]))\n",
    "        count +=1"
   ]
  },
  {
   "cell_type": "code",
   "execution_count": 50,
   "metadata": {},
   "outputs": [
    {
     "name": "stdout",
     "output_type": "stream",
     "text": [
      "Review-1 : \n",
      " Bought the popper about two years ago and have been enjoying the delicious fresh buttery salty (as I want) best popcorn ever.  love it and it's a staple snack in our house. Would never micorwave corn again.\n",
      "\n",
      "Review-2 : \n",
      " I have eaten all kinds of popcorn for many years.  Many years ago, we made popcorn the old fashioned way; in a pot on the stove.  I remember it being crisp and crunchy.  Then, along came microwave popcorn.  I tried many different brands and none of them had the same crisp, and sometimes they were just plain mushy. I thought this was just a common attribute among microwavable popcorn products until several years ago when I tried making it the old fashioned way with the same results.<br /><br />What I have come to realize is, it's not how you prepare the popcorn, it's whether or not it's \"organic.\"  The first time I tried \"Newman's Own,\" it had that crisp and crunchy texture that I remembered from so many years ago.  Perfect!\n",
      "\n",
      "Review-3 : \n",
      " Pricey and hard to get Kettle Corn popcorn seasoning from Kernel Seasons. Snap it up if its here because it may not be tomorrow. Not sure why its 50 cents a bottle higher than all the other flavors.\n",
      "\n"
     ]
    }
   ],
   "source": [
    "# Three Reviews of cluster 10\n",
    "count=1\n",
    "for i in range(3):\n",
    "    if i < len(cluster10):\n",
    "        print('Review-%d : \\n %s\\n'%(count,cluster10[i]))\n",
    "        count +=1"
   ]
  },
  {
   "cell_type": "markdown",
   "metadata": {},
   "source": [
    "# Word2Vec"
   ]
  },
  {
   "cell_type": "code",
   "execution_count": 51,
   "metadata": {},
   "outputs": [
    {
     "name": "stdout",
     "output_type": "stream",
     "text": [
      "number of words that occured minimum 5 times  3177\n"
     ]
    }
   ],
   "source": [
    "sent_x = []\n",
    "for sent in x :\n",
    "    sent_x.append(sent.split())\n",
    "  \n",
    "    \n",
    "# Train your own Word2Vec model using your own train text corpus \n",
    "# min_count = 5 considers only words that occured atleast 5 times\n",
    "w2v_model=Word2Vec(sent_x,min_count=5,size=50, workers=4)\n",
    "\n",
    "w2v_words = list(w2v_model.wv.vocab)\n",
    "print(\"number of words that occured minimum 5 times \",len(w2v_words))"
   ]
  },
  {
   "cell_type": "code",
   "execution_count": 52,
   "metadata": {},
   "outputs": [],
   "source": [
    "train_vectors = []; \n",
    "for sent in sent_x:\n",
    "    sent_vec = np.zeros(50) \n",
    "    cnt_words =0; \n",
    "    for word in sent: # \n",
    "        if word in w2v_words:\n",
    "            vec = w2v_model.wv[word]\n",
    "            sent_vec += vec\n",
    "            cnt_words += 1\n",
    "    if cnt_words != 0:\n",
    "        sent_vec /= cnt_words\n",
    "    train_vectors.append(sent_vec)\n",
    "    \n",
    "data = train_vectors"
   ]
  },
  {
   "cell_type": "markdown",
   "metadata": {},
   "source": [
    "# Hierarchical Clustering with 2 clusters"
   ]
  },
  {
   "cell_type": "code",
   "execution_count": 53,
   "metadata": {},
   "outputs": [
    {
     "name": "stdout",
     "output_type": "stream",
     "text": [
      "No. of reviews in Cluster-1 :  2814\n",
      "\n",
      "No. of reviews in Cluster-2 :  2186\n"
     ]
    }
   ],
   "source": [
    "model = AgglomerativeClustering(n_clusters=2).fit(data)\n",
    "\n",
    "reviews = my_final['Text'].values\n",
    "# Getting all the reviews in different clusters\n",
    "cluster1 = []\n",
    "cluster2 = []\n",
    "\n",
    "for i in range(model.labels_.shape[0]):\n",
    "    if model.labels_[i] == 0:\n",
    "        cluster1.append(reviews[i])\n",
    "    else :\n",
    "        cluster2.append(reviews[i])\n",
    " \n",
    "        \n",
    "# Number of reviews in different clusters\n",
    "print(\"No. of reviews in Cluster-1 : \",len(cluster1))\n",
    "print(\"\\nNo. of reviews in Cluster-2 : \",len(cluster2))"
   ]
  },
  {
   "cell_type": "code",
   "execution_count": 54,
   "metadata": {},
   "outputs": [
    {
     "name": "stdout",
     "output_type": "stream",
     "text": [
      "Review-1 : \n",
      " Great product. Great price. I use it as a substitute for white sugar in everything from my coffee to cooking and baking. I use Amazon's Subscribe and Save program for this product. Enjoy.\n",
      "\n",
      "Review-2 : \n",
      " Kitchens of India is the closest to a homemade curry we have ever had. We love it. The sauce is great and it is fast, so curry a few times a week is possible. We often make a curry from scratch but it is time consuming and now we can have a good curry whenever we want.  We have also tried the Rogan Josh as well as the Korma. Add some onions and raisins, or a bit of honey. The ingredients have little or no preservatives. The Best!!\n",
      "\n",
      "Review-3 : \n",
      " Teff in general is a delicious healthy grain, and this Teff is no different.<br />Cook according to pkg. directions and add to morning oatmeal for a hearty healthy breakfast.<br />If I had one wish it would be for it to be \"Organic Brown Teff.\"\n",
      "\n"
     ]
    }
   ],
   "source": [
    "# Three Reviews of cluster 1\n",
    "count=1\n",
    "for i in range(3):\n",
    "    print('Review-%d : \\n %s\\n'%(count,cluster1[i]))\n",
    "    count +=1"
   ]
  },
  {
   "cell_type": "code",
   "execution_count": 55,
   "metadata": {},
   "outputs": [
    {
     "name": "stdout",
     "output_type": "stream",
     "text": [
      "Review-1 : \n",
      " I like the mint, but the only reason I have bought these mint are because I like the tin. The tins are very nice. There are a lot of project I can build using these candy tins. The mint is not bad either, very freshing.<br /><br />They sell these mint for $2.50/tin here in San Francisco, so 12 tins will cost me $30, and I saved about 10 dollars to get it here.\n",
      "\n",
      "Review-2 : \n",
      " This is my second review request for this mustard.  Again, I will say that it is my favorite mustard and hard to find in select stores.  I was so happy to see that I could purchase it on Amazon.  This is sure a great place to shop from my mustard to my hard to find shampoos.  This mustard is wonderful on all kind of meats.  My husband is not a mustard lover like me, but he does like this brand and selection.\n",
      "\n",
      "Review-3 : \n",
      " For all you celiacs out there, this is the best cereal ever.  You can eat with milk in the am or dry in the afternoon as a snack.  Great price point when you order without shipping charge.\n",
      "\n"
     ]
    }
   ],
   "source": [
    "# Three Reviews of cluster 2\n",
    "count=1\n",
    "for i in range(3):\n",
    "    if i < len(cluster2):\n",
    "        print('Review-%d : \\n %s\\n'%(count,cluster2[i]))\n",
    "        count +=1"
   ]
  },
  {
   "cell_type": "markdown",
   "metadata": {},
   "source": [
    "# Hierarchical Clustering with 5 clusters"
   ]
  },
  {
   "cell_type": "code",
   "execution_count": 56,
   "metadata": {},
   "outputs": [
    {
     "name": "stdout",
     "output_type": "stream",
     "text": [
      "No. of reviews in Cluster-1 :  2221\n",
      "\n",
      "No. of reviews in Cluster-2 :  751\n",
      "\n",
      "No. of reviews in Cluster-3 :  593\n",
      "\n",
      "No. of reviews in Cluster-4 :  473\n",
      "\n",
      "No. of reviews in Cluster-5 :  962\n"
     ]
    }
   ],
   "source": [
    "model = AgglomerativeClustering(n_clusters=5).fit(data)\n",
    "\n",
    "# Getting all the reviews in different clusters\n",
    "cluster1 = []\n",
    "cluster2 = []\n",
    "cluster3 = []\n",
    "cluster4 = []\n",
    "cluster5 = []\n",
    "\n",
    "for i in range(model.labels_.shape[0]):\n",
    "    if model.labels_[i] == 0:\n",
    "        cluster1.append(reviews[i])\n",
    "    elif model.labels_[i] == 1:\n",
    "        cluster2.append(reviews[i])\n",
    "    elif model.labels_[i] == 2:\n",
    "        cluster3.append(reviews[i])\n",
    "    elif model.labels_[i] == 3:\n",
    "        cluster4.append(reviews[i])\n",
    "    else :\n",
    "        cluster5.append(reviews[i]) \n",
    "        \n",
    "# Number of reviews in different clusters\n",
    "print(\"No. of reviews in Cluster-1 : \",len(cluster1))\n",
    "print(\"\\nNo. of reviews in Cluster-2 : \",len(cluster2))\n",
    "print(\"\\nNo. of reviews in Cluster-3 : \",len(cluster3))\n",
    "print(\"\\nNo. of reviews in Cluster-4 : \",len(cluster4))\n",
    "print(\"\\nNo. of reviews in Cluster-5 : \",len(cluster5))"
   ]
  },
  {
   "cell_type": "code",
   "execution_count": null,
   "metadata": {},
   "outputs": [],
   "source": [
    "# Three Reviews of cluster 1\n",
    "count=1\n",
    "for i in range(3):\n",
    "    if i < len(cluster1):\n",
    "        print('Review-%d : \\n %s\\n'%(count,cluster1[i]))\n",
    "        count +=1"
   ]
  },
  {
   "cell_type": "code",
   "execution_count": 57,
   "metadata": {},
   "outputs": [
    {
     "name": "stdout",
     "output_type": "stream",
     "text": [
      "Review-1 : \n",
      " This is my second review request for this mustard.  Again, I will say that it is my favorite mustard and hard to find in select stores.  I was so happy to see that I could purchase it on Amazon.  This is sure a great place to shop from my mustard to my hard to find shampoos.  This mustard is wonderful on all kind of meats.  My husband is not a mustard lover like me, but he does like this brand and selection.\n",
      "\n",
      "Review-2 : \n",
      " For all you celiacs out there, this is the best cereal ever.  You can eat with milk in the am or dry in the afternoon as a snack.  Great price point when you order without shipping charge.\n",
      "\n",
      "Review-3 : \n",
      " These arrived quickly but the box was really banged up. had to open a couple of bags just to be sure the chips weren't too broken up since I'm selling these in a vending machine, they were pretty crunched, I can't sell these.\n",
      "\n"
     ]
    }
   ],
   "source": [
    "# Three Reviews of cluster 2\n",
    "count=1\n",
    "for i in range(3):\n",
    "    if i < len(cluster2):\n",
    "        print('Review-%d : \\n %s\\n'%(count,cluster2[i]))\n",
    "        count +=1"
   ]
  },
  {
   "cell_type": "code",
   "execution_count": 58,
   "metadata": {},
   "outputs": [
    {
     "name": "stdout",
     "output_type": "stream",
     "text": [
      "Review-1 : \n",
      " This is a good deal.  Pack of 2, one for me and one to give as a gift.  Very easy to use.  I use it at night to make a cup of decaf.  Makes good coffee and you can make coffee your desired strength.  I use 1 scoop of coffee for every 5oz of water.\n",
      "\n",
      "Review-2 : \n",
      " I Have been ordering this k cup cappucino drink for awhile now and have never had a problem! Love it tastes good!\n",
      "\n",
      "Review-3 : \n",
      " This water taste great. We love the bottle. Perfect water for everyone :) I love that it is 1.5 liters because I am trying to drink more water. You will love this water.\n",
      "\n"
     ]
    }
   ],
   "source": [
    "# Three Reviews of cluster 3\n",
    "count=1\n",
    "for i in range(3):\n",
    "    if i < len(cluster3):\n",
    "        print('Review-%d : \\n %s\\n'%(count,cluster3[i]))\n",
    "        count +=1"
   ]
  },
  {
   "cell_type": "code",
   "execution_count": 59,
   "metadata": {},
   "outputs": [
    {
     "name": "stdout",
     "output_type": "stream",
     "text": [
      "Review-1 : \n",
      " Had this in cart and ready to buy when after a bit of research (info not readily available) realized the excessive cost of shipping.  Such cost make this product less than feasible to try?\n",
      "\n",
      "Review-2 : \n",
      " I love this product, well, my cat loves this product. They no longer sell it in the pet stores, I was so grateful to find it on Amazon, my true shopping place.<br /><br />The service was excellent, fast and on time. Would buy again\n",
      "\n",
      "Review-3 : \n",
      " I do not live in the United States, and I am used of Splenda, and where I live nowadays, splenda is very expensive and not easy to find, and I found out that if I order it online from Amazon.com, I will get it much cheaper than where I live.\n",
      "\n"
     ]
    }
   ],
   "source": [
    "# Three Reviews of cluster 4\n",
    "count=1\n",
    "for i in range(3):\n",
    "    if i < len(cluster4):\n",
    "        print('Review-%d : \\n %s\\n'%(count,cluster4[i]))\n",
    "        count +=1"
   ]
  },
  {
   "cell_type": "code",
   "execution_count": 60,
   "metadata": {},
   "outputs": [
    {
     "name": "stdout",
     "output_type": "stream",
     "text": [
      "Review-1 : \n",
      " I like the mint, but the only reason I have bought these mint are because I like the tin. The tins are very nice. There are a lot of project I can build using these candy tins. The mint is not bad either, very freshing.<br /><br />They sell these mint for $2.50/tin here in San Francisco, so 12 tins will cost me $30, and I saved about 10 dollars to get it here.\n",
      "\n",
      "Review-2 : \n",
      " This product is light, not too sweet and very satisfying.  Just what it says it is and shows on the box.  There is no sacrifice of delectable quality in the pursuit of a gluten free product at all.  Needs no frosting at all! Guests told me how wonderful the cake was even when they didn't know it was good for everybody, including us gluten free folk.\n",
      "\n",
      "Review-3 : \n",
      " My 8-month baby always screws up his face like he's being poisoned when you give him something new, so I thought he'd need some time to get used to this.  Not true!  He loved this from the first bite.  And while he tends not to like foods with a lot of texture yet, the rice-in-sauce texture of this food doesn't bother him at all.\n",
      "\n"
     ]
    }
   ],
   "source": [
    "# Three Reviews of cluster 5\n",
    "count=1\n",
    "for i in range(3):\n",
    "    if i < len(cluster5):\n",
    "        print('Review-%d : \\n %s\\n'%(count,cluster5[i]))\n",
    "        count +=1"
   ]
  },
  {
   "cell_type": "markdown",
   "metadata": {},
   "source": [
    "# Hierarchical Clustering with 10 clusters"
   ]
  },
  {
   "cell_type": "code",
   "execution_count": 61,
   "metadata": {},
   "outputs": [],
   "source": [
    "model = AgglomerativeClustering(n_clusters=10).fit(data)\n",
    "# Getting all the reviews in different clusters\n",
    "cluster1 = []\n",
    "cluster2 = []\n",
    "cluster3 = []\n",
    "cluster4 = []\n",
    "cluster5 = []\n",
    "cluster6 = []\n",
    "cluster7 = []\n",
    "cluster8 = []\n",
    "cluster9 = []\n",
    "cluster10 = []\n",
    "\n",
    "for i in range(model.labels_.shape[0]):\n",
    "    if model.labels_[i] == 0:\n",
    "        cluster1.append(reviews[i])\n",
    "    elif model.labels_[i] == 1:\n",
    "        cluster2.append(reviews[i])\n",
    "    elif model.labels_[i] == 2:\n",
    "        cluster3.append(reviews[i])\n",
    "    elif model.labels_[i] == 3:\n",
    "        cluster4.append(reviews[i])\n",
    "    elif model.labels_[i] == 4:\n",
    "        cluster5.append(reviews[i])\n",
    "    elif model.labels_[i] == 5:\n",
    "        cluster6.append(reviews[i])\n",
    "    elif model.labels_[i] == 6:\n",
    "        cluster7.append(reviews[i])\n",
    "    elif model.labels_[i] == 7:\n",
    "        cluster8.append(reviews[i])\n",
    "    elif model.labels_[i] == 8:\n",
    "        cluster9.append(reviews[i])       \n",
    "    else :\n",
    "        cluster10.append(reviews[i])"
   ]
  },
  {
   "cell_type": "code",
   "execution_count": 62,
   "metadata": {},
   "outputs": [
    {
     "name": "stdout",
     "output_type": "stream",
     "text": [
      "No. of reviews in Cluster-1 :  593\n",
      "\n",
      "No. of reviews in Cluster-2 :  962\n",
      "\n",
      "No. of reviews in Cluster-3 :  893\n",
      "\n",
      "No. of reviews in Cluster-4 :  732\n",
      "\n",
      "No. of reviews in Cluster-5 :  447\n",
      "\n",
      "No. of reviews in Cluster-6 :  392\n",
      "\n",
      "No. of reviews in Cluster-7 :  431\n",
      "\n",
      "No. of reviews in Cluster-8 :  320\n",
      "\n",
      "No. of reviews in Cluster-9 :  26\n",
      "\n",
      "No. of reviews in Cluster-10 :  204\n"
     ]
    }
   ],
   "source": [
    "# Number of reviews in different clusters\n",
    "print(\"No. of reviews in Cluster-1 : \",len(cluster1))\n",
    "print(\"\\nNo. of reviews in Cluster-2 : \",len(cluster2))\n",
    "print(\"\\nNo. of reviews in Cluster-3 : \",len(cluster3))\n",
    "print(\"\\nNo. of reviews in Cluster-4 : \",len(cluster4))\n",
    "print(\"\\nNo. of reviews in Cluster-5 : \",len(cluster5)) \n",
    "print(\"\\nNo. of reviews in Cluster-6 : \",len(cluster6))\n",
    "print(\"\\nNo. of reviews in Cluster-7 : \",len(cluster7))\n",
    "print(\"\\nNo. of reviews in Cluster-8 : \",len(cluster8))\n",
    "print(\"\\nNo. of reviews in Cluster-9 : \",len(cluster9))\n",
    "print(\"\\nNo. of reviews in Cluster-10 : \",len(cluster10))"
   ]
  },
  {
   "cell_type": "code",
   "execution_count": 63,
   "metadata": {},
   "outputs": [
    {
     "name": "stdout",
     "output_type": "stream",
     "text": [
      "Review-1 : \n",
      " This is a good deal.  Pack of 2, one for me and one to give as a gift.  Very easy to use.  I use it at night to make a cup of decaf.  Makes good coffee and you can make coffee your desired strength.  I use 1 scoop of coffee for every 5oz of water.\n",
      "\n",
      "Review-2 : \n",
      " I Have been ordering this k cup cappucino drink for awhile now and have never had a problem! Love it tastes good!\n",
      "\n",
      "Review-3 : \n",
      " This water taste great. We love the bottle. Perfect water for everyone :) I love that it is 1.5 liters because I am trying to drink more water. You will love this water.\n",
      "\n"
     ]
    }
   ],
   "source": [
    "# Three Reviews of cluster 1\n",
    "count=1\n",
    "for i in range(3):\n",
    "    if i < len(cluster1):\n",
    "        print('Review-%d : \\n %s\\n'%(count,cluster1[i]))\n",
    "        count +=1"
   ]
  },
  {
   "cell_type": "code",
   "execution_count": 64,
   "metadata": {},
   "outputs": [
    {
     "name": "stdout",
     "output_type": "stream",
     "text": [
      "Review-1 : \n",
      " I like the mint, but the only reason I have bought these mint are because I like the tin. The tins are very nice. There are a lot of project I can build using these candy tins. The mint is not bad either, very freshing.<br /><br />They sell these mint for $2.50/tin here in San Francisco, so 12 tins will cost me $30, and I saved about 10 dollars to get it here.\n",
      "\n",
      "Review-2 : \n",
      " This product is light, not too sweet and very satisfying.  Just what it says it is and shows on the box.  There is no sacrifice of delectable quality in the pursuit of a gluten free product at all.  Needs no frosting at all! Guests told me how wonderful the cake was even when they didn't know it was good for everybody, including us gluten free folk.\n",
      "\n",
      "Review-3 : \n",
      " My 8-month baby always screws up his face like he's being poisoned when you give him something new, so I thought he'd need some time to get used to this.  Not true!  He loved this from the first bite.  And while he tends not to like foods with a lot of texture yet, the rice-in-sauce texture of this food doesn't bother him at all.\n",
      "\n"
     ]
    }
   ],
   "source": [
    "# Three Reviews of cluster 2\n",
    "count=1\n",
    "for i in range(3):\n",
    "    if i < len(cluster2):\n",
    "        print('Review-%d : \\n %s\\n'%(count,cluster2[i]))\n",
    "        count +=1"
   ]
  },
  {
   "cell_type": "code",
   "execution_count": 65,
   "metadata": {},
   "outputs": [
    {
     "name": "stdout",
     "output_type": "stream",
     "text": [
      "Review-1 : \n",
      " Teff in general is a delicious healthy grain, and this Teff is no different.<br />Cook according to pkg. directions and add to morning oatmeal for a hearty healthy breakfast.<br />If I had one wish it would be for it to be \"Organic Brown Teff.\"\n",
      "\n",
      "Review-2 : \n",
      " I made this cake for Christmas 2008.  My family thought this cake was dry and said that didn't taste good.  It actually left a bad aftertaste in the mouth.  I frosted it with Cherrybrook Kitchen Chocolate Frosting Gluten Free and they loved that.  They did not want me to ever repeat this cake but they said they would be happy to have the frosting again.\n",
      "\n",
      "Review-3 : \n",
      " We love Sunbutter! I don't have to worry about using it, as it and the company is completely PEANUT FREE!. Sunbutter taste great, unlike Soy Butter which is gritty and awful tasting. I use Sunbutter for anything that I would use peanut butter for cookies, frostings and candies, dips, etc. Sunbutter has the same consistency and texture as peanut butter and doesn't need refrigeration. When using Sunbutter for baking you do have to cut back to about 1/2 of the baking soda and/or baking powder or you can add a little bit of lemon juice to prevent your baked goods from turning green from the sunflower seeds. If your cookies do turn green it doesn't affect the taste just the looks (guess how I know that little bit of information :). Sunbutter also has a great website at sunbutter dot com with recipes and information about their products. Check out their site and defiantly get some Sunbutter.\n",
      "\n"
     ]
    }
   ],
   "source": [
    "# Three Reviews of cluster 3\n",
    "count=1\n",
    "for i in range(3):\n",
    "    if i < len(cluster3):\n",
    "        print('Review-%d : \\n %s\\n'%(count,cluster3[i]))\n",
    "        count +=1"
   ]
  },
  {
   "cell_type": "code",
   "execution_count": 66,
   "metadata": {},
   "outputs": [
    {
     "name": "stdout",
     "output_type": "stream",
     "text": [
      "Review-1 : \n",
      " Kitchens of India is the closest to a homemade curry we have ever had. We love it. The sauce is great and it is fast, so curry a few times a week is possible. We often make a curry from scratch but it is time consuming and now we can have a good curry whenever we want.  We have also tried the Rogan Josh as well as the Korma. Add some onions and raisins, or a bit of honey. The ingredients have little or no preservatives. The Best!!\n",
      "\n",
      "Review-2 : \n",
      " I was looking for yeast with no added ingredients, and this is not it...<br />Ingredients: Yeast, sorbitan monostearate, ascorbic acid<br />It also came hot off the UPS truck, and I hesitate to open it for fear it is activated and dead.  Will return instead.<br />Not what I was looking for, won't purchase again.\n",
      "\n",
      "Review-3 : \n",
      " My grown kids always dieting love the flavors and that it is carbonated, especially the Pomegranate Berry, my grandkids, whose parents are always watching what they are drinking, love them just as much.  I had one accident with the grandkids who had carried it into my bedroom and spilled on my carpet, I didnt think I was going to be able to get out the pink stain and was very surprised when a rag w/a little cold water got it right out.  My frig is usually the first place the whole family looks to see what flavors I have on hand. I think Sparling Ice Mountain Spring Water is far better that most on the market.\n",
      "\n"
     ]
    }
   ],
   "source": [
    "# Three Reviews of cluster 4\n",
    "count=1\n",
    "for i in range(3):\n",
    "    if i < len(cluster4):\n",
    "        print('Review-%d : \\n %s\\n'%(count,cluster4[i]))\n",
    "        count +=1"
   ]
  },
  {
   "cell_type": "code",
   "execution_count": 67,
   "metadata": {},
   "outputs": [
    {
     "name": "stdout",
     "output_type": "stream",
     "text": [
      "Review-1 : \n",
      " Had this in cart and ready to buy when after a bit of research (info not readily available) realized the excessive cost of shipping.  Such cost make this product less than feasible to try?\n",
      "\n",
      "Review-2 : \n",
      " I love this product, well, my cat loves this product. They no longer sell it in the pet stores, I was so grateful to find it on Amazon, my true shopping place.<br /><br />The service was excellent, fast and on time. Would buy again\n",
      "\n",
      "Review-3 : \n",
      " I do not live in the United States, and I am used of Splenda, and where I live nowadays, splenda is very expensive and not easy to find, and I found out that if I order it online from Amazon.com, I will get it much cheaper than where I live.\n",
      "\n"
     ]
    }
   ],
   "source": [
    "# Three Reviews of cluster 5\n",
    "count=1\n",
    "for i in range(3):\n",
    "    if i < len(cluster5):\n",
    "        print('Review-%d : \\n %s\\n'%(count,cluster5[i]))\n",
    "        count +=1"
   ]
  },
  {
   "cell_type": "code",
   "execution_count": 68,
   "metadata": {},
   "outputs": [
    {
     "name": "stdout",
     "output_type": "stream",
     "text": [
      "Review-1 : \n",
      " Great product. Great price. I use it as a substitute for white sugar in everything from my coffee to cooking and baking. I use Amazon's Subscribe and Save program for this product. Enjoy.\n",
      "\n",
      "Review-2 : \n",
      " I have this item to ship monthly.  I think this is the best honey that I have found.  I tried almost all local honeys, I wanted uncook & unfiltered honey for the best health benefit. I found this is by far the best flavor and consistency.  My honey arrives on time and in good condition.\n",
      "\n",
      "Review-3 : \n",
      " Do not know a lot about this type of tea, so couldn't compare it to other brands. I can say the product is rather strong tasting, but not unpleasantly so. Since a portion is pretty small, that is not much of a problem anyway. I purchased it after reading about its many health benefits. It does open my eyes in the morning, so the caffeine in it is really nice. As recommended by others, I keep it in the refrigerator inside the tin, in its original package, and it's kept fresh-tasting for a couple of weeks now. The color is very bright green, and it does taste healthy--hopefully, it is.\n",
      "\n"
     ]
    }
   ],
   "source": [
    "# Three Reviews of cluster 6\n",
    "count=1\n",
    "for i in range(3):\n",
    "    if i < len(cluster6):\n",
    "        print('Review-%d : \\n %s\\n'%(count,cluster6[i]))\n",
    "        count +=1"
   ]
  },
  {
   "cell_type": "code",
   "execution_count": 69,
   "metadata": {},
   "outputs": [
    {
     "name": "stdout",
     "output_type": "stream",
     "text": [
      "Review-1 : \n",
      " This is my second review request for this mustard.  Again, I will say that it is my favorite mustard and hard to find in select stores.  I was so happy to see that I could purchase it on Amazon.  This is sure a great place to shop from my mustard to my hard to find shampoos.  This mustard is wonderful on all kind of meats.  My husband is not a mustard lover like me, but he does like this brand and selection.\n",
      "\n",
      "Review-2 : \n",
      " For all you celiacs out there, this is the best cereal ever.  You can eat with milk in the am or dry in the afternoon as a snack.  Great price point when you order without shipping charge.\n",
      "\n",
      "Review-3 : \n",
      " These arrived quickly but the box was really banged up. had to open a couple of bags just to be sure the chips weren't too broken up since I'm selling these in a vending machine, they were pretty crunched, I can't sell these.\n",
      "\n"
     ]
    }
   ],
   "source": [
    "# Three Reviews of cluster 7\n",
    "count=1\n",
    "for i in range(3):\n",
    "    if i < len(cluster7):\n",
    "        print('Review-%d : \\n %s\\n'%(count,cluster7[i]))\n",
    "        count +=1"
   ]
  },
  {
   "cell_type": "code",
   "execution_count": 70,
   "metadata": {},
   "outputs": [
    {
     "name": "stdout",
     "output_type": "stream",
     "text": [
      "Review-1 : \n",
      " Like others, I cannot order this product w/o an ingredients list.  Amazon, people with food allergies, intolerances, or other dietary restrictions need complete information!  Thank you and please resend the G-F for Betty Crocker notice when ingredients lists are included.\n",
      "\n",
      "Review-2 : \n",
      " My son is 7 months old and this has always been his favorite baby food - it is nice a thick, which he loves!\n",
      "\n",
      "Review-3 : \n",
      " The dog food got good ratings at consumers, so I bought it and the dogs just love it.. It seems to be a very healtful and complete food.. I just add a little hot water and its gobbled up in no time\n",
      "\n"
     ]
    }
   ],
   "source": [
    "# Three Reviews of cluster 8\n",
    "count=1\n",
    "for i in range(3):\n",
    "    if i < len(cluster8):\n",
    "        print('Review-%d : \\n %s\\n'%(count,cluster8[i]))\n",
    "        count +=1"
   ]
  },
  {
   "cell_type": "code",
   "execution_count": 71,
   "metadata": {},
   "outputs": [
    {
     "name": "stdout",
     "output_type": "stream",
     "text": [
      "Review-1 : \n",
      " Smells tempting when its being brewed but the flavor just isnt there.  I will not purchase this again.  I gave the other 2 bags away as gifts (because my roommates weren't impressed with the flavor either).\n",
      "\n",
      "Review-2 : \n",
      " Great drink for working out. I was paying $5 at 24 hour for each drink now got a case of them for cheap.\n",
      "\n",
      "Review-3 : \n",
      " Wanted to try the best coffee in the world. Recieved as promised and enjoyed from the first cup. Would order again.\n",
      "\n"
     ]
    }
   ],
   "source": [
    "# Three Reviews of cluster 9\n",
    "count=1\n",
    "for i in range(3):\n",
    "    if i < len(cluster9):\n",
    "        print('Review-%d : \\n %s\\n'%(count,cluster10[i]))\n",
    "        count +=1"
   ]
  },
  {
   "cell_type": "code",
   "execution_count": 72,
   "metadata": {},
   "outputs": [
    {
     "name": "stdout",
     "output_type": "stream",
     "text": [
      "Review-1 : \n",
      " Smells tempting when its being brewed but the flavor just isnt there.  I will not purchase this again.  I gave the other 2 bags away as gifts (because my roommates weren't impressed with the flavor either).\n",
      "\n",
      "Review-2 : \n",
      " Great drink for working out. I was paying $5 at 24 hour for each drink now got a case of them for cheap.\n",
      "\n",
      "Review-3 : \n",
      " Wanted to try the best coffee in the world. Recieved as promised and enjoyed from the first cup. Would order again.\n",
      "\n"
     ]
    }
   ],
   "source": [
    "# Three Reviews of cluster 10\n",
    "count=1\n",
    "for i in range(3):\n",
    "    if i < len(cluster10):\n",
    "        print('Review-%d : \\n %s\\n'%(count,cluster10[i]))\n",
    "        count +=1"
   ]
  },
  {
   "cell_type": "markdown",
   "metadata": {},
   "source": [
    "# TFIDF-Word2Vec"
   ]
  },
  {
   "cell_type": "code",
   "execution_count": 73,
   "metadata": {},
   "outputs": [],
   "source": [
    "tf_idf_vect = TfidfVectorizer()\n",
    "\n",
    "# final_tf_idf1 is the sparse matrix with row= sentence, col=word and cell_val = tfidf\n",
    "final_tf_idf1 = tf_idf_vect.fit_transform(x)\n",
    "\n",
    "# tfidf words/col-names\n",
    "tfidf_feat = tf_idf_vect.get_feature_names()\n",
    "\n",
    "# compute TFIDF Weighted Word2Vec for each review for sent_x .\n",
    "tfidf_vectors = []; \n",
    "row=0;\n",
    "for sent in sent_x: \n",
    "    sent_vec = np.zeros(50) \n",
    "    weight_sum =0; \n",
    "    for word in sent: \n",
    "        if word in w2v_words:\n",
    "            vec = w2v_model.wv[word]\n",
    "            # obtain the tf_idfidf of a word in a sentence/review\n",
    "            tf_idf = final_tf_idf1[row, tfidf_feat.index(word)]\n",
    "            sent_vec += (vec * tf_idf)\n",
    "            weight_sum += tf_idf\n",
    "    if weight_sum != 0:\n",
    "        sent_vec /= weight_sum\n",
    "    tfidf_vectors.append(sent_vec)\n",
    "    row += 1 \n",
    "    \n",
    "data = tfidf_vectors"
   ]
  },
  {
   "cell_type": "markdown",
   "metadata": {},
   "source": [
    "# Hierarchical Clustering with 2 clusters"
   ]
  },
  {
   "cell_type": "code",
   "execution_count": 74,
   "metadata": {},
   "outputs": [
    {
     "name": "stdout",
     "output_type": "stream",
     "text": [
      "No. of reviews in Cluster-1 :  3830\n",
      "\n",
      "No. of reviews in Cluster-2 :  1170\n"
     ]
    }
   ],
   "source": [
    "model = AgglomerativeClustering(n_clusters=2).fit(data)\n",
    "\n",
    "reviews = my_final['Text'].values\n",
    "# Getting all the reviews in different clusters\n",
    "cluster1 = []\n",
    "cluster2 = []\n",
    "\n",
    "for i in range(model.labels_.shape[0]):\n",
    "    if model.labels_[i] == 0:\n",
    "        cluster1.append(reviews[i])\n",
    "    else :\n",
    "        cluster2.append(reviews[i])\n",
    " \n",
    "        \n",
    "# Number of reviews in different clusters\n",
    "print(\"No. of reviews in Cluster-1 : \",len(cluster1))\n",
    "print(\"\\nNo. of reviews in Cluster-2 : \",len(cluster2))"
   ]
  },
  {
   "cell_type": "code",
   "execution_count": 75,
   "metadata": {},
   "outputs": [
    {
     "name": "stdout",
     "output_type": "stream",
     "text": [
      "Review-1 : \n",
      " I like the mint, but the only reason I have bought these mint are because I like the tin. The tins are very nice. There are a lot of project I can build using these candy tins. The mint is not bad either, very freshing.<br /><br />They sell these mint for $2.50/tin here in San Francisco, so 12 tins will cost me $30, and I saved about 10 dollars to get it here.\n",
      "\n",
      "Review-2 : \n",
      " This is my second review request for this mustard.  Again, I will say that it is my favorite mustard and hard to find in select stores.  I was so happy to see that I could purchase it on Amazon.  This is sure a great place to shop from my mustard to my hard to find shampoos.  This mustard is wonderful on all kind of meats.  My husband is not a mustard lover like me, but he does like this brand and selection.\n",
      "\n",
      "Review-3 : \n",
      " Great product. Great price. I use it as a substitute for white sugar in everything from my coffee to cooking and baking. I use Amazon's Subscribe and Save program for this product. Enjoy.\n",
      "\n"
     ]
    }
   ],
   "source": [
    "# Three Reviews of cluster 1\n",
    "count=1\n",
    "for i in range(3):\n",
    "    if i < len(cluster1):\n",
    "        print('Review-%d : \\n %s\\n'%(count,cluster1[i]))\n",
    "        count +=1"
   ]
  },
  {
   "cell_type": "code",
   "execution_count": 76,
   "metadata": {},
   "outputs": [
    {
     "name": "stdout",
     "output_type": "stream",
     "text": [
      "Review-1 : \n",
      " Smells tempting when its being brewed but the flavor just isnt there.  I will not purchase this again.  I gave the other 2 bags away as gifts (because my roommates weren't impressed with the flavor either).\n",
      "\n",
      "Review-2 : \n",
      " This is a good deal.  Pack of 2, one for me and one to give as a gift.  Very easy to use.  I use it at night to make a cup of decaf.  Makes good coffee and you can make coffee your desired strength.  I use 1 scoop of coffee for every 5oz of water.\n",
      "\n",
      "Review-3 : \n",
      " I Have been ordering this k cup cappucino drink for awhile now and have never had a problem! Love it tastes good!\n",
      "\n"
     ]
    }
   ],
   "source": [
    "# Three Reviews of cluster 2\n",
    "count=1\n",
    "for i in range(3):\n",
    "    if i < len(cluster2):\n",
    "        print('Review-%d : \\n %s\\n'%(count,cluster2[i]))\n",
    "        count +=1"
   ]
  },
  {
   "cell_type": "markdown",
   "metadata": {},
   "source": [
    "# Hierarchical Clustering with 5 clusters"
   ]
  },
  {
   "cell_type": "code",
   "execution_count": 77,
   "metadata": {},
   "outputs": [
    {
     "name": "stdout",
     "output_type": "stream",
     "text": [
      "No. of reviews in Cluster-1 :  1170\n",
      "\n",
      "No. of reviews in Cluster-2 :  812\n",
      "\n",
      "No. of reviews in Cluster-3 :  2173\n",
      "\n",
      "No. of reviews in Cluster-4 :  490\n",
      "\n",
      "No. of reviews in Cluster-5 :  355\n"
     ]
    }
   ],
   "source": [
    "model = AgglomerativeClustering(n_clusters=5).fit(data)\n",
    "\n",
    "# Getting all the reviews in different clusters\n",
    "cluster1 = []\n",
    "cluster2 = []\n",
    "cluster3 = []\n",
    "cluster4 = []\n",
    "cluster5 = []\n",
    "\n",
    "for i in range(model.labels_.shape[0]):\n",
    "    if model.labels_[i] == 0:\n",
    "        cluster1.append(reviews[i])\n",
    "    elif model.labels_[i] == 1:\n",
    "        cluster2.append(reviews[i])\n",
    "    elif model.labels_[i] == 2:\n",
    "        cluster3.append(reviews[i])\n",
    "    elif model.labels_[i] == 3:\n",
    "        cluster4.append(reviews[i])\n",
    "    else :\n",
    "        cluster5.append(reviews[i]) \n",
    "        \n",
    "# Number of reviews in different clusters\n",
    "print(\"No. of reviews in Cluster-1 : \",len(cluster1))\n",
    "print(\"\\nNo. of reviews in Cluster-2 : \",len(cluster2))\n",
    "print(\"\\nNo. of reviews in Cluster-3 : \",len(cluster3))\n",
    "print(\"\\nNo. of reviews in Cluster-4 : \",len(cluster4))\n",
    "print(\"\\nNo. of reviews in Cluster-5 : \",len(cluster5))"
   ]
  },
  {
   "cell_type": "code",
   "execution_count": 78,
   "metadata": {},
   "outputs": [
    {
     "name": "stdout",
     "output_type": "stream",
     "text": [
      "Review-1 : \n",
      " Smells tempting when its being brewed but the flavor just isnt there.  I will not purchase this again.  I gave the other 2 bags away as gifts (because my roommates weren't impressed with the flavor either).\n",
      "\n",
      "Review-2 : \n",
      " This is a good deal.  Pack of 2, one for me and one to give as a gift.  Very easy to use.  I use it at night to make a cup of decaf.  Makes good coffee and you can make coffee your desired strength.  I use 1 scoop of coffee for every 5oz of water.\n",
      "\n",
      "Review-3 : \n",
      " I Have been ordering this k cup cappucino drink for awhile now and have never had a problem! Love it tastes good!\n",
      "\n"
     ]
    }
   ],
   "source": [
    "# Three Reviews of cluster 1\n",
    "count=1\n",
    "for i in range(3):\n",
    "    if i < len(cluster1):\n",
    "        print('Review-%d : \\n %s\\n'%(count,cluster1[i]))\n",
    "        count +=1"
   ]
  },
  {
   "cell_type": "code",
   "execution_count": 79,
   "metadata": {},
   "outputs": [
    {
     "name": "stdout",
     "output_type": "stream",
     "text": [
      "Review-1 : \n",
      " I like the mint, but the only reason I have bought these mint are because I like the tin. The tins are very nice. There are a lot of project I can build using these candy tins. The mint is not bad either, very freshing.<br /><br />They sell these mint for $2.50/tin here in San Francisco, so 12 tins will cost me $30, and I saved about 10 dollars to get it here.\n",
      "\n",
      "Review-2 : \n",
      " These are just great.  Even my dog liked them, stealing a pack off a coffee table and eating darned near the whole thing.\n",
      "\n",
      "Review-3 : \n",
      " I was looking for yeast with no added ingredients, and this is not it...<br />Ingredients: Yeast, sorbitan monostearate, ascorbic acid<br />It also came hot off the UPS truck, and I hesitate to open it for fear it is activated and dead.  Will return instead.<br />Not what I was looking for, won't purchase again.\n",
      "\n"
     ]
    }
   ],
   "source": [
    "# Three Reviews of cluster 2\n",
    "count=1\n",
    "for i in range(3):\n",
    "    if i < len(cluster2):\n",
    "        print('Review-%d : \\n %s\\n'%(count,cluster2[i]))\n",
    "        count +=1"
   ]
  },
  {
   "cell_type": "code",
   "execution_count": 80,
   "metadata": {},
   "outputs": [
    {
     "name": "stdout",
     "output_type": "stream",
     "text": [
      "Review-1 : \n",
      " This is my second review request for this mustard.  Again, I will say that it is my favorite mustard and hard to find in select stores.  I was so happy to see that I could purchase it on Amazon.  This is sure a great place to shop from my mustard to my hard to find shampoos.  This mustard is wonderful on all kind of meats.  My husband is not a mustard lover like me, but he does like this brand and selection.\n",
      "\n",
      "Review-2 : \n",
      " Great product. Great price. I use it as a substitute for white sugar in everything from my coffee to cooking and baking. I use Amazon's Subscribe and Save program for this product. Enjoy.\n",
      "\n",
      "Review-3 : \n",
      " For all you celiacs out there, this is the best cereal ever.  You can eat with milk in the am or dry in the afternoon as a snack.  Great price point when you order without shipping charge.\n",
      "\n"
     ]
    }
   ],
   "source": [
    "# Three Reviews of cluster 3\n",
    "count=1\n",
    "for i in range(3):\n",
    "    if i < len(cluster3):\n",
    "        print('Review-%d : \\n %s\\n'%(count,cluster3[i]))\n",
    "        count +=1"
   ]
  },
  {
   "cell_type": "code",
   "execution_count": 81,
   "metadata": {},
   "outputs": [
    {
     "name": "stdout",
     "output_type": "stream",
     "text": [
      "Review-1 : \n",
      " These arrived quickly but the box was really banged up. had to open a couple of bags just to be sure the chips weren't too broken up since I'm selling these in a vending machine, they were pretty crunched, I can't sell these.\n",
      "\n",
      "Review-2 : \n",
      " I have a serious addiction to this gum but cannot find it anywhere except online. I go through at least a pack a day. I used to chew Peppermint or Spearmint or Winterfrost but I can't chew anything but Exotic Mint any more. The flavor is just right and it lasts forever.<br /><br />Seriously, if you see this gum in a store, buy all of it. It's like little candy gold bullion. I have opted to pay twice as much online for this gum versus gum I can buy on the store shelves just so I can get this particular flavor. Who would do that if the gum weren't the best gum ever? Nobody. That's who.<br /><br />I also wrote Wrigley to see if they'll send me a year-supply for free. Cross your fingers and wish me luck.\n",
      "\n",
      "Review-3 : \n",
      " These cashews are of decent quality and at a good price.  They are not always whole as pointed out by another reviewer, but for the price they are a nice deal and taste fine.\n",
      "\n"
     ]
    }
   ],
   "source": [
    "# Three Reviews of cluster 4\n",
    "count=1\n",
    "for i in range(3):\n",
    "    if i < len(cluster4):\n",
    "        print('Review-%d : \\n %s\\n'%(count,cluster4[i]))\n",
    "        count +=1"
   ]
  },
  {
   "cell_type": "code",
   "execution_count": 82,
   "metadata": {},
   "outputs": [
    {
     "name": "stdout",
     "output_type": "stream",
     "text": [
      "Review-1 : \n",
      " My 8-month baby always screws up his face like he's being poisoned when you give him something new, so I thought he'd need some time to get used to this.  Not true!  He loved this from the first bite.  And while he tends not to like foods with a lot of texture yet, the rice-in-sauce texture of this food doesn't bother him at all.\n",
      "\n",
      "Review-2 : \n",
      " My son is 7 months old and this has always been his favorite baby food - it is nice a thick, which he loves!\n",
      "\n",
      "Review-3 : \n",
      " The dog food got good ratings at consumers, so I bought it and the dogs just love it.. It seems to be a very healtful and complete food.. I just add a little hot water and its gobbled up in no time\n",
      "\n"
     ]
    }
   ],
   "source": [
    "# Three Reviews of cluster 5\n",
    "count=1\n",
    "for i in range(3):\n",
    "    if i < len(cluster5):\n",
    "        print('Review-%d : \\n %s\\n'%(count,cluster5[i]))\n",
    "        count +=1"
   ]
  },
  {
   "cell_type": "markdown",
   "metadata": {},
   "source": [
    "# Hierarchical Clustering with 10 clusters"
   ]
  },
  {
   "cell_type": "code",
   "execution_count": 83,
   "metadata": {},
   "outputs": [],
   "source": [
    "model = AgglomerativeClustering(n_clusters=10).fit(data)\n",
    "# Getting all the reviews in different clusters\n",
    "cluster1 = []\n",
    "cluster2 = []\n",
    "cluster3 = []\n",
    "cluster4 = []\n",
    "cluster5 = []\n",
    "cluster6 = []\n",
    "cluster7 = []\n",
    "cluster8 = []\n",
    "cluster9 = []\n",
    "cluster10 = []\n",
    "\n",
    "for i in range(model.labels_.shape[0]):\n",
    "    if model.labels_[i] == 0:\n",
    "        cluster1.append(reviews[i])\n",
    "    elif model.labels_[i] == 1:\n",
    "        cluster2.append(reviews[i])\n",
    "    elif model.labels_[i] == 2:\n",
    "        cluster3.append(reviews[i])\n",
    "    elif model.labels_[i] == 3:\n",
    "        cluster4.append(reviews[i])\n",
    "    elif model.labels_[i] == 4:\n",
    "        cluster5.append(reviews[i])\n",
    "    elif model.labels_[i] == 5:\n",
    "        cluster6.append(reviews[i])\n",
    "    elif model.labels_[i] == 6:\n",
    "        cluster7.append(reviews[i])\n",
    "    elif model.labels_[i] == 7:\n",
    "        cluster8.append(reviews[i])\n",
    "    elif model.labels_[i] == 8:\n",
    "        cluster9.append(reviews[i])       \n",
    "    else :\n",
    "        cluster10.append(reviews[i])"
   ]
  },
  {
   "cell_type": "code",
   "execution_count": 84,
   "metadata": {},
   "outputs": [
    {
     "name": "stdout",
     "output_type": "stream",
     "text": [
      "No. of reviews in Cluster-1 :  330\n",
      "\n",
      "No. of reviews in Cluster-2 :  1409\n",
      "\n",
      "No. of reviews in Cluster-3 :  649\n",
      "\n",
      "No. of reviews in Cluster-4 :  446\n",
      "\n",
      "No. of reviews in Cluster-5 :  355\n",
      "\n",
      "No. of reviews in Cluster-6 :  419\n",
      "\n",
      "No. of reviews in Cluster-7 :  764\n",
      "\n",
      "No. of reviews in Cluster-8 :  366\n",
      "\n",
      "No. of reviews in Cluster-9 :  71\n",
      "\n",
      "No. of reviews in Cluster-10 :  191\n"
     ]
    }
   ],
   "source": [
    "print(\"No. of reviews in Cluster-1 : \",len(cluster1))\n",
    "print(\"\\nNo. of reviews in Cluster-2 : \",len(cluster2))\n",
    "print(\"\\nNo. of reviews in Cluster-3 : \",len(cluster3))\n",
    "print(\"\\nNo. of reviews in Cluster-4 : \",len(cluster4))\n",
    "print(\"\\nNo. of reviews in Cluster-5 : \",len(cluster5)) \n",
    "print(\"\\nNo. of reviews in Cluster-6 : \",len(cluster6))\n",
    "print(\"\\nNo. of reviews in Cluster-7 : \",len(cluster7))\n",
    "print(\"\\nNo. of reviews in Cluster-8 : \",len(cluster8))\n",
    "print(\"\\nNo. of reviews in Cluster-9 : \",len(cluster9))\n",
    "print(\"\\nNo. of reviews in Cluster-10 : \",len(cluster10))"
   ]
  },
  {
   "cell_type": "code",
   "execution_count": 85,
   "metadata": {},
   "outputs": [
    {
     "name": "stdout",
     "output_type": "stream",
     "text": [
      "Review-1 : \n",
      " This is a good deal.  Pack of 2, one for me and one to give as a gift.  Very easy to use.  I use it at night to make a cup of decaf.  Makes good coffee and you can make coffee your desired strength.  I use 1 scoop of coffee for every 5oz of water.\n",
      "\n",
      "Review-2 : \n",
      " This water taste great. We love the bottle. Perfect water for everyone :) I love that it is 1.5 liters because I am trying to drink more water. You will love this water.\n",
      "\n",
      "Review-3 : \n",
      " This English Breakfast tea from Higgins & Burke, is good: it's basic, good tasting black tea (English Breakfast blend) and is tasty.  I wasn't blown away by the flavor, but it was good: I enjoyed the tea, it brewed up quickly in these nice tea bags (I recommend about one minute of brew time), and then added a splash of cream: it was quite nice!\n",
      "\n"
     ]
    }
   ],
   "source": [
    "# Three Reviews of cluster 1\n",
    "count=1\n",
    "for i in range(3):\n",
    "    if i < len(cluster1):\n",
    "        print('Review-%d : \\n %s\\n'%(count,cluster1[i]))\n",
    "        count +=1"
   ]
  },
  {
   "cell_type": "code",
   "execution_count": 86,
   "metadata": {},
   "outputs": [
    {
     "name": "stdout",
     "output_type": "stream",
     "text": [
      "Review-1 : \n",
      " Kitchens of India is the closest to a homemade curry we have ever had. We love it. The sauce is great and it is fast, so curry a few times a week is possible. We often make a curry from scratch but it is time consuming and now we can have a good curry whenever we want.  We have also tried the Rogan Josh as well as the Korma. Add some onions and raisins, or a bit of honey. The ingredients have little or no preservatives. The Best!!\n",
      "\n",
      "Review-2 : \n",
      " Teff in general is a delicious healthy grain, and this Teff is no different.<br />Cook according to pkg. directions and add to morning oatmeal for a hearty healthy breakfast.<br />If I had one wish it would be for it to be \"Organic Brown Teff.\"\n",
      "\n",
      "Review-3 : \n",
      " I have this item to ship monthly.  I think this is the best honey that I have found.  I tried almost all local honeys, I wanted uncook & unfiltered honey for the best health benefit. I found this is by far the best flavor and consistency.  My honey arrives on time and in good condition.\n",
      "\n"
     ]
    }
   ],
   "source": [
    "# Three Reviews of cluster 2\n",
    "count=1\n",
    "for i in range(3):\n",
    "    if i < len(cluster2):\n",
    "        print('Review-%d : \\n %s\\n'%(count,cluster2[i]))\n",
    "        count +=1"
   ]
  },
  {
   "cell_type": "code",
   "execution_count": 87,
   "metadata": {},
   "outputs": [
    {
     "name": "stdout",
     "output_type": "stream",
     "text": [
      "Review-1 : \n",
      " Smells tempting when its being brewed but the flavor just isnt there.  I will not purchase this again.  I gave the other 2 bags away as gifts (because my roommates weren't impressed with the flavor either).\n",
      "\n",
      "Review-2 : \n",
      " I Have been ordering this k cup cappucino drink for awhile now and have never had a problem! Love it tastes good!\n",
      "\n",
      "Review-3 : \n",
      " Preparation could not be easier.  The flavor was wonderful.  My son who almost never salts anything found it a bit salty for him.  My Mom who should not eat salt said she thought it was a bit salty too.\n",
      "\n"
     ]
    }
   ],
   "source": [
    "# Three Reviews of cluster 3\n",
    "count=1\n",
    "for i in range(3):\n",
    "    if i < len(cluster3):\n",
    "        print('Review-%d : \\n %s\\n'%(count,cluster3[i]))\n",
    "        count +=1"
   ]
  },
  {
   "cell_type": "code",
   "execution_count": 88,
   "metadata": {},
   "outputs": [
    {
     "name": "stdout",
     "output_type": "stream",
     "text": [
      "Review-1 : \n",
      " I like the mint, but the only reason I have bought these mint are because I like the tin. The tins are very nice. There are a lot of project I can build using these candy tins. The mint is not bad either, very freshing.<br /><br />They sell these mint for $2.50/tin here in San Francisco, so 12 tins will cost me $30, and I saved about 10 dollars to get it here.\n",
      "\n",
      "Review-2 : \n",
      " These are always going to be more expensive than buying the single big pack - remember when oreos were packed into three plastic tubes in a plastic box.<br /><br />These oreos always come out crunchy with a very pliable filling that can be easily nudged-rolled off if you don't like the filling.  If Nabisco sold individually wrapped cookies, I'd pay the extra money as I usually only want one cookie.<br /><br />I will always choose to buy oreos packaged in as small a serving as possible despite the expense unless I get some kind of vacuum sealer.\n",
      "\n",
      "Review-3 : \n",
      " When I purchaed this item, I thought it will be normal size lollipop... But when I opened, I was really disappointed.. It's so tiny(I'm talking about finger size lollipop)  it's not worth spending That much money.. I should of just went to candy store... I could of found better lollipop! And With that money I could of found more and left with some change!,\n",
      "\n"
     ]
    }
   ],
   "source": [
    "# Three Reviews of cluster 4\n",
    "count=1\n",
    "for i in range(3):\n",
    "    if i < len(cluster4):\n",
    "        print('Review-%d : \\n %s\\n'%(count,cluster4[i]))\n",
    "        count +=1"
   ]
  },
  {
   "cell_type": "code",
   "execution_count": 89,
   "metadata": {},
   "outputs": [
    {
     "name": "stdout",
     "output_type": "stream",
     "text": [
      "Review-1 : \n",
      " My 8-month baby always screws up his face like he's being poisoned when you give him something new, so I thought he'd need some time to get used to this.  Not true!  He loved this from the first bite.  And while he tends not to like foods with a lot of texture yet, the rice-in-sauce texture of this food doesn't bother him at all.\n",
      "\n",
      "Review-2 : \n",
      " My son is 7 months old and this has always been his favorite baby food - it is nice a thick, which he loves!\n",
      "\n",
      "Review-3 : \n",
      " The dog food got good ratings at consumers, so I bought it and the dogs just love it.. It seems to be a very healtful and complete food.. I just add a little hot water and its gobbled up in no time\n",
      "\n"
     ]
    }
   ],
   "source": [
    "# Three Reviews of cluster 5\n",
    "count=1\n",
    "for i in range(3):\n",
    "    if i < len(cluster5):\n",
    "        print('Review-%d : \\n %s\\n'%(count,cluster5[i]))\n",
    "        count +=1"
   ]
  },
  {
   "cell_type": "code",
   "execution_count": 90,
   "metadata": {},
   "outputs": [
    {
     "name": "stdout",
     "output_type": "stream",
     "text": [
      "Review-1 : \n",
      " These arrived quickly but the box was really banged up. had to open a couple of bags just to be sure the chips weren't too broken up since I'm selling these in a vending machine, they were pretty crunched, I can't sell these.\n",
      "\n",
      "Review-2 : \n",
      " I have a serious addiction to this gum but cannot find it anywhere except online. I go through at least a pack a day. I used to chew Peppermint or Spearmint or Winterfrost but I can't chew anything but Exotic Mint any more. The flavor is just right and it lasts forever.<br /><br />Seriously, if you see this gum in a store, buy all of it. It's like little candy gold bullion. I have opted to pay twice as much online for this gum versus gum I can buy on the store shelves just so I can get this particular flavor. Who would do that if the gum weren't the best gum ever? Nobody. That's who.<br /><br />I also wrote Wrigley to see if they'll send me a year-supply for free. Cross your fingers and wish me luck.\n",
      "\n",
      "Review-3 : \n",
      " These cashews are of decent quality and at a good price.  They are not always whole as pointed out by another reviewer, but for the price they are a nice deal and taste fine.\n",
      "\n"
     ]
    }
   ],
   "source": [
    "# Three Reviews of cluster 6\n",
    "count=1\n",
    "for i in range(3):\n",
    "    if i < len(cluster6):\n",
    "        print('Review-%d : \\n %s\\n'%(count,cluster6[i]))\n",
    "        count +=1"
   ]
  },
  {
   "cell_type": "code",
   "execution_count": 91,
   "metadata": {},
   "outputs": [
    {
     "name": "stdout",
     "output_type": "stream",
     "text": [
      "Review-1 : \n",
      " This is my second review request for this mustard.  Again, I will say that it is my favorite mustard and hard to find in select stores.  I was so happy to see that I could purchase it on Amazon.  This is sure a great place to shop from my mustard to my hard to find shampoos.  This mustard is wonderful on all kind of meats.  My husband is not a mustard lover like me, but he does like this brand and selection.\n",
      "\n",
      "Review-2 : \n",
      " Great product. Great price. I use it as a substitute for white sugar in everything from my coffee to cooking and baking. I use Amazon's Subscribe and Save program for this product. Enjoy.\n",
      "\n",
      "Review-3 : \n",
      " For all you celiacs out there, this is the best cereal ever.  You can eat with milk in the am or dry in the afternoon as a snack.  Great price point when you order without shipping charge.\n",
      "\n"
     ]
    }
   ],
   "source": [
    "# Three Reviews of cluster 7\n",
    "count=1\n",
    "for i in range(3):\n",
    "    if i < len(cluster7):\n",
    "        print('Review-%d : \\n %s\\n'%(count,cluster7[i]))\n",
    "        count +=1"
   ]
  },
  {
   "cell_type": "code",
   "execution_count": 92,
   "metadata": {},
   "outputs": [
    {
     "name": "stdout",
     "output_type": "stream",
     "text": [
      "Review-1 : \n",
      " These are just great.  Even my dog liked them, stealing a pack off a coffee table and eating darned near the whole thing.\n",
      "\n",
      "Review-2 : \n",
      " I was looking for yeast with no added ingredients, and this is not it...<br />Ingredients: Yeast, sorbitan monostearate, ascorbic acid<br />It also came hot off the UPS truck, and I hesitate to open it for fear it is activated and dead.  Will return instead.<br />Not what I was looking for, won't purchase again.\n",
      "\n",
      "Review-3 : \n",
      " We love Sunbutter! I don't have to worry about using it, as it and the company is completely PEANUT FREE!. Sunbutter taste great, unlike Soy Butter which is gritty and awful tasting. I use Sunbutter for anything that I would use peanut butter for cookies, frostings and candies, dips, etc. Sunbutter has the same consistency and texture as peanut butter and doesn't need refrigeration. When using Sunbutter for baking you do have to cut back to about 1/2 of the baking soda and/or baking powder or you can add a little bit of lemon juice to prevent your baked goods from turning green from the sunflower seeds. If your cookies do turn green it doesn't affect the taste just the looks (guess how I know that little bit of information :). Sunbutter also has a great website at sunbutter dot com with recipes and information about their products. Check out their site and defiantly get some Sunbutter.\n",
      "\n"
     ]
    }
   ],
   "source": [
    "# Three Reviews of cluster 8\n",
    "count=1\n",
    "for i in range(3):\n",
    "    if i < len(cluster8):\n",
    "        print('Review-%d : \\n %s\\n'%(count,cluster8[i]))\n",
    "        count +=1"
   ]
  },
  {
   "cell_type": "code",
   "execution_count": 93,
   "metadata": {},
   "outputs": [
    {
     "name": "stdout",
     "output_type": "stream",
     "text": [
      "Review-1 : \n",
      " My daughter eats these bars on a daily basis.  I usually purchase these at the local grocery store and thought is would be cost effective to order through Amazon.  My grocery store charges $.99 per bar.  Amazon's price is $1.44 per bar.\n",
      "\n",
      "Review-2 : \n",
      " These sell in organic shops and deli's for twice what you will pay on Amazon.  They are always a hit at parties or family get togethers so you will need a case which is what Amazon sells.\n",
      "\n",
      "Review-3 : \n",
      " I ordered the 10-bag product and only received 6 bags.  Do not order from this company as it does not fulfill it's obligations to their customers.  I could have tolerated the 10-day wait for the order to come in if it had been exactly what I ordered, but it wasn't.\n",
      "\n"
     ]
    }
   ],
   "source": [
    "# Three Reviews of cluster 9\n",
    "count=1\n",
    "for i in range(3):\n",
    "    if i < len(cluster9):\n",
    "        print('Review-%d : \\n %s\\n'%(count,cluster9[i]))\n",
    "        count +=1"
   ]
  },
  {
   "cell_type": "code",
   "execution_count": 94,
   "metadata": {},
   "outputs": [
    {
     "name": "stdout",
     "output_type": "stream",
     "text": [
      "Review-1 : \n",
      " Very strong Ginger flavor, mild carbonation, I like that. You must like Ginger Ale to like this. The small bottles are about the right size, as their is more flavor in 7 Ounce bottle then anyone else has in 12.\n",
      "\n",
      "Review-2 : \n",
      " Even the \"plain\" flavor was much better than I expected. I had my heart set on getting the Vanilla Bean, but it was often out of stock. I opted for to try other flavors to test others and was surprised by how good tasting they all were. I actually enjoy matching my workout moods with the different flavors! Now I will just get this mixed flavors box every time.\n",
      "\n",
      "Review-3 : \n",
      " This is definitely my favorite new drink mix in the Mocktail line by Crystal Light.  It's a great tasting lime flavored drink.  The artificial sweetener gives this a very slight aftertaste, but just slight.  And I like the fact that it is only 5 calories per serving.  Each pouch makes enough to fill a large pitcher.  There isn't any type of alcohol flavor, which is fine with me.  It's a very refreshing drink.  I can drink this stuff all day!\n",
      "\n"
     ]
    }
   ],
   "source": [
    "# Three Reviews of cluster 10\n",
    "count=1\n",
    "for i in range(3):\n",
    "    if i < len(cluster10):\n",
    "        print('Review-%d : \\n %s\\n'%(count,cluster10[i]))\n",
    "        count +=1"
   ]
  },
  {
   "cell_type": "code",
   "execution_count": null,
   "metadata": {},
   "outputs": [],
   "source": []
  }
 ],
 "metadata": {
  "kernelspec": {
   "display_name": "Python 3",
   "language": "python",
   "name": "python3"
  },
  "language_info": {
   "codemirror_mode": {
    "name": "ipython",
    "version": 3
   },
   "file_extension": ".py",
   "mimetype": "text/x-python",
   "name": "python",
   "nbconvert_exporter": "python",
   "pygments_lexer": "ipython3",
   "version": "3.7.0"
  }
 },
 "nbformat": 4,
 "nbformat_minor": 2
}
